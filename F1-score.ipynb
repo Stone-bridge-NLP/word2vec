{
 "cells": [
  {
   "cell_type": "code",
   "execution_count": 1,
   "metadata": {},
   "outputs": [],
   "source": [
    "import os\n",
    "import re\n",
    "import string\n",
    "import numpy as np\n",
    "\n",
    "import tensorflow as tf\n",
    "from tensorflow.keras import layers\n",
    "from sklearn.metrics import f1_score"
   ]
  },
  {
   "cell_type": "code",
   "execution_count": 2,
   "metadata": {},
   "outputs": [
    {
     "data": {
      "text/html": [
       "<div>\n",
       "<style scoped>\n",
       "    .dataframe tbody tr th:only-of-type {\n",
       "        vertical-align: middle;\n",
       "    }\n",
       "\n",
       "    .dataframe tbody tr th {\n",
       "        vertical-align: top;\n",
       "    }\n",
       "\n",
       "    .dataframe thead th {\n",
       "        text-align: right;\n",
       "    }\n",
       "</style>\n",
       "<table border=\"1\" class=\"dataframe\">\n",
       "  <thead>\n",
       "    <tr style=\"text-align: right;\">\n",
       "      <th></th>\n",
       "      <th>Song</th>\n",
       "      <th>Song year</th>\n",
       "      <th>Artist</th>\n",
       "      <th>Genre</th>\n",
       "      <th>Lyrics</th>\n",
       "      <th>Track_id</th>\n",
       "    </tr>\n",
       "  </thead>\n",
       "  <tbody>\n",
       "    <tr>\n",
       "      <th>0</th>\n",
       "      <td>craftsmanship</td>\n",
       "      <td>2005</td>\n",
       "      <td>buck-65</td>\n",
       "      <td>Hip-Hop</td>\n",
       "      <td>Most folks spend their days daydreaming of fin...</td>\n",
       "      <td>8294</td>\n",
       "    </tr>\n",
       "    <tr>\n",
       "      <th>1</th>\n",
       "      <td>come-on-out</td>\n",
       "      <td>2012</td>\n",
       "      <td>the-elwins</td>\n",
       "      <td>Indie</td>\n",
       "      <td>Take your cold hands and put them on my face\\n...</td>\n",
       "      <td>21621</td>\n",
       "    </tr>\n",
       "    <tr>\n",
       "      <th>2</th>\n",
       "      <td>riot</td>\n",
       "      <td>2013</td>\n",
       "      <td>bullet-for-my-valentine</td>\n",
       "      <td>Metal</td>\n",
       "      <td>Are you ready it's time for war\\nWe'll break d...</td>\n",
       "      <td>3301</td>\n",
       "    </tr>\n",
       "    <tr>\n",
       "      <th>3</th>\n",
       "      <td>that-s-what-girls-do</td>\n",
       "      <td>2007</td>\n",
       "      <td>dream-street</td>\n",
       "      <td>Pop</td>\n",
       "      <td>You ask me why I change the color of my hair\\n...</td>\n",
       "      <td>2773</td>\n",
       "    </tr>\n",
       "    <tr>\n",
       "      <th>4</th>\n",
       "      <td>believe-in-a-dollar</td>\n",
       "      <td>2012</td>\n",
       "      <td>cassidy</td>\n",
       "      <td>Hip-Hop</td>\n",
       "      <td>Do you believe in magic in a young girl's hear...</td>\n",
       "      <td>16797</td>\n",
       "    </tr>\n",
       "  </tbody>\n",
       "</table>\n",
       "</div>"
      ],
      "text/plain": [
       "                   Song  Song year                   Artist    Genre  \\\n",
       "0         craftsmanship       2005                  buck-65  Hip-Hop   \n",
       "1           come-on-out       2012               the-elwins    Indie   \n",
       "2                  riot       2013  bullet-for-my-valentine    Metal   \n",
       "3  that-s-what-girls-do       2007             dream-street      Pop   \n",
       "4   believe-in-a-dollar       2012                  cassidy  Hip-Hop   \n",
       "\n",
       "                                              Lyrics  Track_id  \n",
       "0  Most folks spend their days daydreaming of fin...      8294  \n",
       "1  Take your cold hands and put them on my face\\n...     21621  \n",
       "2  Are you ready it's time for war\\nWe'll break d...      3301  \n",
       "3  You ask me why I change the color of my hair\\n...      2773  \n",
       "4  Do you believe in magic in a young girl's hear...     16797  "
      ]
     },
     "execution_count": 2,
     "metadata": {},
     "output_type": "execute_result"
    }
   ],
   "source": [
    "import pandas as pd\n",
    "import tqdm\n",
    "\n",
    "df = pd.read_csv('./test.csv')\n",
    "\n",
    "df.head(5)"
   ]
  },
  {
   "cell_type": "code",
   "execution_count": 3,
   "metadata": {},
   "outputs": [],
   "source": [
    "from bs4 import BeautifulSoup\n",
    "from nltk.corpus import stopwords\n",
    "import re\n",
    "\n",
    "# Preprocessing\n",
    "def prepocessing(lyrics, remove_stopwords=False, stops=set(stopwords.words('english'))):\n",
    "    lyric_text = BeautifulSoup(lyric, \"html5lib\").get_text()\n",
    "    lyric_text = re.sub(\"[^a-zA-Z]\", \" \", lyric_text)\n",
    "    lyric_text = lyric_text.lower()\n",
    "    \n",
    "    lyric_words = lyric_text.split()\n",
    "    if remove_stopwords:\n",
    "        lyric_words = lyric_text.split()\n",
    "        lyric_words = [w for w in lyric_words if not w in stops]\n",
    "        \n",
    "    lyric_text = ' '.join(lyric_words)\n",
    "    return lyric_text"
   ]
  },
  {
   "cell_type": "code",
   "execution_count": 4,
   "metadata": {},
   "outputs": [
    {
     "name": "stderr",
     "output_type": "stream",
     "text": [
      "100%|████████████████████████████████████████████████████████████████████████████| 7935/7935 [00:03<00:00, 2428.43it/s]\n"
     ]
    }
   ],
   "source": [
    "processed_lyrics = []\n",
    "for lyric in tqdm.tqdm(df['Lyrics'].values):\n",
    "    processed = prepocessing(lyric)\n",
    "    processed_lyrics.append(processed)"
   ]
  },
  {
   "cell_type": "code",
   "execution_count": 63,
   "metadata": {},
   "outputs": [
    {
     "name": "stdout",
     "output_type": "stream",
     "text": [
      "Rock\n",
      "Metal\n",
      "Pop\n",
      "Indie\n",
      "Folk\n",
      "Electronic\n",
      "R&B\n",
      "Jazz\n",
      "Hip-Hop\n",
      "Country\n",
      "[107019, 19098, 86219, 7240, 8165, 2002, 2763, 13314, 2238, 1890]\n"
     ]
    }
   ],
   "source": [
    "num_data = []\n",
    "total = len(x)\n",
    "\n",
    "train_df = pd.read_csv('./train_filtered.csv')\n",
    "\n",
    "for genre in train_df['Genre'].unique():\n",
    "    print(genre)\n",
    "    num_data.append(len(train_df[train_df['Genre'] == genre]))\n",
    "\n",
    "print(num_data)\n",
    "\n",
    "class_weight = [\n",
    "    1 - num_data[0] / total,\n",
    "    1 - num_data[1] / total,\n",
    "    1 - num_data[2] / total,\n",
    "    1 - num_data[3] / total,\n",
    "    1 - num_data[4] / total,\n",
    "    1 - num_data[5] / total,\n",
    "    1 - num_data[6] / total,\n",
    "    1 - num_data[7] / total,\n",
    "    1 - num_data[8] / total,\n",
    "    1 - num_data[9] / total\n",
    "]\n",
    "\n",
    "class_code = {\n",
    "    'Rock': 0,\n",
    "    'Metal': 1,\n",
    "    'Pop': 2,\n",
    "    'Indie': 3,\n",
    "    'Folk': 4,\n",
    "    'Electronic': 5,\n",
    "    'R&B': 6,\n",
    "    'Jazz': 7,\n",
    "    'Hip-Hop': 8,\n",
    "    'Country': 9,\n",
    "}"
   ]
  },
  {
   "cell_type": "code",
   "execution_count": 64,
   "metadata": {},
   "outputs": [],
   "source": [
    "import numpy as np\n",
    "from sklearn.model_selection import train_test_split\n",
    "\n",
    "y = []\n",
    "for genre in df['Genre']:\n",
    "    y.append(class_code[genre])\n",
    "\n",
    "x = processed_lyrics\n",
    "y = np.array(y)"
   ]
  },
  {
   "cell_type": "code",
   "execution_count": 45,
   "metadata": {},
   "outputs": [],
   "source": [
    "word2vec = tf.keras.models.load_model('word2vec')"
   ]
  },
  {
   "cell_type": "code",
   "execution_count": 46,
   "metadata": {},
   "outputs": [],
   "source": [
    "BUFFER_SIZE = 10000\n",
    "BATCH_SIZE = 1024\n",
    "\n",
    "train_ds = tf.data.Dataset.from_tensor_slices((x, y))\n",
    "train_ds = train_ds.shuffle(BUFFER_SIZE).batch(BATCH_SIZE).prefetch(tf.data.AUTOTUNE)\n",
    "\n",
    "VOCAB_SIZE = 1000\n",
    "encoder = tf.keras.layers.TextVectorization(\n",
    "    max_tokens=VOCAB_SIZE)\n",
    "encoder.adapt(train_ds.map(lambda text, label: text))   \n",
    "\n",
    "model = tf.keras.Sequential([\n",
    "    encoder,\n",
    "    word2vec.get_layer('w2v_embedding'),\n",
    "    tf.keras.layers.Bidirectional(tf.keras.layers.LSTM(64)),\n",
    "    tf.keras.layers.Dense(64, activation='relu'),\n",
    "    tf.keras.layers.Dense(10, activation='softmax')\n",
    "])"
   ]
  },
  {
   "cell_type": "code",
   "execution_count": 47,
   "metadata": {},
   "outputs": [
    {
     "data": {
      "text/plain": [
       "<tensorflow.python.training.tracking.util.CheckpointLoadStatus at 0x27af421c4c8>"
      ]
     },
     "execution_count": 47,
     "metadata": {},
     "output_type": "execute_result"
    }
   ],
   "source": [
    "model.load_weights('./epoch50/variables/variables')"
   ]
  },
  {
   "cell_type": "code",
   "execution_count": 48,
   "metadata": {},
   "outputs": [],
   "source": [
    "predict = model.predict(x)"
   ]
  },
  {
   "cell_type": "code",
   "execution_count": 50,
   "metadata": {},
   "outputs": [],
   "source": [
    "weighted_predict = predict * class_weight"
   ]
  },
  {
   "cell_type": "code",
   "execution_count": 51,
   "metadata": {},
   "outputs": [
    {
     "name": "stdout",
     "output_type": "stream",
     "text": [
      "[[-6.91243990e+00 -1.29745270e-01 -2.51545708e+00 ... -3.82025614e-03\n",
      "   1.72656344e-04  9.67033893e-04]\n",
      " [-5.25343731e+00 -1.56656532e-02 -3.23494140e+00 ... -6.89333322e-02\n",
      "   9.93340555e-04  1.01759196e-02]\n",
      " [-1.73668316e+00 -3.46313128e-03 -6.06866257e+00 ... -7.55604179e-02\n",
      "   5.68676271e-03  4.51359712e-03]\n",
      " ...\n",
      " [-1.91420971e+00 -6.58544493e-02 -5.37265835e+00 ... -2.33339775e-02\n",
      "   1.34567604e-01  4.09620775e-05]\n",
      " [-6.10621691e+00 -8.41555303e-03 -1.40158774e+00 ... -1.54267746e-01\n",
      "   7.80467441e-04  2.13163214e-02]\n",
      " [-6.60179579e+00 -7.69438777e-02 -2.84646162e+00 ... -5.06599987e-03\n",
      "   1.24413194e-03  4.60612098e-03]]\n"
     ]
    }
   ],
   "source": [
    "print(weighted_predict)"
   ]
  },
  {
   "cell_type": "code",
   "execution_count": 60,
   "metadata": {},
   "outputs": [
    {
     "name": "stdout",
     "output_type": "stream",
     "text": [
      "[5 6 6 ... 8 9 5]\n"
     ]
    }
   ],
   "source": [
    "w_predict = (np.argmax(weighted_predict, axis=1))\n",
    "\n",
    "print(w_predict)"
   ]
  },
  {
   "cell_type": "code",
   "execution_count": 76,
   "metadata": {},
   "outputs": [],
   "source": [
    "f1 = f1_score(np.array(y), w_predict, average='micro')"
   ]
  },
  {
   "cell_type": "code",
   "execution_count": 78,
   "metadata": {},
   "outputs": [
    {
     "data": {
      "text/plain": [
       "0.13673597983616886"
      ]
     },
     "execution_count": 78,
     "metadata": {},
     "output_type": "execute_result"
    }
   ],
   "source": [
    "f1"
   ]
  },
  {
   "cell_type": "code",
   "execution_count": 68,
   "metadata": {},
   "outputs": [],
   "source": [
    "df['Predict'] = w_predict"
   ]
  },
  {
   "cell_type": "code",
   "execution_count": 69,
   "metadata": {},
   "outputs": [],
   "source": [
    "df['IntGenre'] = y"
   ]
  },
  {
   "cell_type": "code",
   "execution_count": 70,
   "metadata": {},
   "outputs": [
    {
     "data": {
      "text/html": [
       "<div>\n",
       "<style scoped>\n",
       "    .dataframe tbody tr th:only-of-type {\n",
       "        vertical-align: middle;\n",
       "    }\n",
       "\n",
       "    .dataframe tbody tr th {\n",
       "        vertical-align: top;\n",
       "    }\n",
       "\n",
       "    .dataframe thead th {\n",
       "        text-align: right;\n",
       "    }\n",
       "</style>\n",
       "<table border=\"1\" class=\"dataframe\">\n",
       "  <thead>\n",
       "    <tr style=\"text-align: right;\">\n",
       "      <th></th>\n",
       "      <th>Song</th>\n",
       "      <th>Song year</th>\n",
       "      <th>Artist</th>\n",
       "      <th>Genre</th>\n",
       "      <th>Lyrics</th>\n",
       "      <th>Track_id</th>\n",
       "      <th>IntGenre</th>\n",
       "      <th>Predict</th>\n",
       "    </tr>\n",
       "  </thead>\n",
       "  <tbody>\n",
       "    <tr>\n",
       "      <th>0</th>\n",
       "      <td>craftsmanship</td>\n",
       "      <td>2005</td>\n",
       "      <td>buck-65</td>\n",
       "      <td>Hip-Hop</td>\n",
       "      <td>Most folks spend their days daydreaming of fin...</td>\n",
       "      <td>8294</td>\n",
       "      <td>8</td>\n",
       "      <td>5</td>\n",
       "    </tr>\n",
       "    <tr>\n",
       "      <th>1</th>\n",
       "      <td>come-on-out</td>\n",
       "      <td>2012</td>\n",
       "      <td>the-elwins</td>\n",
       "      <td>Indie</td>\n",
       "      <td>Take your cold hands and put them on my face\\n...</td>\n",
       "      <td>21621</td>\n",
       "      <td>3</td>\n",
       "      <td>6</td>\n",
       "    </tr>\n",
       "    <tr>\n",
       "      <th>2</th>\n",
       "      <td>riot</td>\n",
       "      <td>2013</td>\n",
       "      <td>bullet-for-my-valentine</td>\n",
       "      <td>Metal</td>\n",
       "      <td>Are you ready it's time for war\\nWe'll break d...</td>\n",
       "      <td>3301</td>\n",
       "      <td>1</td>\n",
       "      <td>6</td>\n",
       "    </tr>\n",
       "    <tr>\n",
       "      <th>3</th>\n",
       "      <td>that-s-what-girls-do</td>\n",
       "      <td>2007</td>\n",
       "      <td>dream-street</td>\n",
       "      <td>Pop</td>\n",
       "      <td>You ask me why I change the color of my hair\\n...</td>\n",
       "      <td>2773</td>\n",
       "      <td>2</td>\n",
       "      <td>5</td>\n",
       "    </tr>\n",
       "    <tr>\n",
       "      <th>4</th>\n",
       "      <td>believe-in-a-dollar</td>\n",
       "      <td>2012</td>\n",
       "      <td>cassidy</td>\n",
       "      <td>Hip-Hop</td>\n",
       "      <td>Do you believe in magic in a young girl's hear...</td>\n",
       "      <td>16797</td>\n",
       "      <td>8</td>\n",
       "      <td>6</td>\n",
       "    </tr>\n",
       "    <tr>\n",
       "      <th>...</th>\n",
       "      <td>...</td>\n",
       "      <td>...</td>\n",
       "      <td>...</td>\n",
       "      <td>...</td>\n",
       "      <td>...</td>\n",
       "      <td>...</td>\n",
       "      <td>...</td>\n",
       "      <td>...</td>\n",
       "    </tr>\n",
       "    <tr>\n",
       "      <th>7930</th>\n",
       "      <td>too-little-too-late</td>\n",
       "      <td>2006</td>\n",
       "      <td>amanda-marshall</td>\n",
       "      <td>Rock</td>\n",
       "      <td>Tuesday night - 7:30\\nI hear a voice on the te...</td>\n",
       "      <td>23453</td>\n",
       "      <td>0</td>\n",
       "      <td>3</td>\n",
       "    </tr>\n",
       "    <tr>\n",
       "      <th>7931</th>\n",
       "      <td>berserker</td>\n",
       "      <td>2007</td>\n",
       "      <td>aurora-borealis</td>\n",
       "      <td>Metal</td>\n",
       "      <td>Elite forces cloaked in fur un sensitive to pa...</td>\n",
       "      <td>2724</td>\n",
       "      <td>1</td>\n",
       "      <td>5</td>\n",
       "    </tr>\n",
       "    <tr>\n",
       "      <th>7932</th>\n",
       "      <td>natural-born-killaz</td>\n",
       "      <td>2010</td>\n",
       "      <td>dr-dre</td>\n",
       "      <td>Hip-Hop</td>\n",
       "      <td>[Dr. Dre]\\nJourney with me\\nInto the mind of a...</td>\n",
       "      <td>24147</td>\n",
       "      <td>8</td>\n",
       "      <td>8</td>\n",
       "    </tr>\n",
       "    <tr>\n",
       "      <th>7933</th>\n",
       "      <td>wide-awake</td>\n",
       "      <td>2011</td>\n",
       "      <td>chris-cornell</td>\n",
       "      <td>Rock</td>\n",
       "      <td>You can a look a hurricane right in the eye.\\n...</td>\n",
       "      <td>4150</td>\n",
       "      <td>0</td>\n",
       "      <td>9</td>\n",
       "    </tr>\n",
       "    <tr>\n",
       "      <th>7934</th>\n",
       "      <td>god-knows</td>\n",
       "      <td>2007</td>\n",
       "      <td>the-coral</td>\n",
       "      <td>Rock</td>\n",
       "      <td>Deal not the truth till you find the proof\\nAn...</td>\n",
       "      <td>16992</td>\n",
       "      <td>0</td>\n",
       "      <td>5</td>\n",
       "    </tr>\n",
       "  </tbody>\n",
       "</table>\n",
       "<p>7935 rows × 8 columns</p>\n",
       "</div>"
      ],
      "text/plain": [
       "                      Song  Song year                   Artist    Genre  \\\n",
       "0            craftsmanship       2005                  buck-65  Hip-Hop   \n",
       "1              come-on-out       2012               the-elwins    Indie   \n",
       "2                     riot       2013  bullet-for-my-valentine    Metal   \n",
       "3     that-s-what-girls-do       2007             dream-street      Pop   \n",
       "4      believe-in-a-dollar       2012                  cassidy  Hip-Hop   \n",
       "...                    ...        ...                      ...      ...   \n",
       "7930   too-little-too-late       2006          amanda-marshall     Rock   \n",
       "7931             berserker       2007          aurora-borealis    Metal   \n",
       "7932   natural-born-killaz       2010                   dr-dre  Hip-Hop   \n",
       "7933            wide-awake       2011            chris-cornell     Rock   \n",
       "7934             god-knows       2007                the-coral     Rock   \n",
       "\n",
       "                                                 Lyrics  Track_id  IntGenre  \\\n",
       "0     Most folks spend their days daydreaming of fin...      8294         8   \n",
       "1     Take your cold hands and put them on my face\\n...     21621         3   \n",
       "2     Are you ready it's time for war\\nWe'll break d...      3301         1   \n",
       "3     You ask me why I change the color of my hair\\n...      2773         2   \n",
       "4     Do you believe in magic in a young girl's hear...     16797         8   \n",
       "...                                                 ...       ...       ...   \n",
       "7930  Tuesday night - 7:30\\nI hear a voice on the te...     23453         0   \n",
       "7931  Elite forces cloaked in fur un sensitive to pa...      2724         1   \n",
       "7932  [Dr. Dre]\\nJourney with me\\nInto the mind of a...     24147         8   \n",
       "7933  You can a look a hurricane right in the eye.\\n...      4150         0   \n",
       "7934  Deal not the truth till you find the proof\\nAn...     16992         0   \n",
       "\n",
       "      Predict  \n",
       "0           5  \n",
       "1           6  \n",
       "2           6  \n",
       "3           5  \n",
       "4           6  \n",
       "...       ...  \n",
       "7930        3  \n",
       "7931        5  \n",
       "7932        8  \n",
       "7933        9  \n",
       "7934        5  \n",
       "\n",
       "[7935 rows x 8 columns]"
      ]
     },
     "execution_count": 70,
     "metadata": {},
     "output_type": "execute_result"
    }
   ],
   "source": [
    "df"
   ]
  },
  {
   "cell_type": "code",
   "execution_count": 77,
   "metadata": {},
   "outputs": [
    {
     "data": {
      "text/plain": [
       "\"Take your cold hands and put them on my face\\nSharpen your axe and your criminal ways\\nLet's go to town\\nand do what we did before\\nIt's gonna hurt\\nbut we don't feel pain no more\\nIf you're alive can you say that you've tried\\nto be someone who's true?\\nStuck in your shell\\nLooking for help\\nCome on out and things will soon change\\nYou gotta keep your head up\\nStart your day by doing something good\\nTreat a friend the way you know you should\\nLike a cat in its cage\\nI feel we're pacing around and never getting our way\\nBut if you know you're a mitt\\ninside a sleeve, that's a fit\\nand that's as good as it gets\\nIf you're alive can you say that you've tried\\nto be someone who's true?\\nStuck in your shell\\nLooking for help\\nCome on out and things will soon change\\nYou gotta keep your head up\\nYou gotta keep your head up\\nYou gotta keep your head up\\nMoving quickly\\nSure feels so empty\\nI've thought about it and all the while\\nI'm still doing the same old thing\\nI can't say that I'll change or I'll find a new way\\nTil I know who I am, that's right\\nInside my head\\nI know I've seen a dream\\nIf you're alive can you say that you've tried\\nto be someone who's true?\\nStuck in your shell\\nLooking for help\\nCome on out and things will soon change\\nYou gotta keep your head up\\nYou gotta keep it up\\nI know that we'll find our way\""
      ]
     },
     "execution_count": 77,
     "metadata": {},
     "output_type": "execute_result"
    }
   ],
   "source": [
    "df[df['IntGenre'] != df['Predict']]['Lyrics'][1]"
   ]
  },
  {
   "cell_type": "code",
   "execution_count": null,
   "metadata": {},
   "outputs": [],
   "source": []
  }
 ],
 "metadata": {
  "kernelspec": {
   "display_name": "Python 3",
   "language": "python",
   "name": "python3"
  },
  "language_info": {
   "codemirror_mode": {
    "name": "ipython",
    "version": 3
   },
   "file_extension": ".py",
   "mimetype": "text/x-python",
   "name": "python",
   "nbconvert_exporter": "python",
   "pygments_lexer": "ipython3",
   "version": "3.7.5"
  }
 },
 "nbformat": 4,
 "nbformat_minor": 4
}
