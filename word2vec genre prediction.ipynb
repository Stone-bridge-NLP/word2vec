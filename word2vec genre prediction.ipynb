{
 "cells": [
  {
   "cell_type": "markdown",
   "metadata": {},
   "source": [
    "# Data preprocessing"
   ]
  },
  {
   "cell_type": "code",
   "execution_count": 1,
   "metadata": {},
   "outputs": [],
   "source": [
    "from bs4 import BeautifulSoup\n",
    "from nltk.corpus import stopwords\n",
    "import re\n",
    "\n",
    "# Preprocessing\n",
    "def prepocessing(lyrics, remove_stopwords=False, stops=set(stopwords.words('english'))):\n",
    "    lyric_text = BeautifulSoup(lyric, \"html5lib\").get_text()\n",
    "    lyric_text = re.sub(\"[^a-zA-Z]\", \" \", lyric_text)\n",
    "    lyric_text = lyric_text.lower()\n",
    "    \n",
    "    lyric_words = lyric_text.split()\n",
    "    if remove_stopwords:\n",
    "        lyric_words = lyric_text.split()\n",
    "        lyric_words = [w for w in lyric_words if not w in stops]\n",
    "        \n",
    "    lyric_text = ' '.join(lyric_words)\n",
    "    return lyric_text"
   ]
  },
  {
   "cell_type": "code",
   "execution_count": 2,
   "metadata": {},
   "outputs": [
    {
     "data": {
      "text/html": [
       "<div>\n",
       "<style scoped>\n",
       "    .dataframe tbody tr th:only-of-type {\n",
       "        vertical-align: middle;\n",
       "    }\n",
       "\n",
       "    .dataframe tbody tr th {\n",
       "        vertical-align: top;\n",
       "    }\n",
       "\n",
       "    .dataframe thead th {\n",
       "        text-align: right;\n",
       "    }\n",
       "</style>\n",
       "<table border=\"1\" class=\"dataframe\">\n",
       "  <thead>\n",
       "    <tr style=\"text-align: right;\">\n",
       "      <th></th>\n",
       "      <th>Genre</th>\n",
       "      <th>Lyrics</th>\n",
       "    </tr>\n",
       "  </thead>\n",
       "  <tbody>\n",
       "    <tr>\n",
       "      <th>0</th>\n",
       "      <td>Rock</td>\n",
       "      <td>it starts with pain followed by hate fueled by...</td>\n",
       "    </tr>\n",
       "    <tr>\n",
       "      <th>1</th>\n",
       "      <td>Rock</td>\n",
       "      <td>freedom alone again again alone patiently wait...</td>\n",
       "    </tr>\n",
       "    <tr>\n",
       "      <th>2</th>\n",
       "      <td>Rock</td>\n",
       "      <td>biting the hand that feeds you lying to the vo...</td>\n",
       "    </tr>\n",
       "    <tr>\n",
       "      <th>3</th>\n",
       "      <td>Rock</td>\n",
       "      <td>you say you know just who i am but you can t i...</td>\n",
       "    </tr>\n",
       "    <tr>\n",
       "      <th>4</th>\n",
       "      <td>Rock</td>\n",
       "      <td>my heart is beating faster can t control these...</td>\n",
       "    </tr>\n",
       "  </tbody>\n",
       "</table>\n",
       "</div>"
      ],
      "text/plain": [
       "  Genre                                             Lyrics\n",
       "0  Rock  it starts with pain followed by hate fueled by...\n",
       "1  Rock  freedom alone again again alone patiently wait...\n",
       "2  Rock  biting the hand that feeds you lying to the vo...\n",
       "3  Rock  you say you know just who i am but you can t i...\n",
       "4  Rock  my heart is beating faster can t control these..."
      ]
     },
     "execution_count": 2,
     "metadata": {},
     "output_type": "execute_result"
    }
   ],
   "source": [
    "# Create dataset\n",
    "\n",
    "import pandas as pd\n",
    "import tqdm\n",
    "\n",
    "df = pd.read_csv('./preprocessed_train_data.csv')\n",
    "\n",
    "df.head(5)"
   ]
  },
  {
   "cell_type": "code",
   "execution_count": 3,
   "metadata": {},
   "outputs": [
    {
     "name": "stderr",
     "output_type": "stream",
     "text": [
      "100%|████████████████████████████████████████████████████████████████████████| 249943/249943 [01:55<00:00, 2161.60it/s]\n"
     ]
    }
   ],
   "source": [
    "processed_lyrics = []\n",
    "for lyric in tqdm.tqdm(df['Lyrics'].values):\n",
    "    processed = prepocessing(lyric, remove_stopwords=True)\n",
    "    processed_lyrics.append(processed)"
   ]
  },
  {
   "cell_type": "markdown",
   "metadata": {},
   "source": [
    "# Build Word2vec model by skip-gram and negative sampling\n",
    "- Followed Tensroflow tutorial\n",
    "- Vocabulary size : 4096\n",
    "- Sequence length :10\n",
    "- number of negative sample : 4"
   ]
  },
  {
   "cell_type": "code",
   "execution_count": 4,
   "metadata": {},
   "outputs": [],
   "source": [
    "import os\n",
    "import re\n",
    "import string\n",
    "import numpy as np\n",
    "\n",
    "import tensorflow as tf\n",
    "from tensorflow.keras import layers"
   ]
  },
  {
   "cell_type": "code",
   "execution_count": 5,
   "metadata": {},
   "outputs": [],
   "source": [
    "%load_ext tensorboard"
   ]
  },
  {
   "cell_type": "code",
   "execution_count": 6,
   "metadata": {},
   "outputs": [],
   "source": [
    "SEED = 42\n",
    "AUTOTUNE = tf.data.AUTOTUNE"
   ]
  },
  {
   "cell_type": "code",
   "execution_count": 9,
   "metadata": {},
   "outputs": [],
   "source": [
    "# Generates skip-gram pairs with negative sampling for a list of sequences\n",
    "# (int-encoded sentences) based on window size, number of negative samples\n",
    "# and vocabulary size.\n",
    "def generate_training_data(sequences, window_size, num_ns, vocab_size, seed):\n",
    "    # Elements of each training example are appended to these lists.\n",
    "    targets, contexts, labels = [], [], []\n",
    "\n",
    "    # Build the sampling table for vocab_size tokens.\n",
    "    sampling_table = tf.keras.preprocessing.sequence.make_sampling_table(vocab_size)\n",
    "\n",
    "    # Iterate over all sequences (sentences) in dataset.\n",
    "    for sequence in tqdm.tqdm(sequences):\n",
    "\n",
    "        # Generate positive skip-gram pairs for a sequence (sentence).\n",
    "        positive_skip_grams, _ = tf.keras.preprocessing.sequence.skipgrams(\n",
    "              sequence,\n",
    "              vocabulary_size=vocab_size,\n",
    "              sampling_table=sampling_table,\n",
    "              window_size=window_size,\n",
    "              negative_samples=0)\n",
    "\n",
    "        # Iterate over each positive skip-gram pair to produce training examples\n",
    "        # with positive context word and negative samples.\n",
    "        for target_word, context_word in positive_skip_grams:\n",
    "            context_class = tf.expand_dims(tf.constant([context_word], dtype=\"int64\"), 1)\n",
    "            negative_sampling_candidates, _, _ = tf.random.log_uniform_candidate_sampler(\n",
    "              true_classes=context_class,\n",
    "              num_true=1,\n",
    "              num_sampled=num_ns,\n",
    "              unique=True,\n",
    "              range_max=vocab_size,\n",
    "              seed=SEED,\n",
    "              name=\"negative_sampling\")\n",
    "\n",
    "            # Build context and label vectors (for one target word)\n",
    "            negative_sampling_candidates = tf.expand_dims(\n",
    "                negative_sampling_candidates, 1)\n",
    "\n",
    "            context = tf.concat([context_class, negative_sampling_candidates], 0)\n",
    "            label = tf.constant([1] + [0]*num_ns, dtype=\"int64\")\n",
    "\n",
    "            # Append each element from the training example to global lists.\n",
    "            targets.append(target_word)\n",
    "            contexts.append(context)\n",
    "            labels.append(label)\n",
    "\n",
    "    return targets, contexts, labels"
   ]
  },
  {
   "cell_type": "code",
   "execution_count": 14,
   "metadata": {},
   "outputs": [],
   "source": [
    "# Now, create a custom standardization function to lowercase the text and\n",
    "# remove punctuation.\n",
    "def custom_standardization(input_data):\n",
    "    lowercase = tf.strings.lower(input_data)\n",
    "    return tf.strings.regex_replace(lowercase,\n",
    "                                  '[%s]' % re.escape(string.punctuation), '')\n",
    "\n",
    "\n",
    "# Define the vocabulary size and number of words in a sequence.\n",
    "vocab_size = 4096\n",
    "sequence_length = 10\n",
    "num_ns = 4\n",
    "\n",
    "# Use the TextVectorization layer to normalize, split, and map strings to\n",
    "# integers. Set output_sequence_length length to pad all samples to same length.\n",
    "vectorize_layer = layers.TextVectorization(\n",
    "    standardize=custom_standardization,\n",
    "    max_tokens=vocab_size,\n",
    "    output_mode='int',\n",
    "    output_sequence_length=sequence_length)"
   ]
  },
  {
   "cell_type": "code",
   "execution_count": 12,
   "metadata": {},
   "outputs": [],
   "source": [
    "vectorize_layer.adapt(processed_lyrics)"
   ]
  },
  {
   "cell_type": "code",
   "execution_count": 13,
   "metadata": {},
   "outputs": [
    {
     "name": "stdout",
     "output_type": "stream",
     "text": [
      "['', '[UNK]', 'love', 'know', 'like', 'oh', 'got', 'get', 'go', 'one', 'let', 'time', 'baby', 'see', 'never', 'yeah', 'want', 'come', 'say', 'cause']\n"
     ]
    }
   ],
   "source": [
    "# Save the created vocabulary for reference.\n",
    "inverse_vocab = vectorize_layer.get_vocabulary()\n",
    "print(inverse_vocab[:20])"
   ]
  },
  {
   "cell_type": "code",
   "execution_count": 14,
   "metadata": {},
   "outputs": [],
   "source": [
    "ds = tf.data.Dataset.from_tensor_slices(processed_lyrics)"
   ]
  },
  {
   "cell_type": "code",
   "execution_count": 15,
   "metadata": {},
   "outputs": [],
   "source": [
    "# Vectorize the data in text_ds.\n",
    "text_vector_ds = ds.batch(1024).prefetch(AUTOTUNE).map(vectorize_layer).unbatch()"
   ]
  },
  {
   "cell_type": "code",
   "execution_count": 16,
   "metadata": {},
   "outputs": [
    {
     "name": "stdout",
     "output_type": "stream",
     "text": [
      "249943\n"
     ]
    }
   ],
   "source": [
    "sequences = list(text_vector_ds.as_numpy_iterator())\n",
    "print(len(sequences))"
   ]
  },
  {
   "cell_type": "code",
   "execution_count": 16,
   "metadata": {},
   "outputs": [
    {
     "name": "stdout",
     "output_type": "stream",
     "text": [
      "[   8  959   31  275 2475   99  367    1   99    4] => ['it', 'starts', 'with', 'pain', 'followed', 'by', 'hate', '[UNK]', 'by', 'the']\n",
      "[ 846  165  117  117  165 3435  254   99    4  577] => ['freedom', 'alone', 'again', 'again', 'alone', 'patiently', 'waiting', 'by', 'the', 'phone']\n",
      "[  1   4 211  14   1   3 857   5   4 570] => ['[UNK]', 'the', 'hand', 'that', '[UNK]', 'you', 'lying', 'to', 'the', 'voice']\n",
      "[  3  68   3  28  32  97   2 141  30   3] => ['you', 'say', 'you', 'know', 'just', 'who', 'i', 'am', 'but', 'you']\n",
      "[  12   88   23 1190 1246   21   11  466  156  820] => ['my', 'heart', 'is', 'beating', 'faster', 'can', 't', 'control', 'these', 'feelings']\n"
     ]
    }
   ],
   "source": [
    "for seq in sequences[:5]:\n",
    "    print(f\"{seq} => {[inverse_vocab[i] for i in seq]}\")"
   ]
  },
  {
   "cell_type": "code",
   "execution_count": 17,
   "metadata": {},
   "outputs": [
    {
     "name": "stderr",
     "output_type": "stream",
     "text": [
      "100%|█████████████████████████████████████████████████████████████████████████| 249943/249943 [28:34<00:00, 145.79it/s]\n"
     ]
    },
    {
     "name": "stdout",
     "output_type": "stream",
     "text": [
      "\n",
      "\n",
      "targets.shape: (1681813,)\n",
      "contexts.shape: (1681813, 5)\n",
      "labels.shape: (1681813, 5)\n"
     ]
    }
   ],
   "source": [
    "# Generate train data for training word2vec.\n",
    "\n",
    "targets, contexts, labels = generate_training_data(\n",
    "    sequences=sequences,\n",
    "    window_size=3,\n",
    "    num_ns=num_ns,\n",
    "    vocab_size=vocab_size,\n",
    "    seed=SEED)\n",
    "\n",
    "targets = np.array(targets)\n",
    "contexts = np.array(contexts)[:,:,0]\n",
    "labels = np.array(labels)\n",
    "\n",
    "print('\\n')\n",
    "print(f\"targets.shape: {targets.shape}\")\n",
    "print(f\"contexts.shape: {contexts.shape}\")\n",
    "print(f\"labels.shape: {labels.shape}\")"
   ]
  },
  {
   "cell_type": "code",
   "execution_count": 20,
   "metadata": {},
   "outputs": [
    {
     "name": "stdout",
     "output_type": "stream",
     "text": [
      "<TensorSliceDataset shapes: (((), (5,)), (5,)), types: ((tf.int64, tf.int64), tf.int64)>\n"
     ]
    }
   ],
   "source": [
    "import pickle\n",
    "\n",
    "BATCH_SIZE = 1024\n",
    "BUFFER_SIZE = 10000\n",
    "dataset = tf.data.Dataset.from_tensor_slices(((targets, contexts), labels))\n",
    "\n",
    "# save processed dataset for re-use.\n",
    "with open('word2vec_train.pickle', 'wb') as f:\n",
    "    pickle.dump(((targets, contexts), labels), f)\n",
    "    \n",
    "print(dataset)"
   ]
  },
  {
   "cell_type": "code",
   "execution_count": 12,
   "metadata": {},
   "outputs": [],
   "source": [
    "# Load pickle file\n",
    "import pickle\n",
    "\n",
    "BATCH_SIZE = 1024\n",
    "BUFFER_SIZE = 10000\n",
    "\n",
    "with open('word2vec_train.pickle', 'rb') as f:\n",
    "    dataset = pickle.load(f)\n",
    "    \n",
    "dataset = tf.data.Dataset.from_tensor_slices(dataset)"
   ]
  },
  {
   "cell_type": "code",
   "execution_count": 13,
   "metadata": {},
   "outputs": [],
   "source": [
    "dataset = dataset.shuffle(BUFFER_SIZE).batch(BATCH_SIZE, drop_remainder=True) # shuffle and batch."
   ]
  },
  {
   "cell_type": "markdown",
   "metadata": {},
   "source": [
    "# Define Word2vec model"
   ]
  },
  {
   "cell_type": "code",
   "execution_count": 16,
   "metadata": {},
   "outputs": [],
   "source": [
    "class Word2Vec(tf.keras.Model):\n",
    "    def __init__(self, vocab_size, embedding_dim):\n",
    "        super(Word2Vec, self).__init__()\n",
    "        self.target_embedding = layers.Embedding(vocab_size,\n",
    "                                          embedding_dim,\n",
    "                                          input_length=1,\n",
    "                                          name=\"w2v_embedding\")\n",
    "        self.context_embedding = layers.Embedding(vocab_size,\n",
    "                                           embedding_dim,\n",
    "                                           input_length=num_ns+1)\n",
    "\n",
    "    def call(self, pair):\n",
    "        target, context = pair\n",
    "        # target: (batch, dummy?)  # The dummy axis doesn't exist in TF2.7+\n",
    "        # context: (batch, context)\n",
    "        if len(target.shape) == 2:\n",
    "            target = tf.squeeze(target, axis=1)\n",
    "        # target: (batch,)\n",
    "        word_emb = self.target_embedding(target)\n",
    "        # word_emb: (batch, embed)\n",
    "        context_emb = self.context_embedding(context)\n",
    "        # context_emb: (batch, context, embed)\n",
    "        dots = tf.einsum('be,bce->bc', word_emb, context_emb)\n",
    "        # dots: (batch, context)\n",
    "        return dots"
   ]
  },
  {
   "cell_type": "code",
   "execution_count": 23,
   "metadata": {},
   "outputs": [],
   "source": [
    "def custom_loss(x_logit, y_true):\n",
    "      return tf.nn.sigmoid_cross_entropy_with_logits(logits=x_logit, labels=y_true)"
   ]
  },
  {
   "cell_type": "markdown",
   "metadata": {},
   "source": [
    "# Experiment 1: Embedding dimesion 128"
   ]
  },
  {
   "cell_type": "code",
   "execution_count": 24,
   "metadata": {},
   "outputs": [],
   "source": [
    "embedding_dim = 128\n",
    "word2vec = Word2Vec(vocab_size, embedding_dim)\n",
    "word2vec.compile(optimizer='adam',\n",
    "                 loss=tf.keras.losses.CategoricalCrossentropy(from_logits=True),\n",
    "                 metrics=['accuracy'])"
   ]
  },
  {
   "cell_type": "code",
   "execution_count": 25,
   "metadata": {},
   "outputs": [],
   "source": [
    "tensorboard_callback = tf.keras.callbacks.TensorBoard(log_dir=\"logs\")\n",
    "\n",
    "earlystop = tf.keras.callbacks.EarlyStopping(\n",
    "    monitor='loss',\n",
    "    verbose=1,\n",
    "    patience=3\n",
    ")\n",
    "\n",
    "learning_rate = tf.keras.callbacks.ReduceLROnPlateau(\n",
    "    monitor='accuracy',\n",
    "    patience=3,\n",
    "    verbose=1,\n",
    "    factor=0.25,\n",
    "    min_lr=0.0000001\n",
    ")"
   ]
  },
  {
   "cell_type": "code",
   "execution_count": 26,
   "metadata": {
    "scrolled": true
   },
   "outputs": [
    {
     "name": "stdout",
     "output_type": "stream",
     "text": [
      "Epoch 1/200\n",
      "1642/1642 [==============================] - 16s 8ms/step - loss: 1.4082 - accuracy: 0.3897 - lr: 0.0010\n",
      "Epoch 2/200\n",
      "1642/1642 [==============================] - 14s 8ms/step - loss: 1.2649 - accuracy: 0.4761 - lr: 0.0010\n",
      "Epoch 3/200\n",
      "1642/1642 [==============================] - 13s 8ms/step - loss: 1.1751 - accuracy: 0.5262 - lr: 0.0010\n",
      "Epoch 4/200\n",
      "1642/1642 [==============================] - 13s 8ms/step - loss: 1.1092 - accuracy: 0.5601 - lr: 0.0010\n",
      "Epoch 5/200\n",
      "1642/1642 [==============================] - 13s 8ms/step - loss: 1.0577 - accuracy: 0.5852 - lr: 0.0010\n",
      "Epoch 6/200\n",
      "1642/1642 [==============================] - 14s 8ms/step - loss: 1.0159 - accuracy: 0.6049 - lr: 0.0010\n",
      "Epoch 7/200\n",
      "1642/1642 [==============================] - 14s 8ms/step - loss: 0.9814 - accuracy: 0.6209 - lr: 0.0010\n",
      "Epoch 8/200\n",
      "1642/1642 [==============================] - 13s 8ms/step - loss: 0.9525 - accuracy: 0.6338 - lr: 0.0010\n",
      "Epoch 9/200\n",
      "1642/1642 [==============================] - 14s 9ms/step - loss: 0.9281 - accuracy: 0.6444 - lr: 0.0010\n",
      "Epoch 10/200\n",
      "1642/1642 [==============================] - 14s 9ms/step - loss: 0.9073 - accuracy: 0.6534 - lr: 0.0010\n",
      "Epoch 11/200\n",
      "1642/1642 [==============================] - 16s 10ms/step - loss: 0.8892 - accuracy: 0.6611 - lr: 0.0010\n",
      "Epoch 12/200\n",
      "1642/1642 [==============================] - 14s 8ms/step - loss: 0.8735 - accuracy: 0.6676 - lr: 0.0010\n",
      "Epoch 13/200\n",
      "1642/1642 [==============================] - 13s 8ms/step - loss: 0.8595 - accuracy: 0.6735 - lr: 0.0010\n",
      "Epoch 14/200\n",
      "1642/1642 [==============================] - 13s 8ms/step - loss: 0.8470 - accuracy: 0.6787 - lr: 0.0010\n",
      "Epoch 15/200\n",
      "1642/1642 [==============================] - 13s 8ms/step - loss: 0.8358 - accuracy: 0.6833 - lr: 0.0010\n",
      "Epoch 16/200\n",
      "1642/1642 [==============================] - 13s 8ms/step - loss: 0.8257 - accuracy: 0.6877 - lr: 0.0010\n",
      "Epoch 17/200\n",
      "1642/1642 [==============================] - 13s 8ms/step - loss: 0.8164 - accuracy: 0.6914 - lr: 0.0010\n",
      "Epoch 18/200\n",
      "1642/1642 [==============================] - 13s 8ms/step - loss: 0.8079 - accuracy: 0.6949 - lr: 0.0010\n",
      "Epoch 19/200\n",
      "1642/1642 [==============================] - 13s 8ms/step - loss: 0.8000 - accuracy: 0.6982 - lr: 0.0010\n",
      "Epoch 20/200\n",
      "1642/1642 [==============================] - 13s 8ms/step - loss: 0.7928 - accuracy: 0.7011 - lr: 0.0010\n",
      "Epoch 21/200\n",
      "1642/1642 [==============================] - 13s 8ms/step - loss: 0.7860 - accuracy: 0.7038 - lr: 0.0010\n",
      "Epoch 22/200\n",
      "1642/1642 [==============================] - 13s 8ms/step - loss: 0.7797 - accuracy: 0.7063 - lr: 0.0010\n",
      "Epoch 23/200\n",
      "1642/1642 [==============================] - 13s 8ms/step - loss: 0.7739 - accuracy: 0.7086 - lr: 0.0010\n",
      "Epoch 24/200\n",
      "1642/1642 [==============================] - 13s 8ms/step - loss: 0.7684 - accuracy: 0.7107 - lr: 0.0010\n",
      "Epoch 25/200\n",
      "1642/1642 [==============================] - 13s 8ms/step - loss: 0.7632 - accuracy: 0.7126 - lr: 0.0010\n",
      "Epoch 26/200\n",
      "1642/1642 [==============================] - 13s 8ms/step - loss: 0.7583 - accuracy: 0.7147 - lr: 0.0010\n",
      "Epoch 27/200\n",
      "1642/1642 [==============================] - 13s 8ms/step - loss: 0.7537 - accuracy: 0.7164 - lr: 0.0010\n",
      "Epoch 28/200\n",
      "1642/1642 [==============================] - 13s 8ms/step - loss: 0.7493 - accuracy: 0.7182 - lr: 0.0010\n",
      "Epoch 29/200\n",
      "1642/1642 [==============================] - 13s 8ms/step - loss: 0.7452 - accuracy: 0.7198 - lr: 0.0010\n",
      "Epoch 30/200\n",
      "1642/1642 [==============================] - 13s 8ms/step - loss: 0.7413 - accuracy: 0.7212 - lr: 0.0010\n",
      "Epoch 31/200\n",
      "1642/1642 [==============================] - 13s 8ms/step - loss: 0.7375 - accuracy: 0.7226 - lr: 0.0010\n",
      "Epoch 32/200\n",
      "1642/1642 [==============================] - 13s 8ms/step - loss: 0.7340 - accuracy: 0.7239 - lr: 0.0010\n",
      "Epoch 33/200\n",
      "1642/1642 [==============================] - 13s 8ms/step - loss: 0.7306 - accuracy: 0.7252 - lr: 0.0010\n",
      "Epoch 34/200\n",
      "1642/1642 [==============================] - 13s 8ms/step - loss: 0.7273 - accuracy: 0.7264 - lr: 0.0010\n",
      "Epoch 35/200\n",
      "1642/1642 [==============================] - 15s 9ms/step - loss: 0.7243 - accuracy: 0.7275 - lr: 0.0010\n",
      "Epoch 36/200\n",
      "1642/1642 [==============================] - 15s 9ms/step - loss: 0.7213 - accuracy: 0.7286 - lr: 0.0010\n",
      "Epoch 37/200\n",
      "1642/1642 [==============================] - 13s 8ms/step - loss: 0.7185 - accuracy: 0.7296 - lr: 0.0010\n",
      "Epoch 38/200\n",
      "1642/1642 [==============================] - 13s 8ms/step - loss: 0.7157 - accuracy: 0.7307 - lr: 0.0010\n",
      "Epoch 39/200\n",
      "1642/1642 [==============================] - 13s 8ms/step - loss: 0.7131 - accuracy: 0.7317 - lr: 0.0010\n",
      "Epoch 40/200\n",
      "1642/1642 [==============================] - 13s 8ms/step - loss: 0.7106 - accuracy: 0.7326 - lr: 0.0010\n",
      "Epoch 41/200\n",
      "1642/1642 [==============================] - 13s 8ms/step - loss: 0.7082 - accuracy: 0.7334 - lr: 0.0010\n",
      "Epoch 42/200\n",
      "1642/1642 [==============================] - 13s 8ms/step - loss: 0.7058 - accuracy: 0.7343 - lr: 0.0010\n",
      "Epoch 43/200\n",
      "1642/1642 [==============================] - 13s 8ms/step - loss: 0.7036 - accuracy: 0.7351 - lr: 0.0010\n",
      "Epoch 44/200\n",
      "1642/1642 [==============================] - 13s 8ms/step - loss: 0.7015 - accuracy: 0.7357 - lr: 0.0010\n",
      "Epoch 45/200\n",
      "1642/1642 [==============================] - 14s 9ms/step - loss: 0.6994 - accuracy: 0.7366 - lr: 0.0010\n",
      "Epoch 46/200\n",
      "1642/1642 [==============================] - 15s 9ms/step - loss: 0.6974 - accuracy: 0.7372 - lr: 0.0010\n",
      "Epoch 47/200\n",
      "1642/1642 [==============================] - 14s 9ms/step - loss: 0.6954 - accuracy: 0.7380 - lr: 0.0010\n",
      "Epoch 48/200\n",
      "1642/1642 [==============================] - 14s 9ms/step - loss: 0.6936 - accuracy: 0.7386 - lr: 0.0010\n",
      "Epoch 49/200\n",
      "1642/1642 [==============================] - 13s 8ms/step - loss: 0.6917 - accuracy: 0.7393 - lr: 0.0010\n",
      "Epoch 50/200\n",
      "1642/1642 [==============================] - 14s 8ms/step - loss: 0.6899 - accuracy: 0.7399 - lr: 0.0010\n",
      "Epoch 51/200\n",
      "1642/1642 [==============================] - 14s 8ms/step - loss: 0.6882 - accuracy: 0.7405 - lr: 0.0010\n",
      "Epoch 52/200\n",
      "1642/1642 [==============================] - 13s 8ms/step - loss: 0.6866 - accuracy: 0.7410 - lr: 0.0010\n",
      "Epoch 53/200\n",
      "1642/1642 [==============================] - 14s 9ms/step - loss: 0.6850 - accuracy: 0.7416 - lr: 0.0010\n",
      "Epoch 54/200\n",
      "1642/1642 [==============================] - 14s 9ms/step - loss: 0.6834 - accuracy: 0.7421 - lr: 0.0010\n",
      "Epoch 55/200\n",
      "1642/1642 [==============================] - 14s 9ms/step - loss: 0.6819 - accuracy: 0.7426 - lr: 0.0010\n",
      "Epoch 56/200\n",
      "1642/1642 [==============================] - 13s 8ms/step - loss: 0.6805 - accuracy: 0.7430 - lr: 0.0010\n",
      "Epoch 57/200\n",
      "1642/1642 [==============================] - 13s 8ms/step - loss: 0.6791 - accuracy: 0.7435 - lr: 0.0010\n",
      "Epoch 58/200\n",
      "1642/1642 [==============================] - 13s 8ms/step - loss: 0.6776 - accuracy: 0.7441 - lr: 0.0010\n",
      "Epoch 59/200\n",
      "1642/1642 [==============================] - 13s 8ms/step - loss: 0.6763 - accuracy: 0.7446 - lr: 0.0010\n",
      "Epoch 60/200\n",
      "1642/1642 [==============================] - 13s 8ms/step - loss: 0.6750 - accuracy: 0.7450 - lr: 0.0010\n",
      "Epoch 61/200\n",
      "1642/1642 [==============================] - 13s 8ms/step - loss: 0.6737 - accuracy: 0.7454 - lr: 0.0010\n",
      "Epoch 62/200\n",
      "1642/1642 [==============================] - 13s 8ms/step - loss: 0.6724 - accuracy: 0.7459 - lr: 0.0010\n",
      "Epoch 63/200\n",
      "1642/1642 [==============================] - 13s 8ms/step - loss: 0.6713 - accuracy: 0.7464 - lr: 0.0010\n",
      "Epoch 64/200\n",
      "1642/1642 [==============================] - 13s 8ms/step - loss: 0.6701 - accuracy: 0.7468 - lr: 0.0010\n",
      "Epoch 65/200\n",
      "1642/1642 [==============================] - 13s 8ms/step - loss: 0.6689 - accuracy: 0.7471 - lr: 0.0010\n",
      "Epoch 66/200\n",
      "1642/1642 [==============================] - 13s 8ms/step - loss: 0.6678 - accuracy: 0.7476 - lr: 0.0010\n",
      "Epoch 67/200\n",
      "1642/1642 [==============================] - 13s 8ms/step - loss: 0.6667 - accuracy: 0.7479 - lr: 0.0010\n",
      "Epoch 68/200\n",
      "1642/1642 [==============================] - 13s 8ms/step - loss: 0.6656 - accuracy: 0.7483 - lr: 0.0010\n",
      "Epoch 69/200\n",
      "1642/1642 [==============================] - 13s 8ms/step - loss: 0.6646 - accuracy: 0.7486 - lr: 0.0010\n",
      "Epoch 70/200\n",
      "1642/1642 [==============================] - 13s 8ms/step - loss: 0.6636 - accuracy: 0.7490 - lr: 0.0010\n",
      "Epoch 71/200\n",
      "1642/1642 [==============================] - 13s 8ms/step - loss: 0.6626 - accuracy: 0.7494 - lr: 0.0010\n",
      "Epoch 72/200\n",
      "1642/1642 [==============================] - 13s 8ms/step - loss: 0.6616 - accuracy: 0.7497 - lr: 0.0010\n",
      "Epoch 73/200\n",
      "1642/1642 [==============================] - 13s 8ms/step - loss: 0.6606 - accuracy: 0.7499 - lr: 0.0010\n",
      "Epoch 74/200\n",
      "1642/1642 [==============================] - 13s 8ms/step - loss: 0.6597 - accuracy: 0.7503 - lr: 0.0010\n",
      "Epoch 75/200\n",
      "1642/1642 [==============================] - 13s 8ms/step - loss: 0.6588 - accuracy: 0.7506 - lr: 0.0010\n",
      "Epoch 76/200\n",
      "1642/1642 [==============================] - 13s 8ms/step - loss: 0.6579 - accuracy: 0.7508 - lr: 0.0010\n",
      "Epoch 77/200\n",
      "1642/1642 [==============================] - 13s 8ms/step - loss: 0.6570 - accuracy: 0.7511 - lr: 0.0010\n",
      "Epoch 78/200\n",
      "1642/1642 [==============================] - 13s 8ms/step - loss: 0.6562 - accuracy: 0.7513 - lr: 0.0010\n",
      "Epoch 79/200\n",
      "1642/1642 [==============================] - 14s 8ms/step - loss: 0.6554 - accuracy: 0.7517 - lr: 0.0010\n",
      "Epoch 80/200\n",
      "1642/1642 [==============================] - 13s 8ms/step - loss: 0.6545 - accuracy: 0.7519 - lr: 0.0010\n",
      "Epoch 81/200\n",
      "1642/1642 [==============================] - 13s 8ms/step - loss: 0.6537 - accuracy: 0.7522 - lr: 0.0010\n",
      "Epoch 82/200\n",
      "1642/1642 [==============================] - 13s 8ms/step - loss: 0.6530 - accuracy: 0.7524 - lr: 0.0010\n",
      "Epoch 83/200\n",
      "1642/1642 [==============================] - 14s 8ms/step - loss: 0.6522 - accuracy: 0.7527 - lr: 0.0010\n",
      "Epoch 84/200\n",
      "1642/1642 [==============================] - 13s 8ms/step - loss: 0.6514 - accuracy: 0.7529 - lr: 0.0010\n",
      "Epoch 85/200\n",
      "1642/1642 [==============================] - 13s 8ms/step - loss: 0.6507 - accuracy: 0.7531 - lr: 0.0010\n",
      "Epoch 86/200\n",
      "1642/1642 [==============================] - 13s 8ms/step - loss: 0.6499 - accuracy: 0.7534 - lr: 0.0010\n",
      "Epoch 87/200\n",
      "1642/1642 [==============================] - 13s 8ms/step - loss: 0.6493 - accuracy: 0.7537 - lr: 0.0010\n",
      "Epoch 88/200\n",
      "1642/1642 [==============================] - 13s 8ms/step - loss: 0.6485 - accuracy: 0.7538 - lr: 0.0010\n",
      "Epoch 89/200\n",
      "1642/1642 [==============================] - 13s 8ms/step - loss: 0.6479 - accuracy: 0.7541 - lr: 0.0010\n",
      "Epoch 90/200\n",
      "1642/1642 [==============================] - 13s 8ms/step - loss: 0.6472 - accuracy: 0.7544 - lr: 0.0010\n",
      "Epoch 91/200\n",
      "1642/1642 [==============================] - 13s 8ms/step - loss: 0.6465 - accuracy: 0.7545 - lr: 0.0010\n",
      "Epoch 92/200\n",
      "1642/1642 [==============================] - 13s 8ms/step - loss: 0.6459 - accuracy: 0.7547 - lr: 0.0010\n",
      "Epoch 93/200\n",
      "1642/1642 [==============================] - 13s 8ms/step - loss: 0.6453 - accuracy: 0.7549 - lr: 0.0010\n",
      "Epoch 94/200\n",
      "1642/1642 [==============================] - 13s 8ms/step - loss: 0.6446 - accuracy: 0.7552 - lr: 0.0010\n",
      "Epoch 95/200\n",
      "1642/1642 [==============================] - 13s 8ms/step - loss: 0.6440 - accuracy: 0.7553 - lr: 0.0010\n",
      "Epoch 96/200\n",
      "1642/1642 [==============================] - 13s 8ms/step - loss: 0.6434 - accuracy: 0.7555 - lr: 0.0010\n",
      "Epoch 97/200\n",
      "1642/1642 [==============================] - 13s 8ms/step - loss: 0.6428 - accuracy: 0.7557 - lr: 0.0010\n",
      "Epoch 98/200\n",
      "1642/1642 [==============================] - 13s 8ms/step - loss: 0.6422 - accuracy: 0.7559 - lr: 0.0010\n",
      "Epoch 99/200\n",
      "1642/1642 [==============================] - 13s 8ms/step - loss: 0.6416 - accuracy: 0.7561 - lr: 0.0010\n",
      "Epoch 100/200\n",
      "1642/1642 [==============================] - 13s 8ms/step - loss: 0.6411 - accuracy: 0.7562 - lr: 0.0010\n",
      "Epoch 101/200\n",
      "1642/1642 [==============================] - 13s 8ms/step - loss: 0.6405 - accuracy: 0.7565 - lr: 0.0010\n",
      "Epoch 102/200\n",
      "1642/1642 [==============================] - 13s 8ms/step - loss: 0.6400 - accuracy: 0.7566 - lr: 0.0010\n",
      "Epoch 103/200\n",
      "1642/1642 [==============================] - 13s 8ms/step - loss: 0.6394 - accuracy: 0.7568 - lr: 0.0010\n",
      "Epoch 104/200\n",
      "1642/1642 [==============================] - 13s 8ms/step - loss: 0.6389 - accuracy: 0.7569 - lr: 0.0010\n",
      "Epoch 105/200\n",
      "1642/1642 [==============================] - 13s 8ms/step - loss: 0.6384 - accuracy: 0.7572 - lr: 0.0010\n",
      "Epoch 106/200\n",
      "1642/1642 [==============================] - 13s 8ms/step - loss: 0.6379 - accuracy: 0.7573 - lr: 0.0010\n",
      "Epoch 107/200\n",
      "1642/1642 [==============================] - 13s 8ms/step - loss: 0.6374 - accuracy: 0.7574 - lr: 0.0010\n",
      "Epoch 108/200\n",
      "1642/1642 [==============================] - 13s 8ms/step - loss: 0.6369 - accuracy: 0.7576 - lr: 0.0010\n",
      "Epoch 109/200\n",
      "1642/1642 [==============================] - 13s 8ms/step - loss: 0.6364 - accuracy: 0.7577 - lr: 0.0010\n",
      "Epoch 110/200\n",
      "1642/1642 [==============================] - 13s 8ms/step - loss: 0.6359 - accuracy: 0.7580 - lr: 0.0010\n",
      "Epoch 111/200\n",
      "1642/1642 [==============================] - 13s 8ms/step - loss: 0.6354 - accuracy: 0.7580 - lr: 0.0010\n",
      "Epoch 112/200\n",
      "1642/1642 [==============================] - 13s 8ms/step - loss: 0.6350 - accuracy: 0.7582 - lr: 0.0010\n",
      "Epoch 113/200\n",
      "1642/1642 [==============================] - 13s 8ms/step - loss: 0.6345 - accuracy: 0.7582 - lr: 0.0010\n",
      "Epoch 114/200\n",
      "1642/1642 [==============================] - 13s 8ms/step - loss: 0.6340 - accuracy: 0.7584 - lr: 0.0010\n",
      "Epoch 115/200\n",
      "1642/1642 [==============================] - 13s 8ms/step - loss: 0.6336 - accuracy: 0.7586 - lr: 0.0010\n",
      "Epoch 116/200\n",
      "1642/1642 [==============================] - 13s 8ms/step - loss: 0.6332 - accuracy: 0.7587 - lr: 0.0010\n",
      "Epoch 117/200\n",
      "1642/1642 [==============================] - 13s 8ms/step - loss: 0.6327 - accuracy: 0.7589 - lr: 0.0010\n",
      "Epoch 118/200\n",
      "1642/1642 [==============================] - 13s 8ms/step - loss: 0.6323 - accuracy: 0.7591 - lr: 0.0010\n",
      "Epoch 119/200\n",
      "1642/1642 [==============================] - 13s 8ms/step - loss: 0.6319 - accuracy: 0.7592 - lr: 0.0010\n",
      "Epoch 120/200\n",
      "1642/1642 [==============================] - 13s 8ms/step - loss: 0.6315 - accuracy: 0.7591 - lr: 0.0010\n",
      "Epoch 121/200\n",
      "1642/1642 [==============================] - 13s 8ms/step - loss: 0.6311 - accuracy: 0.7594 - lr: 0.0010\n",
      "Epoch 122/200\n",
      "1642/1642 [==============================] - 13s 8ms/step - loss: 0.6307 - accuracy: 0.7595 - lr: 0.0010\n",
      "Epoch 123/200\n",
      "1642/1642 [==============================] - 13s 8ms/step - loss: 0.6303 - accuracy: 0.7596 - lr: 0.0010\n",
      "Epoch 124/200\n",
      "1642/1642 [==============================] - 13s 8ms/step - loss: 0.6299 - accuracy: 0.7597 - lr: 0.0010\n",
      "Epoch 125/200\n",
      "1642/1642 [==============================] - 14s 8ms/step - loss: 0.6295 - accuracy: 0.7599 - lr: 0.0010\n",
      "Epoch 126/200\n",
      "1642/1642 [==============================] - 13s 8ms/step - loss: 0.6291 - accuracy: 0.7600 - lr: 0.0010\n",
      "Epoch 127/200\n",
      "1642/1642 [==============================] - 13s 8ms/step - loss: 0.6287 - accuracy: 0.7601 - lr: 0.0010\n",
      "Epoch 128/200\n",
      "1642/1642 [==============================] - 13s 8ms/step - loss: 0.6284 - accuracy: 0.7602 - lr: 0.0010\n",
      "Epoch 129/200\n",
      "1642/1642 [==============================] - 13s 8ms/step - loss: 0.6280 - accuracy: 0.7603 - lr: 0.0010\n",
      "Epoch 130/200\n",
      "1642/1642 [==============================] - 13s 8ms/step - loss: 0.6276 - accuracy: 0.7604 - lr: 0.0010\n",
      "Epoch 131/200\n",
      "1642/1642 [==============================] - 13s 8ms/step - loss: 0.6273 - accuracy: 0.7605 - lr: 0.0010\n",
      "Epoch 132/200\n",
      "1642/1642 [==============================] - 13s 8ms/step - loss: 0.6269 - accuracy: 0.7607 - lr: 0.0010\n",
      "Epoch 133/200\n",
      "1642/1642 [==============================] - 13s 8ms/step - loss: 0.6266 - accuracy: 0.7607 - lr: 0.0010\n",
      "Epoch 134/200\n",
      "1642/1642 [==============================] - 13s 8ms/step - loss: 0.6262 - accuracy: 0.7608 - lr: 0.0010\n",
      "Epoch 135/200\n",
      "1642/1642 [==============================] - 13s 8ms/step - loss: 0.6259 - accuracy: 0.7610 - lr: 0.0010\n",
      "Epoch 136/200\n",
      "1642/1642 [==============================] - 13s 8ms/step - loss: 0.6255 - accuracy: 0.7611 - lr: 0.0010\n",
      "Epoch 137/200\n",
      "1642/1642 [==============================] - 13s 8ms/step - loss: 0.6252 - accuracy: 0.7611 - lr: 0.0010\n",
      "Epoch 138/200\n",
      "1642/1642 [==============================] - 13s 8ms/step - loss: 0.6249 - accuracy: 0.7613 - lr: 0.0010\n",
      "Epoch 139/200\n"
     ]
    },
    {
     "name": "stdout",
     "output_type": "stream",
     "text": [
      "1642/1642 [==============================] - 13s 8ms/step - loss: 0.6246 - accuracy: 0.7613 - lr: 0.0010\n",
      "Epoch 140/200\n",
      "1642/1642 [==============================] - 13s 8ms/step - loss: 0.6242 - accuracy: 0.7614 - lr: 0.0010\n",
      "Epoch 141/200\n",
      "1642/1642 [==============================] - 13s 8ms/step - loss: 0.6239 - accuracy: 0.7615 - lr: 0.0010\n",
      "Epoch 142/200\n",
      "1642/1642 [==============================] - 13s 8ms/step - loss: 0.6236 - accuracy: 0.7617 - lr: 0.0010\n",
      "Epoch 143/200\n",
      "1642/1642 [==============================] - 13s 8ms/step - loss: 0.6233 - accuracy: 0.7617 - lr: 0.0010\n",
      "Epoch 144/200\n",
      "1642/1642 [==============================] - 13s 8ms/step - loss: 0.6230 - accuracy: 0.7617 - lr: 0.0010\n",
      "Epoch 145/200\n",
      "1642/1642 [==============================] - 13s 8ms/step - loss: 0.6227 - accuracy: 0.7618 - lr: 0.0010\n",
      "Epoch 146/200\n",
      "1642/1642 [==============================] - 13s 8ms/step - loss: 0.6223 - accuracy: 0.7619 - lr: 0.0010\n",
      "Epoch 147/200\n",
      "1642/1642 [==============================] - 13s 8ms/step - loss: 0.6221 - accuracy: 0.7620 - lr: 0.0010\n",
      "Epoch 148/200\n",
      "1642/1642 [==============================] - 13s 8ms/step - loss: 0.6218 - accuracy: 0.7621 - lr: 0.0010\n",
      "Epoch 149/200\n",
      "1642/1642 [==============================] - 13s 8ms/step - loss: 0.6215 - accuracy: 0.7622 - lr: 0.0010\n",
      "Epoch 150/200\n",
      "1642/1642 [==============================] - 13s 8ms/step - loss: 0.6212 - accuracy: 0.7623 - lr: 0.0010\n",
      "Epoch 151/200\n",
      "1642/1642 [==============================] - 13s 8ms/step - loss: 0.6210 - accuracy: 0.7622 - lr: 0.0010\n",
      "Epoch 152/200\n",
      "1642/1642 [==============================] - 13s 8ms/step - loss: 0.6207 - accuracy: 0.7625 - lr: 0.0010\n",
      "Epoch 153/200\n",
      "1642/1642 [==============================] - 13s 8ms/step - loss: 0.6204 - accuracy: 0.7624 - lr: 0.0010\n",
      "Epoch 154/200\n",
      "1642/1642 [==============================] - 13s 8ms/step - loss: 0.6201 - accuracy: 0.7626 - lr: 0.0010\n",
      "Epoch 155/200\n",
      "1642/1642 [==============================] - 13s 8ms/step - loss: 0.6199 - accuracy: 0.7626 - lr: 0.0010\n",
      "Epoch 156/200\n",
      "1642/1642 [==============================] - 13s 8ms/step - loss: 0.6196 - accuracy: 0.7627 - lr: 0.0010\n",
      "Epoch 157/200\n",
      "1642/1642 [==============================] - 13s 8ms/step - loss: 0.6193 - accuracy: 0.7628 - lr: 0.0010\n",
      "Epoch 158/200\n",
      "1642/1642 [==============================] - 13s 8ms/step - loss: 0.6191 - accuracy: 0.7629 - lr: 0.0010\n",
      "Epoch 159/200\n",
      "1642/1642 [==============================] - 13s 8ms/step - loss: 0.6188 - accuracy: 0.7629 - lr: 0.0010\n",
      "Epoch 160/200\n",
      "1642/1642 [==============================] - 13s 8ms/step - loss: 0.6185 - accuracy: 0.7630 - lr: 0.0010\n",
      "Epoch 161/200\n",
      "1642/1642 [==============================] - 13s 8ms/step - loss: 0.6183 - accuracy: 0.7631 - lr: 0.0010\n",
      "Epoch 162/200\n",
      "1642/1642 [==============================] - 13s 8ms/step - loss: 0.6180 - accuracy: 0.7631 - lr: 0.0010\n",
      "Epoch 163/200\n",
      "1642/1642 [==============================] - 13s 8ms/step - loss: 0.6178 - accuracy: 0.7632 - lr: 0.0010\n",
      "Epoch 164/200\n",
      "1639/1642 [============================>.] - ETA: 0s - loss: 0.6176 - accuracy: 0.7632\n",
      "Epoch 00164: ReduceLROnPlateau reducing learning rate to 0.0002500000118743628.\n",
      "1642/1642 [==============================] - 13s 8ms/step - loss: 0.6176 - accuracy: 0.7632 - lr: 0.0010\n",
      "Epoch 165/200\n",
      "1642/1642 [==============================] - 13s 8ms/step - loss: 0.5919 - accuracy: 0.7761 - lr: 2.5000e-04\n",
      "Epoch 166/200\n",
      "1642/1642 [==============================] - 13s 8ms/step - loss: 0.5904 - accuracy: 0.7767 - lr: 2.5000e-04\n",
      "Epoch 167/200\n",
      "1642/1642 [==============================] - 13s 8ms/step - loss: 0.5896 - accuracy: 0.7770 - lr: 2.5000e-04\n",
      "Epoch 168/200\n",
      "1642/1642 [==============================] - 13s 8ms/step - loss: 0.5891 - accuracy: 0.7771 - lr: 2.5000e-04\n",
      "Epoch 169/200\n",
      "1642/1642 [==============================] - 13s 8ms/step - loss: 0.5887 - accuracy: 0.7772 - lr: 2.5000e-04\n",
      "Epoch 170/200\n",
      "1642/1642 [==============================] - 13s 8ms/step - loss: 0.5884 - accuracy: 0.7773 - lr: 2.5000e-04\n",
      "Epoch 171/200\n",
      "1642/1642 [==============================] - 12s 7ms/step - loss: 0.5882 - accuracy: 0.7773 - lr: 2.5000e-04\n",
      "Epoch 172/200\n",
      "1642/1642 [==============================] - 13s 8ms/step - loss: 0.5880 - accuracy: 0.7774 - lr: 2.5000e-04\n",
      "Epoch 173/200\n",
      "1642/1642 [==============================] - 13s 8ms/step - loss: 0.5878 - accuracy: 0.7774 - lr: 2.5000e-04\n",
      "Epoch 174/200\n",
      "1642/1642 [==============================] - 13s 8ms/step - loss: 0.5876 - accuracy: 0.7775 - lr: 2.5000e-04\n",
      "Epoch 175/200\n",
      "1642/1642 [==============================] - 13s 8ms/step - loss: 0.5875 - accuracy: 0.7775 - lr: 2.5000e-04\n",
      "Epoch 176/200\n",
      "1642/1642 [==============================] - 13s 8ms/step - loss: 0.5873 - accuracy: 0.7775 - lr: 2.5000e-04\n",
      "Epoch 177/200\n",
      "1642/1642 [==============================] - ETA: 0s - loss: 0.5872 - accuracy: 0.7776\n",
      "Epoch 00177: ReduceLROnPlateau reducing learning rate to 6.25000029685907e-05.\n",
      "1642/1642 [==============================] - 13s 8ms/step - loss: 0.5872 - accuracy: 0.7776 - lr: 2.5000e-04\n",
      "Epoch 178/200\n",
      "1642/1642 [==============================] - 13s 8ms/step - loss: 0.5802 - accuracy: 0.7814 - lr: 6.2500e-05\n",
      "Epoch 179/200\n",
      "1642/1642 [==============================] - 13s 8ms/step - loss: 0.5801 - accuracy: 0.7814 - lr: 6.2500e-05\n",
      "Epoch 180/200\n",
      "1642/1642 [==============================] - 13s 8ms/step - loss: 0.5800 - accuracy: 0.7814 - lr: 6.2500e-05\n",
      "Epoch 181/200\n",
      "1639/1642 [============================>.] - ETA: 0s - loss: 0.5800 - accuracy: 0.7814\n",
      "Epoch 00181: ReduceLROnPlateau reducing learning rate to 1.5625000742147677e-05.\n",
      "1642/1642 [==============================] - 13s 8ms/step - loss: 0.5800 - accuracy: 0.7814 - lr: 6.2500e-05\n",
      "Epoch 182/200\n",
      "1642/1642 [==============================] - 13s 8ms/step - loss: 0.5781 - accuracy: 0.7825 - lr: 1.5625e-05\n",
      "Epoch 183/200\n",
      "1642/1642 [==============================] - 13s 8ms/step - loss: 0.5781 - accuracy: 0.7825 - lr: 1.5625e-05\n",
      "Epoch 184/200\n",
      "1642/1642 [==============================] - 13s 8ms/step - loss: 0.5781 - accuracy: 0.7825 - lr: 1.5625e-05\n",
      "Epoch 185/200\n",
      "1636/1642 [============================>.] - ETA: 0s - loss: 0.5781 - accuracy: 0.7825\n",
      "Epoch 00185: ReduceLROnPlateau reducing learning rate to 3.906250185536919e-06.\n",
      "1642/1642 [==============================] - 13s 8ms/step - loss: 0.5781 - accuracy: 0.7825 - lr: 1.5625e-05\n",
      "Epoch 186/200\n",
      "1642/1642 [==============================] - 13s 8ms/step - loss: 0.5776 - accuracy: 0.7827 - lr: 3.9063e-06\n",
      "Epoch 187/200\n",
      "1642/1642 [==============================] - 13s 8ms/step - loss: 0.5776 - accuracy: 0.7827 - lr: 3.9063e-06\n",
      "Epoch 188/200\n",
      "1642/1642 [==============================] - 13s 8ms/step - loss: 0.5776 - accuracy: 0.7828 - lr: 3.9063e-06\n",
      "Epoch 189/200\n",
      "1638/1642 [============================>.] - ETA: 0s - loss: 0.5776 - accuracy: 0.7827\n",
      "Epoch 00189: ReduceLROnPlateau reducing learning rate to 9.765625463842298e-07.\n",
      "1642/1642 [==============================] - 13s 8ms/step - loss: 0.5776 - accuracy: 0.7828 - lr: 3.9063e-06\n",
      "Epoch 00189: early stopping\n"
     ]
    }
   ],
   "source": [
    "history = word2vec.fit(dataset, epochs=200, callbacks=[tensorboard_callback, earlystop, learning_rate])"
   ]
  },
  {
   "cell_type": "code",
   "execution_count": 29,
   "metadata": {},
   "outputs": [
    {
     "data": {
      "image/png": "[encoded data removed]",
      "text/plain": [
       "<Figure size 432x288 with 1 Axes>"
      ]
     },
     "metadata": {
      "needs_background": "light"
     },
     "output_type": "display_data"
    },
    {
     "data": {
      "text/plain": [
       "<Figure size 432x288 with 0 Axes>"
      ]
     },
     "metadata": {},
     "output_type": "display_data"
    }
   ],
   "source": [
    "import matplotlib.pyplot as plt\n",
    "\n",
    "%matplotlib inline\n",
    "acc = history.history['accuracy']\n",
    "loss = history.history['loss']\n",
    "\n",
    "epochs = range(len(acc))\n",
    "\n",
    "plt.plot(epochs, acc, 'r', label='Accuracy')\n",
    "plt.plot(epochs, loss, 'b', label='Loss')\n",
    "plt.title('Accuracy and loss')\n",
    "plt.legend()\n",
    "plt.figure()\n",
    "\n",
    "plt.show()"
   ]
  },
  {
   "cell_type": "code",
   "execution_count": 30,
   "metadata": {},
   "outputs": [
    {
     "name": "stdout",
     "output_type": "stream",
     "text": [
      "INFO:tensorflow:Assets written to: word2vec_exp1\\assets\n"
     ]
    }
   ],
   "source": [
    "word2vec.save('word2vec_exp1')"
   ]
  },
  {
   "cell_type": "markdown",
   "metadata": {},
   "source": [
    "# Experiment2 : Embedding dimesion 300"
   ]
  },
  {
   "cell_type": "code",
   "execution_count": 18,
   "metadata": {},
   "outputs": [],
   "source": [
    "embedding_dim = 300\n",
    "word2vec = Word2Vec(vocab_size, embedding_dim)\n",
    "word2vec.compile(optimizer='adam',\n",
    "                 loss=tf.keras.losses.CategoricalCrossentropy(from_logits=True),\n",
    "                 metrics=['accuracy'])"
   ]
  },
  {
   "cell_type": "code",
   "execution_count": 19,
   "metadata": {},
   "outputs": [],
   "source": [
    "tensorboard_callback = tf.keras.callbacks.TensorBoard(log_dir=\"logs\")\n",
    "\n",
    "earlystop = tf.keras.callbacks.EarlyStopping(\n",
    "    monitor='loss',\n",
    "    verbose=1,\n",
    "    patience=3\n",
    ")\n",
    "\n",
    "learning_rate = tf.keras.callbacks.ReduceLROnPlateau(\n",
    "    monitor='accuracy',\n",
    "    patience=3,\n",
    "    verbose=1,\n",
    "    factor=0.25,\n",
    "    min_lr=0.0000001\n",
    ")"
   ]
  },
  {
   "cell_type": "code",
   "execution_count": 20,
   "metadata": {
    "scrolled": true
   },
   "outputs": [
    {
     "name": "stdout",
     "output_type": "stream",
     "text": [
      "Epoch 1/200\n",
      "1642/1642 [==============================] - 16s 8ms/step - loss: 1.3748 - accuracy: 0.4131 - lr: 0.0010\n",
      "Epoch 2/200\n",
      "1642/1642 [==============================] - 14s 8ms/step - loss: 1.1884 - accuracy: 0.5211 - lr: 0.0010\n",
      "Epoch 3/200\n",
      "1642/1642 [==============================] - 13s 8ms/step - loss: 1.0694 - accuracy: 0.5838 - lr: 0.0010\n",
      "Epoch 4/200\n",
      "1642/1642 [==============================] - 13s 8ms/step - loss: 0.9776 - accuracy: 0.6290 - lr: 0.0010\n",
      "Epoch 5/200\n",
      "1642/1642 [==============================] - 15s 9ms/step - loss: 0.9033 - accuracy: 0.6631 - lr: 0.0010\n",
      "Epoch 6/200\n",
      "1642/1642 [==============================] - 13s 8ms/step - loss: 0.8423 - accuracy: 0.6900 - lr: 0.0010\n",
      "Epoch 7/200\n",
      "1642/1642 [==============================] - 14s 9ms/step - loss: 0.7917 - accuracy: 0.7115 - lr: 0.0010\n",
      "Epoch 8/200\n",
      "1642/1642 [==============================] - 13s 8ms/step - loss: 0.7493 - accuracy: 0.7288 - lr: 0.0010\n",
      "Epoch 9/200\n",
      "1642/1642 [==============================] - 13s 8ms/step - loss: 0.7136 - accuracy: 0.7428 - lr: 0.0010\n",
      "Epoch 10/200\n",
      "1642/1642 [==============================] - 13s 8ms/step - loss: 0.6834 - accuracy: 0.7541 - lr: 0.0010\n",
      "Epoch 11/200\n",
      "1642/1642 [==============================] - 12s 8ms/step - loss: 0.6578 - accuracy: 0.7633 - lr: 0.0010\n",
      "Epoch 12/200\n",
      "1642/1642 [==============================] - 14s 9ms/step - loss: 0.6360 - accuracy: 0.7708 - lr: 0.0010\n",
      "Epoch 13/200\n",
      "1642/1642 [==============================] - 13s 8ms/step - loss: 0.6173 - accuracy: 0.7768 - lr: 0.0010\n",
      "Epoch 14/200\n",
      "1642/1642 [==============================] - 13s 8ms/step - loss: 0.6012 - accuracy: 0.7819 - lr: 0.0010\n",
      "Epoch 15/200\n",
      "1642/1642 [==============================] - 13s 8ms/step - loss: 0.5873 - accuracy: 0.7861 - lr: 0.0010\n",
      "Epoch 16/200\n",
      "1642/1642 [==============================] - 13s 8ms/step - loss: 0.5753 - accuracy: 0.7895 - lr: 0.0010\n",
      "Epoch 17/200\n",
      "1642/1642 [==============================] - 15s 9ms/step - loss: 0.5648 - accuracy: 0.7923 - lr: 0.0010\n",
      "Epoch 18/200\n",
      "1642/1642 [==============================] - 13s 8ms/step - loss: 0.5556 - accuracy: 0.7949 - lr: 0.0010\n",
      "Epoch 19/200\n",
      "1642/1642 [==============================] - 14s 8ms/step - loss: 0.5475 - accuracy: 0.7971 - lr: 0.0010\n",
      "Epoch 20/200\n",
      "1642/1642 [==============================] - 13s 8ms/step - loss: 0.5403 - accuracy: 0.7989 - lr: 0.0010\n",
      "Epoch 21/200\n",
      "1642/1642 [==============================] - 13s 8ms/step - loss: 0.5339 - accuracy: 0.8004 - lr: 0.0010\n",
      "Epoch 22/200\n",
      "1642/1642 [==============================] - 13s 8ms/step - loss: 0.5282 - accuracy: 0.8018 - lr: 0.0010\n",
      "Epoch 23/200\n",
      "1642/1642 [==============================] - 13s 8ms/step - loss: 0.5231 - accuracy: 0.8029 - lr: 0.0010\n",
      "Epoch 24/200\n",
      "1642/1642 [==============================] - 14s 8ms/step - loss: 0.5185 - accuracy: 0.8038 - lr: 0.0010\n",
      "Epoch 25/200\n",
      "1642/1642 [==============================] - 13s 8ms/step - loss: 0.5143 - accuracy: 0.8047 - lr: 0.0010\n",
      "Epoch 26/200\n",
      "1642/1642 [==============================] - 12s 7ms/step - loss: 0.5105 - accuracy: 0.8054 - lr: 0.0010\n",
      "Epoch 27/200\n",
      "1642/1642 [==============================] - 13s 8ms/step - loss: 0.5071 - accuracy: 0.8061 - lr: 0.0010\n",
      "Epoch 28/200\n",
      "1642/1642 [==============================] - 13s 8ms/step - loss: 0.5039 - accuracy: 0.8067 - lr: 0.0010\n",
      "Epoch 29/200\n",
      "1642/1642 [==============================] - 13s 8ms/step - loss: 0.5010 - accuracy: 0.8073 - lr: 0.0010\n",
      "Epoch 30/200\n",
      "1642/1642 [==============================] - 13s 8ms/step - loss: 0.4984 - accuracy: 0.8076 - lr: 0.0010\n",
      "Epoch 31/200\n",
      "1642/1642 [==============================] - 13s 8ms/step - loss: 0.4960 - accuracy: 0.8082 - lr: 0.0010\n",
      "Epoch 32/200\n",
      "1642/1642 [==============================] - 12s 8ms/step - loss: 0.4937 - accuracy: 0.8084 - lr: 0.0010\n",
      "Epoch 33/200\n",
      "1642/1642 [==============================] - 13s 8ms/step - loss: 0.4916 - accuracy: 0.8087 - lr: 0.0010\n",
      "Epoch 34/200\n",
      "1642/1642 [==============================] - 13s 8ms/step - loss: 0.4897 - accuracy: 0.8091 - lr: 0.0010\n",
      "Epoch 35/200\n",
      "1642/1642 [==============================] - 13s 8ms/step - loss: 0.4879 - accuracy: 0.8093 - lr: 0.0010\n",
      "Epoch 36/200\n",
      "1642/1642 [==============================] - 13s 8ms/step - loss: 0.4862 - accuracy: 0.8096 - lr: 0.0010\n",
      "Epoch 37/200\n",
      "1642/1642 [==============================] - 14s 9ms/step - loss: 0.4847 - accuracy: 0.8098 - lr: 0.0010\n",
      "Epoch 38/200\n",
      "1642/1642 [==============================] - 13s 8ms/step - loss: 0.4833 - accuracy: 0.8100 - lr: 0.0010\n",
      "Epoch 39/200\n",
      "1642/1642 [==============================] - 13s 8ms/step - loss: 0.4819 - accuracy: 0.8101 - lr: 0.0010\n",
      "Epoch 40/200\n",
      "1642/1642 [==============================] - 13s 8ms/step - loss: 0.4806 - accuracy: 0.8103 - lr: 0.0010\n",
      "Epoch 41/200\n",
      "1642/1642 [==============================] - 12s 7ms/step - loss: 0.4794 - accuracy: 0.8104 - lr: 0.0010\n",
      "Epoch 42/200\n",
      "1642/1642 [==============================] - 13s 8ms/step - loss: 0.4783 - accuracy: 0.8106 - lr: 0.0010\n",
      "Epoch 43/200\n",
      "1642/1642 [==============================] - 12s 7ms/step - loss: 0.4773 - accuracy: 0.8106 - lr: 0.0010\n",
      "Epoch 44/200\n",
      "1642/1642 [==============================] - 13s 8ms/step - loss: 0.4762 - accuracy: 0.8107 - lr: 0.0010\n",
      "Epoch 45/200\n",
      "1642/1642 [==============================] - 12s 7ms/step - loss: 0.4753 - accuracy: 0.8109 - lr: 0.0010\n",
      "Epoch 46/200\n",
      "1642/1642 [==============================] - 13s 8ms/step - loss: 0.4744 - accuracy: 0.8109 - lr: 0.0010\n",
      "Epoch 47/200\n",
      "1642/1642 [==============================] - 13s 8ms/step - loss: 0.4736 - accuracy: 0.8110 - lr: 0.0010\n",
      "Epoch 48/200\n",
      "1642/1642 [==============================] - 13s 8ms/step - loss: 0.4728 - accuracy: 0.8112 - lr: 0.0010\n",
      "Epoch 49/200\n",
      "1642/1642 [==============================] - 13s 8ms/step - loss: 0.4720 - accuracy: 0.8112 - lr: 0.0010\n",
      "Epoch 50/200\n",
      "1642/1642 [==============================] - 13s 8ms/step - loss: 0.4713 - accuracy: 0.8113 - lr: 0.0010\n",
      "Epoch 51/200\n",
      "1641/1642 [============================>.] - ETA: 0s - loss: 0.4706 - accuracy: 0.8113\n",
      "Epoch 00051: ReduceLROnPlateau reducing learning rate to 0.0002500000118743628.\n",
      "1642/1642 [==============================] - 13s 8ms/step - loss: 0.4706 - accuracy: 0.8113 - lr: 0.0010\n",
      "Epoch 52/200\n",
      "1642/1642 [==============================] - 13s 8ms/step - loss: 0.4304 - accuracy: 0.8340 - lr: 2.5000e-04\n",
      "Epoch 53/200\n",
      "1642/1642 [==============================] - 13s 8ms/step - loss: 0.4281 - accuracy: 0.8344 - lr: 2.5000e-04\n",
      "Epoch 54/200\n",
      "1642/1642 [==============================] - 13s 8ms/step - loss: 0.4266 - accuracy: 0.8347 - lr: 2.5000e-04\n",
      "Epoch 55/200\n",
      "1642/1642 [==============================] - 13s 8ms/step - loss: 0.4256 - accuracy: 0.8348 - lr: 2.5000e-04\n",
      "Epoch 56/200\n",
      "1642/1642 [==============================] - 13s 8ms/step - loss: 0.4248 - accuracy: 0.8348 - lr: 2.5000e-04\n",
      "Epoch 57/200\n",
      "1642/1642 [==============================] - 13s 8ms/step - loss: 0.4242 - accuracy: 0.8348 - lr: 2.5000e-04\n",
      "Epoch 58/200\n",
      "1642/1642 [==============================] - 13s 8ms/step - loss: 0.4237 - accuracy: 0.8348 - lr: 2.5000e-04\n",
      "Epoch 59/200\n",
      "1639/1642 [============================>.] - ETA: 0s - loss: 0.4234 - accuracy: 0.8348\n",
      "Epoch 00059: ReduceLROnPlateau reducing learning rate to 6.25000029685907e-05.\n",
      "1642/1642 [==============================] - 12s 8ms/step - loss: 0.4233 - accuracy: 0.8348 - lr: 2.5000e-04\n",
      "Epoch 60/200\n",
      "1642/1642 [==============================] - 13s 8ms/step - loss: 0.4125 - accuracy: 0.8419 - lr: 6.2500e-05\n",
      "Epoch 61/200\n",
      "1642/1642 [==============================] - 12s 7ms/step - loss: 0.4123 - accuracy: 0.8419 - lr: 6.2500e-05\n",
      "Epoch 62/200\n",
      "1642/1642 [==============================] - 13s 8ms/step - loss: 0.4121 - accuracy: 0.8420 - lr: 6.2500e-05\n",
      "Epoch 63/200\n",
      "1633/1642 [============================>.] - ETA: 0s - loss: 0.4120 - accuracy: 0.8420\n",
      "Epoch 00063: ReduceLROnPlateau reducing learning rate to 1.5625000742147677e-05.\n",
      "1642/1642 [==============================] - 13s 8ms/step - loss: 0.4120 - accuracy: 0.8420 - lr: 6.2500e-05\n",
      "Epoch 64/200\n",
      "1642/1642 [==============================] - 12s 8ms/step - loss: 0.4092 - accuracy: 0.8438 - lr: 1.5625e-05\n",
      "Epoch 65/200\n",
      "1642/1642 [==============================] - 13s 8ms/step - loss: 0.4091 - accuracy: 0.8438 - lr: 1.5625e-05\n",
      "Epoch 66/200\n",
      "1642/1642 [==============================] - 12s 7ms/step - loss: 0.4091 - accuracy: 0.8438 - lr: 1.5625e-05\n",
      "Epoch 67/200\n",
      "1641/1642 [============================>.] - ETA: 0s - loss: 0.4091 - accuracy: 0.8438\n",
      "Epoch 00067: ReduceLROnPlateau reducing learning rate to 3.906250185536919e-06.\n",
      "1642/1642 [==============================] - 13s 8ms/step - loss: 0.4091 - accuracy: 0.8438 - lr: 1.5625e-05\n",
      "Epoch 68/200\n",
      "1642/1642 [==============================] - 12s 7ms/step - loss: 0.4084 - accuracy: 0.8443 - lr: 3.9063e-06\n",
      "Epoch 69/200\n",
      "1642/1642 [==============================] - 13s 8ms/step - loss: 0.4083 - accuracy: 0.8443 - lr: 3.9063e-06\n",
      "Epoch 70/200\n",
      "1642/1642 [==============================] - 13s 8ms/step - loss: 0.4083 - accuracy: 0.8443 - lr: 3.9063e-06\n",
      "Epoch 71/200\n",
      "1637/1642 [============================>.] - ETA: 0s - loss: 0.4084 - accuracy: 0.8443\n",
      "Epoch 00071: ReduceLROnPlateau reducing learning rate to 9.765625463842298e-07.\n",
      "1642/1642 [==============================] - 13s 8ms/step - loss: 0.4083 - accuracy: 0.8443 - lr: 3.9063e-06\n",
      "Epoch 72/200\n",
      "1642/1642 [==============================] - 13s 8ms/step - loss: 0.4082 - accuracy: 0.8444 - lr: 9.7656e-07\n",
      "Epoch 73/200\n",
      "1642/1642 [==============================] - 12s 8ms/step - loss: 0.4081 - accuracy: 0.8444 - lr: 9.7656e-07\n",
      "Epoch 74/200\n",
      "1642/1642 [==============================] - 13s 8ms/step - loss: 0.4081 - accuracy: 0.8444 - lr: 9.7656e-07\n",
      "Epoch 75/200\n",
      "1641/1642 [============================>.] - ETA: 0s - loss: 0.4081 - accuracy: 0.8444\n",
      "Epoch 00075: ReduceLROnPlateau reducing learning rate to 2.4414063659605745e-07.\n",
      "1642/1642 [==============================] - 13s 8ms/step - loss: 0.4081 - accuracy: 0.8444 - lr: 9.7656e-07\n",
      "Epoch 76/200\n",
      "1642/1642 [==============================] - 13s 8ms/step - loss: 0.4081 - accuracy: 0.8444 - lr: 2.4414e-07\n",
      "Epoch 77/200\n",
      "1642/1642 [==============================] - 13s 8ms/step - loss: 0.4081 - accuracy: 0.8444 - lr: 2.4414e-07\n",
      "Epoch 78/200\n",
      "1633/1642 [============================>.] - ETA: 0s - loss: 0.4082 - accuracy: 0.8444\n",
      "Epoch 00078: ReduceLROnPlateau reducing learning rate to 1e-07.\n",
      "1642/1642 [==============================] - 12s 8ms/step - loss: 0.4081 - accuracy: 0.8444 - lr: 2.4414e-07\n",
      "Epoch 79/200\n",
      "1642/1642 [==============================] - 13s 8ms/step - loss: 0.4081 - accuracy: 0.8444 - lr: 1.0000e-07\n",
      "Epoch 80/200\n",
      "1642/1642 [==============================] - 12s 8ms/step - loss: 0.4081 - accuracy: 0.8444 - lr: 1.0000e-07\n",
      "Epoch 81/200\n",
      "1642/1642 [==============================] - 13s 8ms/step - loss: 0.4081 - accuracy: 0.8444 - lr: 1.0000e-07\n",
      "Epoch 82/200\n",
      "1642/1642 [==============================] - 12s 8ms/step - loss: 0.4081 - accuracy: 0.8444 - lr: 1.0000e-07\n",
      "Epoch 83/200\n",
      "1642/1642 [==============================] - 12s 8ms/step - loss: 0.4081 - accuracy: 0.8444 - lr: 1.0000e-07\n",
      "Epoch 84/200\n",
      "1642/1642 [==============================] - 13s 8ms/step - loss: 0.4081 - accuracy: 0.8444 - lr: 1.0000e-07\n",
      "Epoch 85/200\n",
      "1642/1642 [==============================] - 12s 7ms/step - loss: 0.4081 - accuracy: 0.8444 - lr: 1.0000e-07\n",
      "Epoch 86/200\n",
      "1642/1642 [==============================] - 13s 8ms/step - loss: 0.4081 - accuracy: 0.8444 - lr: 1.0000e-07\n",
      "Epoch 87/200\n",
      "1642/1642 [==============================] - 12s 8ms/step - loss: 0.4081 - accuracy: 0.8444 - lr: 1.0000e-07\n",
      "Epoch 88/200\n",
      "1642/1642 [==============================] - 13s 8ms/step - loss: 0.4081 - accuracy: 0.8444 - lr: 1.0000e-07\n",
      "Epoch 89/200\n",
      "1642/1642 [==============================] - 13s 8ms/step - loss: 0.4081 - accuracy: 0.8444 - lr: 1.0000e-07\n",
      "Epoch 90/200\n",
      "1642/1642 [==============================] - 13s 8ms/step - loss: 0.4081 - accuracy: 0.8444 - lr: 1.0000e-07\n",
      "Epoch 00090: early stopping\n"
     ]
    }
   ],
   "source": [
    "history = word2vec.fit(dataset, epochs=200, callbacks=[tensorboard_callback, earlystop, learning_rate])"
   ]
  },
  {
   "cell_type": "code",
   "execution_count": 21,
   "metadata": {},
   "outputs": [
    {
     "data": {
      "image/png": "[encoded data removed]",
      "text/plain": [
       "<Figure size 432x288 with 1 Axes>"
      ]
     },
     "metadata": {
      "needs_background": "light"
     },
     "output_type": "display_data"
    },
    {
     "data": {
      "text/plain": [
       "<Figure size 432x288 with 0 Axes>"
      ]
     },
     "metadata": {},
     "output_type": "display_data"
    }
   ],
   "source": [
    "import matplotlib.pyplot as plt\n",
    "\n",
    "%matplotlib inline\n",
    "acc = history.history['accuracy']\n",
    "loss = history.history['loss']\n",
    "\n",
    "epochs = range(len(acc))\n",
    "\n",
    "plt.plot(epochs, acc, 'r', label='Accuracy')\n",
    "plt.plot(epochs, loss, 'b', label='Loss')\n",
    "plt.title('Accuracy and loss')\n",
    "plt.legend()\n",
    "plt.figure()\n",
    "\n",
    "plt.show()"
   ]
  },
  {
   "cell_type": "code",
   "execution_count": 22,
   "metadata": {},
   "outputs": [
    {
     "name": "stdout",
     "output_type": "stream",
     "text": [
      "INFO:tensorflow:Assets written to: word2vec_exp2\\assets\n"
     ]
    }
   ],
   "source": [
    "word2vec.save('word2vec_exp2')"
   ]
  },
  {
   "cell_type": "code",
   "execution_count": null,
   "metadata": {},
   "outputs": [],
   "source": [
    "weights = word2vec.get_layer('w2v_embedding').get_weights()[0]\n",
    "vocab = vectorize_layer.get_vocabulary()"
   ]
  },
  {
   "cell_type": "code",
   "execution_count": null,
   "metadata": {},
   "outputs": [],
   "source": [
    "word2vec.get_layer('w2v_embedding')"
   ]
  },
  {
   "cell_type": "code",
   "execution_count": 103,
   "metadata": {},
   "outputs": [],
   "source": [
    "import io\n",
    "\n",
    "out_v = io.open('vectors.tsv', 'w', encoding='utf-8')\n",
    "out_m = io.open('metadata.tsv', 'w', encoding='utf-8')\n",
    "\n",
    "for index, word in enumerate(vocab):\n",
    "    if index == 0:\n",
    "        continue  # skip 0, it's padding.\n",
    "    vec = weights[index]\n",
    "    out_v.write('\\t'.join([str(x) for x in vec]) + \"\\n\")\n",
    "    out_m.write(word + \"\\n\")\n",
    "out_v.close()\n",
    "out_m.close()"
   ]
  },
  {
   "cell_type": "markdown",
   "metadata": {},
   "source": [
    "# Classifier part\n",
    "- Using RNN based model"
   ]
  },
  {
   "cell_type": "markdown",
   "metadata": {},
   "source": [
    "Rock: 0\n",
    "Pop: 1\n",
    "Metal: 2\n",
    "Jazz: 3\n",
    "Folk: 4\n",
    "Indie: 5\n",
    "R&B: 6\n",
    "Hip-Hop: 7\n",
    "Electronic: 8\n",
    "Country: 9"
   ]
  },
  {
   "cell_type": "code",
   "execution_count": 7,
   "metadata": {},
   "outputs": [],
   "source": [
    "genre_idx = {\n",
    "    'Rock': 0,\n",
    "    'Pop': 1,\n",
    "    'Metal': 2,\n",
    "    'Jazz': 3,\n",
    "    'Folk': 4,\n",
    "    'Indie': 5,\n",
    "    'R&B': 6,\n",
    "    'Hip-Hop': 7,\n",
    "    'Electronic': 8,\n",
    "    'Country': 9,\n",
    "}"
   ]
  },
  {
   "cell_type": "code",
   "execution_count": 8,
   "metadata": {},
   "outputs": [],
   "source": [
    "# define data and label\n",
    "x = processed_lyrics\n",
    "y = []\n",
    "\n",
    "for genre in df['Genre']:\n",
    "    y.append(genre_idx[genre])"
   ]
  },
  {
   "cell_type": "code",
   "execution_count": 9,
   "metadata": {},
   "outputs": [],
   "source": [
    "BUFFER_SIZE = 10000\n",
    "BATCH_SIZE = 1024\n",
    "\n",
    "train_ds = tf.data.Dataset.from_tensor_slices((x, y))\n",
    "train_ds = train_ds.shuffle(BUFFER_SIZE).batch(BATCH_SIZE).prefetch(tf.data.AUTOTUNE)"
   ]
  },
  {
   "cell_type": "code",
   "execution_count": 10,
   "metadata": {},
   "outputs": [],
   "source": [
    "import numpy as np\n",
    "from sklearn.model_selection import train_test_split\n",
    "\n",
    "X_train, X_val, y_train, y_val = train_test_split(\n",
    "    x, y, test_size=0.3, random_state=42\n",
    ")"
   ]
  },
  {
   "cell_type": "code",
   "execution_count": 11,
   "metadata": {},
   "outputs": [
    {
     "name": "stdout",
     "output_type": "stream",
     "text": [
      "[107016, 19098, 86217, 7240, 8165, 2002, 2763, 13314, 2238, 1890]\n"
     ]
    }
   ],
   "source": [
    "# class weight\n",
    "num_data = []\n",
    "total = len(x)\n",
    "\n",
    "for genre in df['Genre'].unique():\n",
    "    num_data.append(len(df[df['Genre'] == genre]))\n",
    "\n",
    "print(num_data)\n",
    "\n",
    "class_weight = {\n",
    "    0: 1 - num_data[0] / total,\n",
    "    1: 1 - num_data[1] / total,\n",
    "    2: 1 - num_data[2] / total,\n",
    "    3: 1 - num_data[3] / total,\n",
    "    4: 1 - num_data[4] / total,\n",
    "    5: 1 - num_data[5] / total,\n",
    "    6: 1 - num_data[6] / total,\n",
    "    7: 1 - num_data[7] / total,\n",
    "    8: 1 - num_data[8] / total,\n",
    "    9: 1 - num_data[9] / total\n",
    "}"
   ]
  },
  {
   "cell_type": "code",
   "execution_count": 14,
   "metadata": {},
   "outputs": [
    {
     "name": "stdout",
     "output_type": "stream",
     "text": [
      "0: 0.5718383791504462\n",
      "1: 0.9235905786519326\n",
      "2: 0.6550533521642934\n",
      "3: 0.9710333956142\n",
      "4: 0.9673325518218153\n",
      "5: 0.9919901737596172\n",
      "6: 0.9889454795693418\n",
      "7: 0.9467318548629088\n",
      "8: 0.991045958478533\n",
      "9: 0.9924382759269114\n"
     ]
    }
   ],
   "source": [
    "for w in class_weight:\n",
    "    print(f'{w}: {class_weight[w]}')"
   ]
  },
  {
   "cell_type": "code",
   "execution_count": 12,
   "metadata": {},
   "outputs": [],
   "source": [
    "VOCAB_SIZE = 1000 # max numberof token\n",
    "encoder = tf.keras.layers.TextVectorization(\n",
    "    max_tokens=VOCAB_SIZE)\n",
    "encoder.adapt(train_ds.map(lambda text, label: text))   "
   ]
  },
  {
   "cell_type": "code",
   "execution_count": null,
   "metadata": {},
   "outputs": [],
   "source": [
    "class GenreClassifier(tf.keras.Model):\n",
    "    \n",
    "    def __init__(self):\n",
    "        super(GenreClassifier, self).__init__()    \n",
    "        self.encoder = encoder\n",
    "        self.embed = my_word2vec.get_layer('w2v_embedding')\n",
    "        self.lstm = tf.keras.layers.Bidirectional(tf.keras.layers.LSTM(64))\n",
    "        self.dense1 = tf.keras.layers.Dense(64, activation='relu')\n",
    "        self.predict = tf.keras.layers.Dense(10, activation='softmax')\n",
    "        \n",
    "    def call(self, inputs):\n",
    "        x = self.encoder(inputs)\n",
    "        x = self.embed(x)\n",
    "        x = self.lstm(x)\n",
    "        x = self.dense1(x)\n",
    "        return self.predict(x)\n",
    "    "
   ]
  },
  {
   "cell_type": "markdown",
   "metadata": {},
   "source": [
    "# Experiment 1\n",
    "- Bidirection LSTM 64 units -> Dense 64 units"
   ]
  },
  {
   "cell_type": "code",
   "execution_count": 54,
   "metadata": {},
   "outputs": [],
   "source": [
    "model = tf.keras.Sequential([\n",
    "    encoder,\n",
    "    word2vec.get_layer('w2v_embedding'),\n",
    "    tf.keras.layers.Bidirectional(tf.keras.layers.LSTM(64)),\n",
    "    tf.keras.layers.Dense(64, activation='relu'),\n",
    "    tf.keras.layers.Dense(10, activation='softmax')\n",
    "])"
   ]
  },
  {
   "cell_type": "code",
   "execution_count": 55,
   "metadata": {},
   "outputs": [],
   "source": [
    "model.layers[0].trainable = False\n",
    "model.layers[1].trainable = False"
   ]
  },
  {
   "cell_type": "code",
   "execution_count": 56,
   "metadata": {},
   "outputs": [],
   "source": [
    "model.compile(\n",
    "    loss=tf.keras.losses.SparseCategoricalCrossentropy(from_logits=False),\n",
    "    optimizer=tf.keras.optimizers.Adam(1e-4),\n",
    "    metrics=['accuracy']\n",
    ")"
   ]
  },
  {
   "cell_type": "code",
   "execution_count": 57,
   "metadata": {},
   "outputs": [],
   "source": [
    "model_checkpoint = tf.keras.callbacks.ModelCheckpoint(\n",
    "    'best_model_2bidrection',\n",
    "    monitor='val_accuracy',\n",
    "    mode='max',\n",
    "    verbose=1,\n",
    "    save_best_only=True\n",
    ")\n",
    "\n",
    "tensorboard_callback = tf.keras.callbacks.TensorBoard(log_dir=\"logs\")\n",
    "\n",
    "earlystop = tf.keras.callbacks.EarlyStopping(\n",
    "    monitor='val_loss',\n",
    "    verbose=1,\n",
    "    patience=4\n",
    ")\n",
    "\n",
    "learning_rate = tf.keras.callbacks.ReduceLROnPlateau(\n",
    "    monitor='val_accuracy',\n",
    "    patience=3,\n",
    "    verbose=1,\n",
    "    factor=0.25,\n",
    "    min_lr=0.0000001\n",
    ")"
   ]
  },
  {
   "cell_type": "code",
   "execution_count": 58,
   "metadata": {
    "scrolled": true
   },
   "outputs": [
    {
     "name": "stdout",
     "output_type": "stream",
     "text": [
      "Epoch 1/50\n",
      "5468/5468 [==============================] - 182s 33ms/step - loss: 1.0738 - accuracy: 0.5075 - val_loss: 1.2713 - val_accuracy: 0.5573 - lr: 1.0000e-04\n",
      "Epoch 2/50\n",
      "5468/5468 [==============================] - 175s 32ms/step - loss: 0.9979 - accuracy: 0.5536 - val_loss: 1.2581 - val_accuracy: 0.5566 - lr: 1.0000e-04\n",
      "Epoch 3/50\n",
      "5468/5468 [==============================] - 175s 32ms/step - loss: 0.9784 - accuracy: 0.5641 - val_loss: 1.2690 - val_accuracy: 0.5403 - lr: 1.0000e-04\n",
      "Epoch 4/50\n",
      "5468/5468 [==============================] - 175s 32ms/step - loss: 0.9653 - accuracy: 0.5698 - val_loss: 1.2124 - val_accuracy: 0.5776 - lr: 1.0000e-04\n",
      "Epoch 5/50\n",
      "5468/5468 [==============================] - 174s 32ms/step - loss: 0.9548 - accuracy: 0.5760 - val_loss: 1.2019 - val_accuracy: 0.5803 - lr: 1.0000e-04\n",
      "Epoch 6/50\n",
      "5468/5468 [==============================] - 175s 32ms/step - loss: 0.9468 - accuracy: 0.5788 - val_loss: 1.2048 - val_accuracy: 0.5781 - lr: 1.0000e-04\n",
      "Epoch 7/50\n",
      "5468/5468 [==============================] - 175s 32ms/step - loss: 0.9394 - accuracy: 0.5830 - val_loss: 1.1926 - val_accuracy: 0.5863 - lr: 1.0000e-04\n",
      "Epoch 8/50\n",
      "5468/5468 [==============================] - 179s 33ms/step - loss: 0.9326 - accuracy: 0.5869 - val_loss: 1.1865 - val_accuracy: 0.5877 - lr: 1.0000e-04\n",
      "Epoch 9/50\n",
      "5468/5468 [==============================] - 170s 31ms/step - loss: 0.9266 - accuracy: 0.5892 - val_loss: 1.1756 - val_accuracy: 0.5882 - lr: 1.0000e-04\n",
      "Epoch 10/50\n",
      "5468/5468 [==============================] - 172s 32ms/step - loss: 0.9212 - accuracy: 0.5904 - val_loss: 1.1880 - val_accuracy: 0.5795 - lr: 1.0000e-04\n",
      "Epoch 11/50\n",
      "5468/5468 [==============================] - 171s 31ms/step - loss: 0.9161 - accuracy: 0.5932 - val_loss: 1.1715 - val_accuracy: 0.5896 - lr: 1.0000e-04\n",
      "Epoch 12/50\n",
      "5468/5468 [==============================] - 172s 31ms/step - loss: 0.9117 - accuracy: 0.5968 - val_loss: 1.1770 - val_accuracy: 0.5897 - lr: 1.0000e-04\n",
      "Epoch 13/50\n",
      "5468/5468 [==============================] - 171s 31ms/step - loss: 0.9070 - accuracy: 0.5974 - val_loss: 1.1634 - val_accuracy: 0.5931 - lr: 1.0000e-04\n",
      "Epoch 14/50\n",
      "5468/5468 [==============================] - 169s 31ms/step - loss: 0.9027 - accuracy: 0.6003 - val_loss: 1.1660 - val_accuracy: 0.5901 - lr: 1.0000e-04\n",
      "Epoch 15/50\n",
      "5468/5468 [==============================] - 177s 32ms/step - loss: 0.8986 - accuracy: 0.6005 - val_loss: 1.1540 - val_accuracy: 0.6035 - lr: 1.0000e-04\n",
      "Epoch 16/50\n",
      "5468/5468 [==============================] - 173s 32ms/step - loss: 0.8947 - accuracy: 0.6027 - val_loss: 1.1506 - val_accuracy: 0.5989 - lr: 1.0000e-04\n",
      "Epoch 17/50\n",
      "5468/5468 [==============================] - 167s 31ms/step - loss: 0.8910 - accuracy: 0.6046 - val_loss: 1.1731 - val_accuracy: 0.5818 - lr: 1.0000e-04\n",
      "Epoch 18/50\n",
      "5467/5468 [============================>.] - ETA: 0s - loss: 0.8870 - accuracy: 0.6061\n",
      "Epoch 00018: ReduceLROnPlateau reducing learning rate to 2.499999936844688e-05.\n",
      "5468/5468 [==============================] - 168s 31ms/step - loss: 0.8870 - accuracy: 0.6061 - val_loss: 1.1620 - val_accuracy: 0.5892 - lr: 1.0000e-04\n",
      "Epoch 19/50\n",
      "5468/5468 [==============================] - 167s 31ms/step - loss: 0.8748 - accuracy: 0.6125 - val_loss: 1.1590 - val_accuracy: 0.5941 - lr: 2.5000e-05\n",
      "Epoch 20/50\n",
      "5468/5468 [==============================] - 168s 31ms/step - loss: 0.8730 - accuracy: 0.6139 - val_loss: 1.1613 - val_accuracy: 0.5912 - lr: 2.5000e-05\n",
      "Epoch 00020: early stopping\n"
     ]
    }
   ],
   "source": [
    "history_classifier = model.fit(\n",
    "    X_train, y_train, \n",
    "    epochs=50,           \n",
    "    validation_data=(X_val, y_val),\n",
    "    batch_size=32,\n",
    "    callbacks=[earlystop, learning_rate],\n",
    "    class_weight=class_weight\n",
    ")"
   ]
  },
  {
   "cell_type": "code",
   "execution_count": 59,
   "metadata": {},
   "outputs": [
    {
     "data": {
      "image/png": "[encoded data removed]",
      "text/plain": [
       "<Figure size 432x288 with 1 Axes>"
      ]
     },
     "metadata": {
      "needs_background": "light"
     },
     "output_type": "display_data"
    },
    {
     "data": {
      "image/png": "[encoded data removed]",
      "text/plain": [
       "<Figure size 432x288 with 1 Axes>"
      ]
     },
     "metadata": {
      "needs_background": "light"
     },
     "output_type": "display_data"
    },
    {
     "data": {
      "text/plain": [
       "<Figure size 432x288 with 0 Axes>"
      ]
     },
     "metadata": {},
     "output_type": "display_data"
    }
   ],
   "source": [
    "import matplotlib.pyplot as plt\n",
    "\n",
    "acc = history_classifier.history['accuracy']\n",
    "loss = history_classifier.history['loss']\n",
    "val_acc = history_classifier.history['val_accuracy']\n",
    "val_loss = history_classifier.history['val_loss']\n",
    "\n",
    "epochs = range(len(acc))\n",
    "\n",
    "plt.plot(epochs, acc, 'r', label='Training accuracy')\n",
    "plt.plot(epochs, val_acc, 'b', label='Validation accuracy')\n",
    "plt.title('Accuracy')\n",
    "plt.legend()\n",
    "plt.figure()\n",
    "\n",
    "plt.plot(epochs, loss, 'r', label='Training loss')\n",
    "plt.plot(epochs, val_loss, 'b', label='Validation loss')\n",
    "plt.title('Accuracy and loss')\n",
    "plt.legend()\n",
    "plt.figure()\n",
    "\n",
    "\n",
    "plt.show()"
   ]
  },
  {
   "cell_type": "code",
   "execution_count": 60,
   "metadata": {},
   "outputs": [
    {
     "name": "stderr",
     "output_type": "stream",
     "text": [
      "WARNING:absl:Found untraced functions such as lstm_cell_4_layer_call_fn, lstm_cell_4_layer_call_and_return_conditional_losses, lstm_cell_5_layer_call_fn, lstm_cell_5_layer_call_and_return_conditional_losses, lstm_cell_4_layer_call_fn while saving (showing 5 of 10). These functions will not be directly callable after loading.\n"
     ]
    },
    {
     "name": "stdout",
     "output_type": "stream",
     "text": [
      "INFO:tensorflow:Assets written to: experiment1-LSTM64\\assets\n"
     ]
    },
    {
     "name": "stderr",
     "output_type": "stream",
     "text": [
      "INFO:tensorflow:Assets written to: experiment1-LSTM64\\assets\n",
      "WARNING:absl:<keras.layers.recurrent.LSTMCell object at 0x000001E9349B2048> has the same name 'LSTMCell' as a built-in Keras object. Consider renaming <class 'keras.layers.recurrent.LSTMCell'> to avoid naming conflicts when loading with `tf.keras.models.load_model`. If renaming is not possible, pass the object in the `custom_objects` parameter of the load function.\n",
      "WARNING:absl:<keras.layers.recurrent.LSTMCell object at 0x000001E941FCE2C8> has the same name 'LSTMCell' as a built-in Keras object. Consider renaming <class 'keras.layers.recurrent.LSTMCell'> to avoid naming conflicts when loading with `tf.keras.models.load_model`. If renaming is not possible, pass the object in the `custom_objects` parameter of the load function.\n"
     ]
    }
   ],
   "source": [
    "model.save('experiment1-LSTM64')"
   ]
  },
  {
   "cell_type": "markdown",
   "metadata": {},
   "source": [
    "# Experiment 2 (with 300 dim word2vec embedding)\n",
    "- Bidirection LSTM 64 units -> Dense 64 units"
   ]
  },
  {
   "cell_type": "code",
   "execution_count": 34,
   "metadata": {},
   "outputs": [],
   "source": [
    "model = tf.keras.Sequential([\n",
    "    encoder,\n",
    "    word2vec.get_layer('w2v_embedding'),\n",
    "    tf.keras.layers.Bidirectional(tf.keras.layers.LSTM(64)),\n",
    "    tf.keras.layers.Dense(64, activation='relu'),\n",
    "    tf.keras.layers.Dense(10, activation='softmax')\n",
    "])"
   ]
  },
  {
   "cell_type": "code",
   "execution_count": 35,
   "metadata": {},
   "outputs": [],
   "source": [
    "model.layers[0].trainable = False\n",
    "model.layers[1].trainable = False"
   ]
  },
  {
   "cell_type": "code",
   "execution_count": 36,
   "metadata": {},
   "outputs": [],
   "source": [
    "model.compile(\n",
    "    loss=tf.keras.losses.SparseCategoricalCrossentropy(from_logits=False),\n",
    "    optimizer=tf.keras.optimizers.Adam(1e-4),\n",
    "    metrics=['accuracy']\n",
    ")"
   ]
  },
  {
   "cell_type": "code",
   "execution_count": 37,
   "metadata": {},
   "outputs": [],
   "source": [
    "model_checkpoint = tf.keras.callbacks.ModelCheckpoint(\n",
    "    'best_model_2bidrection',\n",
    "    monitor='val_accuracy',\n",
    "    mode='max',\n",
    "    verbose=1,\n",
    "    save_best_only=True\n",
    ")\n",
    "\n",
    "tensorboard_callback = tf.keras.callbacks.TensorBoard(log_dir=\"logs\")\n",
    "\n",
    "earlystop = tf.keras.callbacks.EarlyStopping(\n",
    "    monitor='val_loss',\n",
    "    verbose=1,\n",
    "    patience=4\n",
    ")\n",
    "\n",
    "learning_rate = tf.keras.callbacks.ReduceLROnPlateau(\n",
    "    monitor='val_accuracy',\n",
    "    patience=3,\n",
    "    verbose=1,\n",
    "    factor=0.25,\n",
    "    min_lr=0.0000001\n",
    ")"
   ]
  },
  {
   "cell_type": "code",
   "execution_count": 38,
   "metadata": {
    "scrolled": true
   },
   "outputs": [
    {
     "name": "stdout",
     "output_type": "stream",
     "text": [
      "Epoch 1/50\n",
      "5468/5468 [==============================] - 183s 33ms/step - loss: 1.0812 - accuracy: 0.5058 - val_loss: 1.2659 - val_accuracy: 0.5450 - lr: 1.0000e-04\n",
      "Epoch 2/50\n",
      "5468/5468 [==============================] - 177s 32ms/step - loss: 0.9853 - accuracy: 0.5602 - val_loss: 1.2231 - val_accuracy: 0.5710 - lr: 1.0000e-04\n",
      "Epoch 3/50\n",
      "5468/5468 [==============================] - 179s 33ms/step - loss: 0.9589 - accuracy: 0.5756 - val_loss: 1.2068 - val_accuracy: 0.5713 - lr: 1.0000e-04\n",
      "Epoch 4/50\n",
      "5468/5468 [==============================] - 183s 33ms/step - loss: 0.9418 - accuracy: 0.5836 - val_loss: 1.2028 - val_accuracy: 0.5760 - lr: 1.0000e-04\n",
      "Epoch 5/50\n",
      "5468/5468 [==============================] - 187s 34ms/step - loss: 0.9282 - accuracy: 0.5904 - val_loss: 1.1772 - val_accuracy: 0.5902 - lr: 1.0000e-04\n",
      "Epoch 6/50\n",
      "5468/5468 [==============================] - 196s 36ms/step - loss: 0.9170 - accuracy: 0.5959 - val_loss: 1.1719 - val_accuracy: 0.5908 - lr: 1.0000e-04\n",
      "Epoch 7/50\n",
      "5468/5468 [==============================] - 178s 33ms/step - loss: 0.9074 - accuracy: 0.5994 - val_loss: 1.1629 - val_accuracy: 0.5939 - lr: 1.0000e-04\n",
      "Epoch 8/50\n",
      "5468/5468 [==============================] - 171s 31ms/step - loss: 0.8984 - accuracy: 0.6043 - val_loss: 1.1617 - val_accuracy: 0.5954 - lr: 1.0000e-04\n",
      "Epoch 9/50\n",
      "5468/5468 [==============================] - 170s 31ms/step - loss: 0.8905 - accuracy: 0.6082 - val_loss: 1.1523 - val_accuracy: 0.5971 - lr: 1.0000e-04\n",
      "Epoch 10/50\n",
      "5468/5468 [==============================] - 170s 31ms/step - loss: 0.8821 - accuracy: 0.6114 - val_loss: 1.1602 - val_accuracy: 0.5950 - lr: 1.0000e-04\n",
      "Epoch 11/50\n",
      "5468/5468 [==============================] - 173s 32ms/step - loss: 0.8749 - accuracy: 0.6144 - val_loss: 1.1549 - val_accuracy: 0.5950 - lr: 1.0000e-04\n",
      "Epoch 12/50\n",
      "5466/5468 [============================>.] - ETA: 0s - loss: 0.8674 - accuracy: 0.6168\n",
      "Epoch 00012: ReduceLROnPlateau reducing learning rate to 2.499999936844688e-05.\n",
      "5468/5468 [==============================] - 182s 33ms/step - loss: 0.8674 - accuracy: 0.6168 - val_loss: 1.1587 - val_accuracy: 0.5894 - lr: 1.0000e-04\n",
      "Epoch 13/50\n",
      "5468/5468 [==============================] - 213s 39ms/step - loss: 0.8514 - accuracy: 0.6264 - val_loss: 1.1493 - val_accuracy: 0.5971 - lr: 2.5000e-05\n",
      "Epoch 14/50\n",
      "5468/5468 [==============================] - 214s 39ms/step - loss: 0.8480 - accuracy: 0.6272 - val_loss: 1.1517 - val_accuracy: 0.6000 - lr: 2.5000e-05\n",
      "Epoch 15/50\n",
      "5468/5468 [==============================] - 193s 35ms/step - loss: 0.8457 - accuracy: 0.6288 - val_loss: 1.1500 - val_accuracy: 0.5993 - lr: 2.5000e-05\n",
      "Epoch 16/50\n",
      "5468/5468 [==============================] - 200s 37ms/step - loss: 0.8433 - accuracy: 0.6294 - val_loss: 1.1453 - val_accuracy: 0.6014 - lr: 2.5000e-05\n",
      "Epoch 17/50\n",
      "5468/5468 [==============================] - 208s 38ms/step - loss: 0.8411 - accuracy: 0.6307 - val_loss: 1.1504 - val_accuracy: 0.5988 - lr: 2.5000e-05\n",
      "Epoch 18/50\n",
      "5468/5468 [==============================] - 191s 35ms/step - loss: 0.8390 - accuracy: 0.6316 - val_loss: 1.1451 - val_accuracy: 0.6008 - lr: 2.5000e-05\n",
      "Epoch 19/50\n",
      "5468/5468 [==============================] - ETA: 0s - loss: 0.8369 - accuracy: 0.6329\n",
      "Epoch 00019: ReduceLROnPlateau reducing learning rate to 6.24999984211172e-06.\n",
      "5468/5468 [==============================] - 189s 35ms/step - loss: 0.8369 - accuracy: 0.6329 - val_loss: 1.1636 - val_accuracy: 0.5913 - lr: 2.5000e-05\n",
      "Epoch 20/50\n",
      "5468/5468 [==============================] - 200s 37ms/step - loss: 0.8316 - accuracy: 0.6355 - val_loss: 1.1535 - val_accuracy: 0.5966 - lr: 6.2500e-06\n",
      "Epoch 21/50\n",
      "5468/5468 [==============================] - 213s 39ms/step - loss: 0.8305 - accuracy: 0.6356 - val_loss: 1.1475 - val_accuracy: 0.6010 - lr: 6.2500e-06\n",
      "Epoch 22/50\n",
      "5468/5468 [==============================] - ETA: 0s - loss: 0.8299 - accuracy: 0.6361\n",
      "Epoch 00022: ReduceLROnPlateau reducing learning rate to 1.56249996052793e-06.\n",
      "5468/5468 [==============================] - 195s 36ms/step - loss: 0.8299 - accuracy: 0.6361 - val_loss: 1.1463 - val_accuracy: 0.6011 - lr: 6.2500e-06\n",
      "Epoch 00022: early stopping\n"
     ]
    }
   ],
   "source": [
    "history_classifier = model.fit(\n",
    "    X_train, y_train, \n",
    "    epochs=50,           \n",
    "    validation_data=(X_val, y_val),\n",
    "    batch_size=32,\n",
    "    callbacks=[earlystop, learning_rate],\n",
    "    class_weight=class_weight\n",
    ")"
   ]
  },
  {
   "cell_type": "code",
   "execution_count": 39,
   "metadata": {},
   "outputs": [
    {
     "data": {
      "image/png": "[encoded data removed]",
      "text/plain": [
       "<Figure size 432x288 with 1 Axes>"
      ]
     },
     "metadata": {
      "needs_background": "light"
     },
     "output_type": "display_data"
    },
    {
     "data": {
      "image/png": "[encoded data removed]",
      "text/plain": [
       "<Figure size 432x288 with 1 Axes>"
      ]
     },
     "metadata": {
      "needs_background": "light"
     },
     "output_type": "display_data"
    },
    {
     "data": {
      "text/plain": [
       "<Figure size 432x288 with 0 Axes>"
      ]
     },
     "metadata": {},
     "output_type": "display_data"
    }
   ],
   "source": [
    "import matplotlib.pyplot as plt\n",
    "\n",
    "acc = history_classifier.history['accuracy']\n",
    "loss = history_classifier.history['loss']\n",
    "val_acc = history_classifier.history['val_accuracy']\n",
    "val_loss = history_classifier.history['val_loss']\n",
    "\n",
    "epochs = range(len(acc))\n",
    "\n",
    "plt.plot(epochs, acc, 'r', label='Training accuracy')\n",
    "plt.plot(epochs, val_acc, 'b', label='Validation accuracy')\n",
    "plt.title('Accuracy')\n",
    "plt.legend()\n",
    "plt.figure()\n",
    "\n",
    "plt.plot(epochs, loss, 'r', label='Training loss')\n",
    "plt.plot(epochs, val_loss, 'b', label='Validation loss')\n",
    "plt.title('Accuracy and loss')\n",
    "plt.legend()\n",
    "plt.figure()\n",
    "\n",
    "\n",
    "plt.show()"
   ]
  },
  {
   "cell_type": "code",
   "execution_count": 40,
   "metadata": {},
   "outputs": [
    {
     "name": "stderr",
     "output_type": "stream",
     "text": [
      "WARNING:absl:Found untraced functions such as lstm_cell_1_layer_call_fn, lstm_cell_1_layer_call_and_return_conditional_losses, lstm_cell_2_layer_call_fn, lstm_cell_2_layer_call_and_return_conditional_losses, lstm_cell_1_layer_call_fn while saving (showing 5 of 10). These functions will not be directly callable after loading.\n"
     ]
    },
    {
     "name": "stdout",
     "output_type": "stream",
     "text": [
      "INFO:tensorflow:Assets written to: experiment2-LSTM64\\assets\n"
     ]
    },
    {
     "name": "stderr",
     "output_type": "stream",
     "text": [
      "INFO:tensorflow:Assets written to: experiment2-LSTM64\\assets\n",
      "WARNING:absl:<keras.layers.recurrent.LSTMCell object at 0x000002AC732EDC88> has the same name 'LSTMCell' as a built-in Keras object. Consider renaming <class 'keras.layers.recurrent.LSTMCell'> to avoid naming conflicts when loading with `tf.keras.models.load_model`. If renaming is not possible, pass the object in the `custom_objects` parameter of the load function.\n",
      "WARNING:absl:<keras.layers.recurrent.LSTMCell object at 0x000002AC735F7CC8> has the same name 'LSTMCell' as a built-in Keras object. Consider renaming <class 'keras.layers.recurrent.LSTMCell'> to avoid naming conflicts when loading with `tf.keras.models.load_model`. If renaming is not possible, pass the object in the `custom_objects` parameter of the load function.\n"
     ]
    }
   ],
   "source": [
    "model.save('experiment2-LSTM64')"
   ]
  },
  {
   "cell_type": "markdown",
   "metadata": {},
   "source": [
    "# Experiment 2-2: 300 embedding dim with 2 bidriection layer"
   ]
  },
  {
   "cell_type": "code",
   "execution_count": 43,
   "metadata": {},
   "outputs": [],
   "source": [
    "model = tf.keras.Sequential([\n",
    "    encoder,\n",
    "    word2vec.get_layer('w2v_embedding'),\n",
    "    tf.keras.layers.Bidirectional(tf.keras.layers.LSTM(64, return_sequences=True)),\n",
    "    tf.keras.layers.Bidirectional(tf.keras.layers.LSTM(64)),\n",
    "    tf.keras.layers.Dense(64, activation='relu'),\n",
    "    tf.keras.layers.Dense(10, activation='softmax')\n",
    "])"
   ]
  },
  {
   "cell_type": "code",
   "execution_count": 46,
   "metadata": {},
   "outputs": [],
   "source": [
    "model.compile(\n",
    "    loss=tf.keras.losses.SparseCategoricalCrossentropy(from_logits=False),\n",
    "    optimizer=tf.keras.optimizers.Adam(1e-4),\n",
    "    metrics=['accuracy']\n",
    ")"
   ]
  },
  {
   "cell_type": "code",
   "execution_count": 47,
   "metadata": {
    "scrolled": true
   },
   "outputs": [
    {
     "name": "stdout",
     "output_type": "stream",
     "text": [
      "Epoch 1/50\n",
      "5468/5468 [==============================] - 345s 62ms/step - loss: 1.0529 - accuracy: 0.5178 - val_loss: 1.2508 - val_accuracy: 0.5646 - lr: 1.0000e-04\n",
      "Epoch 2/50\n",
      "5468/5468 [==============================] - 332s 61ms/step - loss: 0.9729 - accuracy: 0.5671 - val_loss: 1.2175 - val_accuracy: 0.5706 - lr: 1.0000e-04\n",
      "Epoch 3/50\n",
      "5468/5468 [==============================] - 380s 69ms/step - loss: 0.9512 - accuracy: 0.5789 - val_loss: 1.1874 - val_accuracy: 0.5867 - lr: 1.0000e-04\n",
      "Epoch 4/50\n",
      "5468/5468 [==============================] - 408s 75ms/step - loss: 0.9333 - accuracy: 0.5873 - val_loss: 1.2030 - val_accuracy: 0.5604 - lr: 1.0000e-04\n",
      "Epoch 5/50\n",
      "5468/5468 [==============================] - 350s 64ms/step - loss: 0.9181 - accuracy: 0.5937 - val_loss: 1.2014 - val_accuracy: 0.5644 - lr: 1.0000e-04\n",
      "Epoch 6/50\n",
      "5467/5468 [============================>.] - ETA: 0s - loss: 0.9057 - accuracy: 0.5998\n",
      "Epoch 00006: ReduceLROnPlateau reducing learning rate to 2.499999936844688e-05.\n",
      "5468/5468 [==============================] - 325s 59ms/step - loss: 0.9057 - accuracy: 0.5998 - val_loss: 1.2159 - val_accuracy: 0.5466 - lr: 1.0000e-04\n",
      "Epoch 7/50\n",
      "5468/5468 [==============================] - 373s 68ms/step - loss: 0.8836 - accuracy: 0.6102 - val_loss: 1.1508 - val_accuracy: 0.5963 - lr: 2.5000e-05\n",
      "Epoch 8/50\n",
      "5468/5468 [==============================] - 382s 70ms/step - loss: 0.8782 - accuracy: 0.6124 - val_loss: 1.1546 - val_accuracy: 0.5946 - lr: 2.5000e-05\n",
      "Epoch 9/50\n",
      "5468/5468 [==============================] - 339s 62ms/step - loss: 0.8742 - accuracy: 0.6149 - val_loss: 1.1583 - val_accuracy: 0.5946 - lr: 2.5000e-05\n",
      "Epoch 10/50\n",
      "5468/5468 [==============================] - ETA: 0s - loss: 0.8701 - accuracy: 0.6164\n",
      "Epoch 00010: ReduceLROnPlateau reducing learning rate to 6.24999984211172e-06.\n",
      "5468/5468 [==============================] - 312s 57ms/step - loss: 0.8701 - accuracy: 0.6164 - val_loss: 1.1606 - val_accuracy: 0.5907 - lr: 2.5000e-05\n",
      "Epoch 11/50\n",
      "5468/5468 [==============================] - 301s 55ms/step - loss: 0.8628 - accuracy: 0.6199 - val_loss: 1.1591 - val_accuracy: 0.5919 - lr: 6.2500e-06\n",
      "Epoch 00011: early stopping\n"
     ]
    }
   ],
   "source": [
    "history_classifier = model.fit(\n",
    "    X_train, y_train, \n",
    "    epochs=50,           \n",
    "    validation_data=(X_val, y_val),\n",
    "    batch_size=32,\n",
    "    callbacks=[earlystop, learning_rate],\n",
    "    class_weight=class_weight\n",
    ")"
   ]
  },
  {
   "cell_type": "code",
   "execution_count": 48,
   "metadata": {},
   "outputs": [
    {
     "data": {
      "image/png": "[encoded data removed]",
      "text/plain": [
       "<Figure size 432x288 with 1 Axes>"
      ]
     },
     "metadata": {
      "needs_background": "light"
     },
     "output_type": "display_data"
    },
    {
     "data": {
      "image/png": "[encoded data removed]",
      "text/plain": [
       "<Figure size 432x288 with 1 Axes>"
      ]
     },
     "metadata": {
      "needs_background": "light"
     },
     "output_type": "display_data"
    },
    {
     "data": {
      "text/plain": [
       "<Figure size 432x288 with 0 Axes>"
      ]
     },
     "metadata": {},
     "output_type": "display_data"
    }
   ],
   "source": [
    "import matplotlib.pyplot as plt\n",
    "\n",
    "acc = history_classifier.history['accuracy']\n",
    "loss = history_classifier.history['loss']\n",
    "val_acc = history_classifier.history['val_accuracy']\n",
    "val_loss = history_classifier.history['val_loss']\n",
    "\n",
    "epochs = range(len(acc))\n",
    "\n",
    "plt.plot(epochs, acc, 'r', label='Training accuracy')\n",
    "plt.plot(epochs, val_acc, 'b', label='Validation accuracy')\n",
    "plt.title('Accuracy')\n",
    "plt.legend()\n",
    "plt.figure()\n",
    "\n",
    "plt.plot(epochs, loss, 'r', label='Training loss')\n",
    "plt.plot(epochs, val_loss, 'b', label='Validation loss')\n",
    "plt.title('Accuracy and loss')\n",
    "plt.legend()\n",
    "plt.figure()\n",
    "\n",
    "\n",
    "plt.show()"
   ]
  },
  {
   "cell_type": "code",
   "execution_count": 49,
   "metadata": {},
   "outputs": [
    {
     "name": "stderr",
     "output_type": "stream",
     "text": [
      "WARNING:absl:Found untraced functions such as lstm_cell_11_layer_call_fn, lstm_cell_11_layer_call_and_return_conditional_losses, lstm_cell_12_layer_call_fn, lstm_cell_12_layer_call_and_return_conditional_losses, lstm_cell_14_layer_call_fn while saving (showing 5 of 20). These functions will not be directly callable after loading.\n"
     ]
    },
    {
     "name": "stdout",
     "output_type": "stream",
     "text": [
      "INFO:tensorflow:Assets written to: experiment2-2bidriection\\assets\n"
     ]
    },
    {
     "name": "stderr",
     "output_type": "stream",
     "text": [
      "INFO:tensorflow:Assets written to: experiment2-2bidriection\\assets\n",
      "WARNING:absl:<keras.layers.recurrent.LSTMCell object at 0x000002ACFB85E188> has the same name 'LSTMCell' as a built-in Keras object. Consider renaming <class 'keras.layers.recurrent.LSTMCell'> to avoid naming conflicts when loading with `tf.keras.models.load_model`. If renaming is not possible, pass the object in the `custom_objects` parameter of the load function.\n",
      "WARNING:absl:<keras.layers.recurrent.LSTMCell object at 0x000002ACFB85D648> has the same name 'LSTMCell' as a built-in Keras object. Consider renaming <class 'keras.layers.recurrent.LSTMCell'> to avoid naming conflicts when loading with `tf.keras.models.load_model`. If renaming is not possible, pass the object in the `custom_objects` parameter of the load function.\n",
      "WARNING:absl:<keras.layers.recurrent.LSTMCell object at 0x000002ACFB860E08> has the same name 'LSTMCell' as a built-in Keras object. Consider renaming <class 'keras.layers.recurrent.LSTMCell'> to avoid naming conflicts when loading with `tf.keras.models.load_model`. If renaming is not possible, pass the object in the `custom_objects` parameter of the load function.\n",
      "WARNING:absl:<keras.layers.recurrent.LSTMCell object at 0x000002ACFB8642C8> has the same name 'LSTMCell' as a built-in Keras object. Consider renaming <class 'keras.layers.recurrent.LSTMCell'> to avoid naming conflicts when loading with `tf.keras.models.load_model`. If renaming is not possible, pass the object in the `custom_objects` parameter of the load function.\n"
     ]
    }
   ],
   "source": [
    "model.save('experiment2-2bidriection')"
   ]
  },
  {
   "cell_type": "markdown",
   "metadata": {},
   "source": [
    "# Experiment 2-2-1 One Bidirectional different class weight"
   ]
  },
  {
   "cell_type": "code",
   "execution_count": 22,
   "metadata": {
    "scrolled": true
   },
   "outputs": [
    {
     "name": "stdout",
     "output_type": "stream",
     "text": [
      "Epoch 1/50\n",
      "5468/5468 [==============================] - 208s 38ms/step - loss: 2.8180 - accuracy: 0.2818 - val_loss: 2.1052 - val_accuracy: 0.2690 - lr: 1.0000e-04\n",
      "Epoch 2/50\n",
      "5468/5468 [==============================] - 190s 35ms/step - loss: 2.6199 - accuracy: 0.2736 - val_loss: 2.0563 - val_accuracy: 0.2932 - lr: 1.0000e-04\n",
      "Epoch 3/50\n",
      "5468/5468 [==============================] - 199s 36ms/step - loss: 2.5413 - accuracy: 0.2797 - val_loss: 2.0012 - val_accuracy: 0.2847 - lr: 1.0000e-04\n",
      "Epoch 4/50\n",
      "5468/5468 [==============================] - 197s 36ms/step - loss: 2.4855 - accuracy: 0.2844 - val_loss: 1.9721 - val_accuracy: 0.2934 - lr: 1.0000e-04\n",
      "Epoch 5/50\n",
      "5468/5468 [==============================] - 189s 35ms/step - loss: 2.4342 - accuracy: 0.2857 - val_loss: 2.0283 - val_accuracy: 0.3073 - lr: 1.0000e-04\n",
      "Epoch 6/50\n",
      "5468/5468 [==============================] - 196s 36ms/step - loss: 2.3858 - accuracy: 0.2888 - val_loss: 2.0370 - val_accuracy: 0.2726 - lr: 1.0000e-04\n",
      "Epoch 7/50\n",
      "5468/5468 [==============================] - 199s 36ms/step - loss: 2.3448 - accuracy: 0.2920 - val_loss: 1.9803 - val_accuracy: 0.2649 - lr: 1.0000e-04\n",
      "Epoch 8/50\n",
      "5467/5468 [============================>.] - ETA: 0s - loss: 2.2983 - accuracy: 0.2977\n",
      "Epoch 00008: ReduceLROnPlateau reducing learning rate to 2.499999936844688e-05.\n",
      "5468/5468 [==============================] - 193s 35ms/step - loss: 2.2982 - accuracy: 0.2977 - val_loss: 1.9634 - val_accuracy: 0.2854 - lr: 1.0000e-04\n",
      "Epoch 9/50\n",
      "5468/5468 [==============================] - 186s 34ms/step - loss: 2.2182 - accuracy: 0.3024 - val_loss: 1.9689 - val_accuracy: 0.2854 - lr: 2.5000e-05\n",
      "Epoch 10/50\n",
      "5468/5468 [==============================] - 187s 34ms/step - loss: 2.2009 - accuracy: 0.3030 - val_loss: 1.9631 - val_accuracy: 0.2922 - lr: 2.5000e-05\n",
      "Epoch 11/50\n",
      "5467/5468 [============================>.] - ETA: 0s - loss: 2.1854 - accuracy: 0.3055\n",
      "Epoch 00011: ReduceLROnPlateau reducing learning rate to 6.24999984211172e-06.\n",
      "5468/5468 [==============================] - 176s 32ms/step - loss: 2.1853 - accuracy: 0.3055 - val_loss: 1.9600 - val_accuracy: 0.2857 - lr: 2.5000e-05\n",
      "Epoch 12/50\n",
      "5468/5468 [==============================] - 176s 32ms/step - loss: 2.1603 - accuracy: 0.3056 - val_loss: 1.9722 - val_accuracy: 0.2895 - lr: 6.2500e-06\n",
      "Epoch 13/50\n",
      "5468/5468 [==============================] - 179s 33ms/step - loss: 2.1556 - accuracy: 0.3066 - val_loss: 1.9679 - val_accuracy: 0.2902 - lr: 6.2500e-06\n",
      "Epoch 14/50\n",
      "5467/5468 [============================>.] - ETA: 0s - loss: 2.1512 - accuracy: 0.3065\n",
      "Epoch 00014: ReduceLROnPlateau reducing learning rate to 1.56249996052793e-06.\n",
      "5468/5468 [==============================] - 197s 36ms/step - loss: 2.1513 - accuracy: 0.3065 - val_loss: 1.9582 - val_accuracy: 0.2906 - lr: 6.2500e-06\n",
      "Epoch 15/50\n",
      "5468/5468 [==============================] - 197s 36ms/step - loss: 2.1441 - accuracy: 0.3077 - val_loss: 1.9663 - val_accuracy: 0.2904 - lr: 1.5625e-06\n",
      "Epoch 16/50\n",
      "5468/5468 [==============================] - 206s 38ms/step - loss: 2.1420 - accuracy: 0.3077 - val_loss: 1.9629 - val_accuracy: 0.2907 - lr: 1.5625e-06\n",
      "Epoch 17/50\n",
      "5468/5468 [==============================] - ETA: 0s - loss: 2.1423 - accuracy: 0.3074\n",
      "Epoch 00017: ReduceLROnPlateau reducing learning rate to 3.906249901319825e-07.\n",
      "5468/5468 [==============================] - 213s 39ms/step - loss: 2.1423 - accuracy: 0.3074 - val_loss: 1.9634 - val_accuracy: 0.2903 - lr: 1.5625e-06\n",
      "Epoch 18/50\n",
      "5468/5468 [==============================] - 198s 36ms/step - loss: 2.1405 - accuracy: 0.3069 - val_loss: 1.9630 - val_accuracy: 0.2905 - lr: 3.9062e-07\n",
      "Epoch 00018: early stopping\n"
     ]
    }
   ],
   "source": [
    "class_weight = {\n",
    "    0: (1 / num_data[0]) * (total / 10.0),\n",
    "    1: (1 / num_data[1]) * (total / 10.0),\n",
    "    2: (1 / num_data[2]) * (total / 10.0),\n",
    "    3: (1 / num_data[3]) * (total / 10.0),\n",
    "    4: (1 / num_data[4]) * (total / 10.0),\n",
    "    5: (1 / num_data[5]) * (total / 10.0),\n",
    "    6: (1 / num_data[6]) * (total / 10.0),\n",
    "    7: (1 / num_data[7]) * (total / 10.0),\n",
    "    8: (1 / num_data[8]) * (total / 10.0),\n",
    "    9: (1 / num_data[9]) * (total / 10.0)\n",
    "}\n",
    "\n",
    "word2vec = tf.keras.models.load_model('word2vec_exp2')\n",
    "\n",
    "model = tf.keras.Sequential([\n",
    "    encoder,\n",
    "    word2vec.get_layer('w2v_embedding'),\n",
    "    tf.keras.layers.Bidirectional(tf.keras.layers.LSTM(64)),\n",
    "    tf.keras.layers.Dense(64, activation='relu'),\n",
    "    tf.keras.layers.Dense(10, activation='softmax')\n",
    "])\n",
    "\n",
    "model.layers[0].trainable = False\n",
    "model.layers[1].trainable = False\n",
    "\n",
    "METRICS = [\n",
    "    'accuracy',\n",
    "#     tf.keras.metrics.TruePositives(name='tp'),\n",
    "#     tf.keras.metrics.FalsePositives(name='fp'),\n",
    "#     tf.keras.metrics.TrueNegatives(name='tn'),\n",
    "#     tf.keras.metrics.FalseNegatives(name='fn'), \n",
    "#     tf.keras.metrics.Recall(name='recall'),\n",
    "]\n",
    "\n",
    "model.compile(\n",
    "    loss=tf.keras.losses.SparseCategoricalCrossentropy(from_logits=False),\n",
    "    optimizer=tf.keras.optimizers.Adam(1e-4),\n",
    "    metrics=METRICS\n",
    ")\n",
    "\n",
    "model_checkpoint = tf.keras.callbacks.ModelCheckpoint(\n",
    "    'best_model_2bidrection',\n",
    "    monitor='val_accuracy',\n",
    "    mode='max',\n",
    "    verbose=1,\n",
    "    save_best_only=True\n",
    ")\n",
    "\n",
    "tensorboard_callback = tf.keras.callbacks.TensorBoard(log_dir=\"logs\")\n",
    "\n",
    "earlystop = tf.keras.callbacks.EarlyStopping(\n",
    "    monitor='val_loss',\n",
    "    verbose=1,\n",
    "    patience=4\n",
    ")\n",
    "\n",
    "learning_rate = tf.keras.callbacks.ReduceLROnPlateau(\n",
    "    monitor='val_accuracy',\n",
    "    patience=3,\n",
    "    verbose=1,\n",
    "    factor=0.25,\n",
    "    min_lr=0.0000001\n",
    ")\n",
    "\n",
    "history_classifier = model.fit(\n",
    "    X_train, y_train, \n",
    "    epochs=50,           \n",
    "    validation_data=(X_val, y_val),\n",
    "    batch_size=32,\n",
    "    callbacks=[earlystop, learning_rate],\n",
    "    class_weight=class_weight\n",
    ")"
   ]
  },
  {
   "cell_type": "code",
   "execution_count": 23,
   "metadata": {
    "scrolled": true
   },
   "outputs": [
    {
     "data": {
      "image/png": "[encoded data removed]",
      "text/plain": [
       "<Figure size 432x288 with 1 Axes>"
      ]
     },
     "metadata": {
      "needs_background": "light"
     },
     "output_type": "display_data"
    },
    {
     "data": {
      "image/png": "[encoded data removed]",
      "text/plain": [
       "<Figure size 432x288 with 1 Axes>"
      ]
     },
     "metadata": {
      "needs_background": "light"
     },
     "output_type": "display_data"
    },
    {
     "data": {
      "text/plain": [
       "<Figure size 432x288 with 0 Axes>"
      ]
     },
     "metadata": {},
     "output_type": "display_data"
    }
   ],
   "source": [
    "import matplotlib.pyplot as plt\n",
    "\n",
    "acc = history_classifier.history['accuracy']\n",
    "loss = history_classifier.history['loss']\n",
    "val_acc = history_classifier.history['val_accuracy']\n",
    "val_loss = history_classifier.history['val_loss']\n",
    "\n",
    "epochs = range(len(acc))\n",
    "\n",
    "plt.plot(epochs, acc, 'r', label='Training accuracy')\n",
    "plt.plot(epochs, val_acc, 'b', label='Validation accuracy')\n",
    "plt.title('Accuracy')\n",
    "plt.legend()\n",
    "plt.figure()\n",
    "\n",
    "plt.plot(epochs, loss, 'r', label='Training loss')\n",
    "plt.plot(epochs, val_loss, 'b', label='Validation loss')\n",
    "plt.title('Accuracy and loss')\n",
    "plt.legend()\n",
    "plt.figure()\n",
    "\n",
    "\n",
    "plt.show()"
   ]
  },
  {
   "cell_type": "code",
   "execution_count": 24,
   "metadata": {},
   "outputs": [
    {
     "name": "stderr",
     "output_type": "stream",
     "text": [
      "WARNING:absl:Found untraced functions such as lstm_cell_19_layer_call_fn, lstm_cell_19_layer_call_and_return_conditional_losses, lstm_cell_20_layer_call_fn, lstm_cell_20_layer_call_and_return_conditional_losses, lstm_cell_19_layer_call_fn while saving (showing 5 of 10). These functions will not be directly callable after loading.\n"
     ]
    },
    {
     "name": "stdout",
     "output_type": "stream",
     "text": [
      "INFO:tensorflow:Assets written to: exp2-2-1\\assets\n"
     ]
    },
    {
     "name": "stderr",
     "output_type": "stream",
     "text": [
      "INFO:tensorflow:Assets written to: exp2-2-1\\assets\n",
      "WARNING:absl:<keras.layers.recurrent.LSTMCell object at 0x000001D84CDF4788> has the same name 'LSTMCell' as a built-in Keras object. Consider renaming <class 'keras.layers.recurrent.LSTMCell'> to avoid naming conflicts when loading with `tf.keras.models.load_model`. If renaming is not possible, pass the object in the `custom_objects` parameter of the load function.\n",
      "WARNING:absl:<keras.layers.recurrent.LSTMCell object at 0x000001D84CDFDC08> has the same name 'LSTMCell' as a built-in Keras object. Consider renaming <class 'keras.layers.recurrent.LSTMCell'> to avoid naming conflicts when loading with `tf.keras.models.load_model`. If renaming is not possible, pass the object in the `custom_objects` parameter of the load function.\n"
     ]
    }
   ],
   "source": [
    "model.save('exp2-2-1')"
   ]
  },
  {
   "cell_type": "markdown",
   "metadata": {},
   "source": [
    "# Experiment 2-2-2 Two Bidirectional different class weight"
   ]
  },
  {
   "cell_type": "code",
   "execution_count": 25,
   "metadata": {
    "scrolled": true
   },
   "outputs": [
    {
     "name": "stdout",
     "output_type": "stream",
     "text": [
      "Epoch 1/50\n",
      "5468/5468 [==============================] - 321s 58ms/step - loss: 2.7343 - accuracy: 0.2617 - val_loss: 2.0279 - val_accuracy: 0.2581 - lr: 1.0000e-04\n",
      "Epoch 2/50\n",
      "5468/5468 [==============================] - 317s 58ms/step - loss: 2.5696 - accuracy: 0.2731 - val_loss: 2.0212 - val_accuracy: 0.2585 - lr: 1.0000e-04\n",
      "Epoch 3/50\n",
      "5468/5468 [==============================] - 310s 57ms/step - loss: 2.4940 - accuracy: 0.2810 - val_loss: 2.0609 - val_accuracy: 0.2707 - lr: 1.0000e-04\n",
      "Epoch 4/50\n",
      "5468/5468 [==============================] - 299s 55ms/step - loss: 2.4347 - accuracy: 0.2885 - val_loss: 2.0444 - val_accuracy: 0.2722 - lr: 1.0000e-04\n",
      "Epoch 5/50\n",
      "5468/5468 [==============================] - 299s 55ms/step - loss: 2.3810 - accuracy: 0.2914 - val_loss: 1.9892 - val_accuracy: 0.3007 - lr: 1.0000e-04\n",
      "Epoch 6/50\n",
      "5468/5468 [==============================] - 305s 56ms/step - loss: 2.3310 - accuracy: 0.2977 - val_loss: 1.9618 - val_accuracy: 0.2897 - lr: 1.0000e-04\n",
      "Epoch 7/50\n",
      "5468/5468 [==============================] - 301s 55ms/step - loss: 2.2812 - accuracy: 0.2989 - val_loss: 2.0168 - val_accuracy: 0.2855 - lr: 1.0000e-04\n",
      "Epoch 8/50\n",
      "5468/5468 [==============================] - ETA: 0s - loss: 2.2263 - accuracy: 0.3024\n",
      "Epoch 00008: ReduceLROnPlateau reducing learning rate to 2.499999936844688e-05.\n",
      "5468/5468 [==============================] - 308s 56ms/step - loss: 2.2263 - accuracy: 0.3024 - val_loss: 1.9990 - val_accuracy: 0.2859 - lr: 1.0000e-04\n",
      "Epoch 9/50\n",
      "5468/5468 [==============================] - 303s 55ms/step - loss: 2.1107 - accuracy: 0.3103 - val_loss: 1.9610 - val_accuracy: 0.2938 - lr: 2.5000e-05\n",
      "Epoch 10/50\n",
      "5468/5468 [==============================] - 321s 59ms/step - loss: 2.0740 - accuracy: 0.3139 - val_loss: 1.9895 - val_accuracy: 0.2859 - lr: 2.5000e-05\n",
      "Epoch 11/50\n",
      "5468/5468 [==============================] - ETA: 0s - loss: 2.0482 - accuracy: 0.3149\n",
      "Epoch 00011: ReduceLROnPlateau reducing learning rate to 6.24999984211172e-06.\n",
      "5468/5468 [==============================] - 309s 57ms/step - loss: 2.0482 - accuracy: 0.3149 - val_loss: 1.9654 - val_accuracy: 0.2906 - lr: 2.5000e-05\n",
      "Epoch 12/50\n",
      "5468/5468 [==============================] - 301s 55ms/step - loss: 2.0059 - accuracy: 0.3197 - val_loss: 1.9600 - val_accuracy: 0.2930 - lr: 6.2500e-06\n",
      "Epoch 13/50\n",
      "5468/5468 [==============================] - 301s 55ms/step - loss: 1.9947 - accuracy: 0.3201 - val_loss: 1.9489 - val_accuracy: 0.2902 - lr: 6.2500e-06\n",
      "Epoch 14/50\n",
      "5467/5468 [============================>.] - ETA: 0s - loss: 1.9861 - accuracy: 0.3208\n",
      "Epoch 00014: ReduceLROnPlateau reducing learning rate to 1.56249996052793e-06.\n",
      "5468/5468 [==============================] - 301s 55ms/step - loss: 1.9861 - accuracy: 0.3208 - val_loss: 1.9430 - val_accuracy: 0.2948 - lr: 6.2500e-06\n",
      "Epoch 15/50\n",
      "5468/5468 [==============================] - 300s 55ms/step - loss: 1.9741 - accuracy: 0.3228 - val_loss: 1.9469 - val_accuracy: 0.2944 - lr: 1.5625e-06\n",
      "Epoch 16/50\n",
      "5468/5468 [==============================] - 301s 55ms/step - loss: 1.9706 - accuracy: 0.3226 - val_loss: 1.9416 - val_accuracy: 0.2945 - lr: 1.5625e-06\n",
      "Epoch 17/50\n",
      "5468/5468 [==============================] - ETA: 0s - loss: 1.9683 - accuracy: 0.3220\n",
      "Epoch 00017: ReduceLROnPlateau reducing learning rate to 3.906249901319825e-07.\n",
      "5468/5468 [==============================] - 308s 56ms/step - loss: 1.9683 - accuracy: 0.3220 - val_loss: 1.9436 - val_accuracy: 0.2953 - lr: 1.5625e-06\n",
      "Epoch 18/50\n",
      "5468/5468 [==============================] - 306s 56ms/step - loss: 1.9653 - accuracy: 0.3232 - val_loss: 1.9449 - val_accuracy: 0.2956 - lr: 3.9062e-07\n",
      "Epoch 19/50\n",
      "5468/5468 [==============================] - 302s 55ms/step - loss: 1.9631 - accuracy: 0.3232 - val_loss: 1.9448 - val_accuracy: 0.2954 - lr: 3.9062e-07\n",
      "Epoch 20/50\n",
      "5467/5468 [============================>.] - ETA: 0s - loss: 1.9636 - accuracy: 0.3233\n",
      "Epoch 00020: ReduceLROnPlateau reducing learning rate to 1e-07.\n",
      "5468/5468 [==============================] - 301s 55ms/step - loss: 1.9635 - accuracy: 0.3233 - val_loss: 1.9441 - val_accuracy: 0.2954 - lr: 3.9062e-07\n",
      "Epoch 00020: early stopping\n"
     ]
    }
   ],
   "source": [
    "class_weight = {\n",
    "    0: (1 / num_data[0]) * (total / 10.0),\n",
    "    1: (1 / num_data[1]) * (total / 10.0),\n",
    "    2: (1 / num_data[2]) * (total / 10.0),\n",
    "    3: (1 / num_data[3]) * (total / 10.0),\n",
    "    4: (1 / num_data[4]) * (total / 10.0),\n",
    "    5: (1 / num_data[5]) * (total / 10.0),\n",
    "    6: (1 / num_data[6]) * (total / 10.0),\n",
    "    7: (1 / num_data[7]) * (total / 10.0),\n",
    "    8: (1 / num_data[8]) * (total / 10.0),\n",
    "    9: (1 / num_data[9]) * (total / 10.0)\n",
    "}\n",
    "\n",
    "word2vec = tf.keras.models.load_model('word2vec_exp2')\n",
    "\n",
    "model = tf.keras.Sequential([\n",
    "    encoder,\n",
    "    word2vec.get_layer('w2v_embedding'),\n",
    "    tf.keras.layers.Bidirectional(tf.keras.layers.LSTM(64, return_sequences=True)),\n",
    "    tf.keras.layers.Bidirectional(tf.keras.layers.LSTM(64)),\n",
    "    tf.keras.layers.Dense(64, activation='relu'),\n",
    "    tf.keras.layers.Dense(10, activation='softmax')\n",
    "])\n",
    "\n",
    "model.layers[0].trainable = False\n",
    "model.layers[1].trainable = False\n",
    "\n",
    "METRICS = [\n",
    "    'accuracy',\n",
    "#     tf.keras.metrics.TruePositives(name='tp'),\n",
    "#     tf.keras.metrics.FalsePositives(name='fp'),\n",
    "#     tf.keras.metrics.TrueNegatives(name='tn'),\n",
    "#     tf.keras.metrics.FalseNegatives(name='fn'), \n",
    "#     tf.keras.metrics.Recall(name='recall'),\n",
    "]\n",
    "\n",
    "model.compile(\n",
    "    loss=tf.keras.losses.SparseCategoricalCrossentropy(from_logits=False),\n",
    "    optimizer=tf.keras.optimizers.Adam(1e-4),\n",
    "    metrics=METRICS\n",
    ")\n",
    "\n",
    "model_checkpoint = tf.keras.callbacks.ModelCheckpoint(\n",
    "    'best_model_2bidrection',\n",
    "    monitor='val_accuracy',\n",
    "    mode='max',\n",
    "    verbose=1,\n",
    "    save_best_only=True\n",
    ")\n",
    "\n",
    "tensorboard_callback = tf.keras.callbacks.TensorBoard(log_dir=\"logs\")\n",
    "\n",
    "earlystop = tf.keras.callbacks.EarlyStopping(\n",
    "    monitor='val_loss',\n",
    "    verbose=1,\n",
    "    patience=4\n",
    ")\n",
    "\n",
    "learning_rate = tf.keras.callbacks.ReduceLROnPlateau(\n",
    "    monitor='val_accuracy',\n",
    "    patience=3,\n",
    "    verbose=1,\n",
    "    factor=0.25,\n",
    "    min_lr=0.0000001\n",
    ")\n",
    "\n",
    "history_classifier = model.fit(\n",
    "    X_train, y_train, \n",
    "    epochs=50,           \n",
    "    validation_data=(X_val, y_val),\n",
    "    batch_size=32,\n",
    "    callbacks=[earlystop, learning_rate],\n",
    "    class_weight=class_weight\n",
    ")"
   ]
  },
  {
   "cell_type": "code",
   "execution_count": 30,
   "metadata": {},
   "outputs": [],
   "source": [
    "acc = [0.2617, 0.2731, 0.2810, 0.2885, 0.2914, 0.2977, 0.2989, 0.3024, 0.3103, 0.3139, 0.3149, 0.3197, 0.3201, 0.3208, 0.3228, 0.3226, 0.3220, 0.3232, 0.3232, 0.3233]\n",
    "loss = [2.7343, 2.5696, 2.4940, 2.4347, 2.3810, 2.3310, 2.2812, 2.2263, 2.1107, 2.0740, 2.0482, 2.0059, 1.9947, 1.9861, 1.9741, 1.9706, 1.9683, 1.9653, 1.9631, 1.9635]\n",
    "val_acc = [0.2581, 0.2585, 0.2707, 0.2722, 0.3007, 0.2897, 0.2855, 0.2859, 0.2938, 0.2859, 0.2906, 0.2930, 0.2902, 0.2948, 0.2944, 0.2945, 0.2953, 0.2956, 0.2954, 0.2954]\n",
    "val_loss = [2.0279, 2.0212, 2.0609, 2.0444, 1.9892, 1.9618, 2.0168, 1.9990, 1.9610, 1.9895, 1.9654, 1.9600, 1.9489, 1.9430, 1.9469, 1.9416, 1.9436, 1.9449, 1.9448, 1.9441]"
   ]
  },
  {
   "cell_type": "code",
   "execution_count": 32,
   "metadata": {},
   "outputs": [
    {
     "data": {
      "image/png": "[encoded data removed]",
      "text/plain": [
       "<Figure size 432x288 with 1 Axes>"
      ]
     },
     "metadata": {
      "needs_background": "light"
     },
     "output_type": "display_data"
    },
    {
     "data": {
      "image/png": "[encoded data removed]",
      "text/plain": [
       "<Figure size 432x288 with 1 Axes>"
      ]
     },
     "metadata": {
      "needs_background": "light"
     },
     "output_type": "display_data"
    },
    {
     "data": {
      "text/plain": [
       "<Figure size 432x288 with 0 Axes>"
      ]
     },
     "metadata": {},
     "output_type": "display_data"
    }
   ],
   "source": [
    "import matplotlib.pyplot as plt\n",
    "\n",
    "epochs = range(len(acc))\n",
    "\n",
    "plt.plot(epochs, acc, 'r', label='Training accuracy')\n",
    "plt.plot(epochs, val_acc, 'b', label='Validation accuracy')\n",
    "plt.title('Accuracy')\n",
    "plt.legend()\n",
    "plt.figure()\n",
    "\n",
    "plt.plot(epochs, loss, 'r', label='Training loss')\n",
    "plt.plot(epochs, val_loss, 'b', label='Validation loss')\n",
    "plt.title('Loss')\n",
    "plt.legend()\n",
    "plt.figure()\n",
    "\n",
    "\n",
    "plt.show()"
   ]
  },
  {
   "cell_type": "code",
   "execution_count": 26,
   "metadata": {},
   "outputs": [
    {
     "name": "stderr",
     "output_type": "stream",
     "text": [
      "WARNING:absl:Found untraced functions such as lstm_cell_22_layer_call_fn, lstm_cell_22_layer_call_and_return_conditional_losses, lstm_cell_23_layer_call_fn, lstm_cell_23_layer_call_and_return_conditional_losses, lstm_cell_25_layer_call_fn while saving (showing 5 of 20). These functions will not be directly callable after loading.\n"
     ]
    },
    {
     "name": "stdout",
     "output_type": "stream",
     "text": [
      "INFO:tensorflow:Assets written to: exp2-2-2\\assets\n"
     ]
    },
    {
     "name": "stderr",
     "output_type": "stream",
     "text": [
      "INFO:tensorflow:Assets written to: exp2-2-2\\assets\n",
      "WARNING:absl:<keras.layers.recurrent.LSTMCell object at 0x000001DA70C290C8> has the same name 'LSTMCell' as a built-in Keras object. Consider renaming <class 'keras.layers.recurrent.LSTMCell'> to avoid naming conflicts when loading with `tf.keras.models.load_model`. If renaming is not possible, pass the object in the `custom_objects` parameter of the load function.\n",
      "WARNING:absl:<keras.layers.recurrent.LSTMCell object at 0x000001DA70E23688> has the same name 'LSTMCell' as a built-in Keras object. Consider renaming <class 'keras.layers.recurrent.LSTMCell'> to avoid naming conflicts when loading with `tf.keras.models.load_model`. If renaming is not possible, pass the object in the `custom_objects` parameter of the load function.\n",
      "WARNING:absl:<keras.layers.recurrent.LSTMCell object at 0x000001DA70D01D88> has the same name 'LSTMCell' as a built-in Keras object. Consider renaming <class 'keras.layers.recurrent.LSTMCell'> to avoid naming conflicts when loading with `tf.keras.models.load_model`. If renaming is not possible, pass the object in the `custom_objects` parameter of the load function.\n",
      "WARNING:absl:<keras.layers.recurrent.LSTMCell object at 0x000001DA66B8EA48> has the same name 'LSTMCell' as a built-in Keras object. Consider renaming <class 'keras.layers.recurrent.LSTMCell'> to avoid naming conflicts when loading with `tf.keras.models.load_model`. If renaming is not possible, pass the object in the `custom_objects` parameter of the load function.\n"
     ]
    }
   ],
   "source": [
    "model.save('exp2-2-2')"
   ]
  },
  {
   "cell_type": "markdown",
   "metadata": {},
   "source": [
    "# Experiment 2-2-3 Two Bidirectional LSTM without class weight"
   ]
  },
  {
   "cell_type": "code",
   "execution_count": 13,
   "metadata": {},
   "outputs": [
    {
     "name": "stdout",
     "output_type": "stream",
     "text": [
      "Epoch 1/50\n",
      "5468/5468 [==============================] - 323s 58ms/step - loss: 1.0452 - accuracy: 0.5243 - val_loss: 1.2522 - val_accuracy: 0.5505 - lr: 1.0000e-04\n",
      "Epoch 2/50\n",
      "5468/5468 [==============================] - 313s 57ms/step - loss: 0.9718 - accuracy: 0.5668 - val_loss: 1.2058 - val_accuracy: 0.5786 - lr: 1.0000e-04\n",
      "Epoch 3/50\n",
      "5468/5468 [==============================] - 312s 57ms/step - loss: 0.9489 - accuracy: 0.5784 - val_loss: 1.2000 - val_accuracy: 0.5734 - lr: 1.0000e-04\n",
      "Epoch 4/50\n",
      "5468/5468 [==============================] - 306s 56ms/step - loss: 0.9323 - accuracy: 0.5866 - val_loss: 1.1727 - val_accuracy: 0.5910 - lr: 1.0000e-04\n",
      "Epoch 5/50\n",
      "5468/5468 [==============================] - 304s 56ms/step - loss: 0.9184 - accuracy: 0.5936 - val_loss: 1.1788 - val_accuracy: 0.5823 - lr: 1.0000e-04\n",
      "Epoch 6/50\n",
      "5468/5468 [==============================] - 308s 56ms/step - loss: 0.9057 - accuracy: 0.5996 - val_loss: 1.1705 - val_accuracy: 0.5927 - lr: 1.0000e-04\n",
      "Epoch 7/50\n",
      "5468/5468 [==============================] - 305s 56ms/step - loss: 0.8941 - accuracy: 0.6046 - val_loss: 1.1682 - val_accuracy: 0.5864 - lr: 1.0000e-04\n",
      "Epoch 8/50\n",
      "5468/5468 [==============================] - 318s 58ms/step - loss: 0.8831 - accuracy: 0.6109 - val_loss: 1.1557 - val_accuracy: 0.5953 - lr: 1.0000e-04\n",
      "Epoch 9/50\n",
      "5468/5468 [==============================] - 306s 56ms/step - loss: 0.8721 - accuracy: 0.6142 - val_loss: 1.1487 - val_accuracy: 0.5958 - lr: 1.0000e-04\n",
      "Epoch 10/50\n",
      "5468/5468 [==============================] - 297s 54ms/step - loss: 0.8620 - accuracy: 0.6197 - val_loss: 1.1394 - val_accuracy: 0.6075 - lr: 1.0000e-04\n",
      "Epoch 11/50\n",
      "5468/5468 [==============================] - 298s 54ms/step - loss: 0.8510 - accuracy: 0.6235 - val_loss: 1.1680 - val_accuracy: 0.5877 - lr: 1.0000e-04\n",
      "Epoch 12/50\n",
      "5468/5468 [==============================] - 297s 54ms/step - loss: 0.8403 - accuracy: 0.6283 - val_loss: 1.1488 - val_accuracy: 0.5990 - lr: 1.0000e-04\n",
      "Epoch 13/50\n",
      "5468/5468 [==============================] - 309s 56ms/step - loss: 0.8290 - accuracy: 0.6344 - val_loss: 1.1395 - val_accuracy: 0.6080 - lr: 1.0000e-04\n",
      "Epoch 14/50\n",
      "5468/5468 [==============================] - 300s 55ms/step - loss: 0.8179 - accuracy: 0.6396 - val_loss: 1.1510 - val_accuracy: 0.5983 - lr: 1.0000e-04\n",
      "Epoch 00014: early stopping\n"
     ]
    }
   ],
   "source": [
    "word2vec = tf.keras.models.load_model('word2vec_exp2')\n",
    "\n",
    "model = tf.keras.Sequential([\n",
    "    encoder,\n",
    "    word2vec.get_layer('w2v_embedding'),\n",
    "    tf.keras.layers.Bidirectional(tf.keras.layers.LSTM(64, return_sequences=True)),\n",
    "    tf.keras.layers.Bidirectional(tf.keras.layers.LSTM(64)),\n",
    "    tf.keras.layers.Dense(64, activation='relu'),\n",
    "    tf.keras.layers.Dense(10, activation='softmax')\n",
    "])\n",
    "\n",
    "model.layers[0].trainable = False\n",
    "model.layers[1].trainable = False\n",
    "\n",
    "METRICS = [\n",
    "    'accuracy',\n",
    "#     tf.keras.metrics.TruePositives(name='tp'),\n",
    "#     tf.keras.metrics.FalsePositives(name='fp'),\n",
    "#     tf.keras.metrics.TrueNegatives(name='tn'),\n",
    "#     tf.keras.metrics.FalseNegatives(name='fn'), \n",
    "#     tf.keras.metrics.Recall(name='recall'),\n",
    "]\n",
    "\n",
    "model.compile(\n",
    "    loss=tf.keras.losses.SparseCategoricalCrossentropy(from_logits=False),\n",
    "    optimizer=tf.keras.optimizers.Adam(1e-4),\n",
    "    metrics=METRICS\n",
    ")\n",
    "\n",
    "model_checkpoint = tf.keras.callbacks.ModelCheckpoint(\n",
    "    'best_model_2bidrection',\n",
    "    monitor='val_accuracy',\n",
    "    mode='max',\n",
    "    verbose=1,\n",
    "    save_best_only=True\n",
    ")\n",
    "\n",
    "tensorboard_callback = tf.keras.callbacks.TensorBoard(log_dir=\"logs\")\n",
    "\n",
    "earlystop = tf.keras.callbacks.EarlyStopping(\n",
    "    monitor='val_loss',\n",
    "    verbose=1,\n",
    "    patience=4\n",
    ")\n",
    "\n",
    "learning_rate = tf.keras.callbacks.ReduceLROnPlateau(\n",
    "    monitor='val_accuracy',\n",
    "    patience=3,\n",
    "    verbose=1,\n",
    "    factor=0.25,\n",
    "    min_lr=0.0000001\n",
    ")\n",
    "\n",
    "history_classifier = model.fit(\n",
    "    X_train, y_train, \n",
    "    epochs=50,           \n",
    "    validation_data=(X_val, y_val),\n",
    "    batch_size=32,\n",
    "    callbacks=[earlystop, learning_rate],\n",
    "    class_weight=class_weight\n",
    ")"
   ]
  },
  {
   "cell_type": "code",
   "execution_count": 34,
   "metadata": {},
   "outputs": [
    {
     "data": {
      "image/png": "[encoded data removed]",
      "text/plain": [
       "<Figure size 432x288 with 1 Axes>"
      ]
     },
     "metadata": {
      "needs_background": "light"
     },
     "output_type": "display_data"
    },
    {
     "data": {
      "image/png": "[encoded data removed]",
      "text/plain": [
       "<Figure size 432x288 with 1 Axes>"
      ]
     },
     "metadata": {
      "needs_background": "light"
     },
     "output_type": "display_data"
    },
    {
     "data": {
      "text/plain": [
       "<Figure size 432x288 with 0 Axes>"
      ]
     },
     "metadata": {},
     "output_type": "display_data"
    }
   ],
   "source": [
    "import matplotlib.pyplot as plt\n",
    "\n",
    "acc = history_classifier.history['accuracy']\n",
    "loss = history_classifier.history['loss']\n",
    "val_acc = history_classifier.history['val_accuracy']\n",
    "val_loss = history_classifier.history['val_loss']\n",
    "\n",
    "epochs = range(len(acc))\n",
    "\n",
    "plt.plot(epochs, acc, 'r', label='Training accuracy')\n",
    "plt.plot(epochs, val_acc, 'b', label='Validation accuracy')\n",
    "plt.title('Accuracy')\n",
    "plt.legend()\n",
    "plt.figure()\n",
    "\n",
    "plt.plot(epochs, loss, 'r', label='Training loss')\n",
    "plt.plot(epochs, val_loss, 'b', label='Validation loss')\n",
    "plt.title('Loss')\n",
    "plt.legend()\n",
    "plt.figure()\n",
    "\n",
    "\n",
    "plt.show()"
   ]
  },
  {
   "cell_type": "code",
   "execution_count": 33,
   "metadata": {},
   "outputs": [
    {
     "name": "stderr",
     "output_type": "stream",
     "text": [
      "WARNING:absl:Found untraced functions such as lstm_cell_1_layer_call_fn, lstm_cell_1_layer_call_and_return_conditional_losses, lstm_cell_2_layer_call_fn, lstm_cell_2_layer_call_and_return_conditional_losses, lstm_cell_4_layer_call_fn while saving (showing 5 of 20). These functions will not be directly callable after loading.\n"
     ]
    },
    {
     "name": "stdout",
     "output_type": "stream",
     "text": [
      "INFO:tensorflow:Assets written to: exp2-2-3\\assets\n"
     ]
    },
    {
     "name": "stderr",
     "output_type": "stream",
     "text": [
      "INFO:tensorflow:Assets written to: exp2-2-3\\assets\n",
      "WARNING:absl:<keras.layers.recurrent.LSTMCell object at 0x00000248828BAB88> has the same name 'LSTMCell' as a built-in Keras object. Consider renaming <class 'keras.layers.recurrent.LSTMCell'> to avoid naming conflicts when loading with `tf.keras.models.load_model`. If renaming is not possible, pass the object in the `custom_objects` parameter of the load function.\n",
      "WARNING:absl:<keras.layers.recurrent.LSTMCell object at 0x00000248828B47C8> has the same name 'LSTMCell' as a built-in Keras object. Consider renaming <class 'keras.layers.recurrent.LSTMCell'> to avoid naming conflicts when loading with `tf.keras.models.load_model`. If renaming is not possible, pass the object in the `custom_objects` parameter of the load function.\n",
      "WARNING:absl:<keras.layers.recurrent.LSTMCell object at 0x000002488281E148> has the same name 'LSTMCell' as a built-in Keras object. Consider renaming <class 'keras.layers.recurrent.LSTMCell'> to avoid naming conflicts when loading with `tf.keras.models.load_model`. If renaming is not possible, pass the object in the `custom_objects` parameter of the load function.\n",
      "WARNING:absl:<keras.layers.recurrent.LSTMCell object at 0x00000248828BE288> has the same name 'LSTMCell' as a built-in Keras object. Consider renaming <class 'keras.layers.recurrent.LSTMCell'> to avoid naming conflicts when loading with `tf.keras.models.load_model`. If renaming is not possible, pass the object in the `custom_objects` parameter of the load function.\n"
     ]
    }
   ],
   "source": [
    "model.save('exp2-2-3')"
   ]
  }
 ],
 "metadata": {
  "kernelspec": {
   "display_name": "Python 3",
   "language": "python",
   "name": "python3"
  },
  "language_info": {
   "codemirror_mode": {
    "name": "ipython",
    "version": 3
   },
   "file_extension": ".py",
   "mimetype": "text/x-python",
   "name": "python",
   "nbconvert_exporter": "python",
   "pygments_lexer": "ipython3",
   "version": "3.7.5"
  }
 },
 "nbformat": 4,
 "nbformat_minor": 4
}
