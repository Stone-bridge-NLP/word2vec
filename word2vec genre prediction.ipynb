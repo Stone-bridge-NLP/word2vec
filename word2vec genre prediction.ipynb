{
 "cells": [
  {
   "cell_type": "code",
   "execution_count": 1,
   "metadata": {},
   "outputs": [
    {
     "data": {
      "text/html": [
       "<div>\n",
       "<style scoped>\n",
       "    .dataframe tbody tr th:only-of-type {\n",
       "        vertical-align: middle;\n",
       "    }\n",
       "\n",
       "    .dataframe tbody tr th {\n",
       "        vertical-align: top;\n",
       "    }\n",
       "\n",
       "    .dataframe thead th {\n",
       "        text-align: right;\n",
       "    }\n",
       "</style>\n",
       "<table border=\"1\" class=\"dataframe\">\n",
       "  <thead>\n",
       "    <tr style=\"text-align: right;\">\n",
       "      <th></th>\n",
       "      <th>Artist</th>\n",
       "      <th>Song</th>\n",
       "      <th>Genre</th>\n",
       "      <th>Language</th>\n",
       "      <th>Lyrics</th>\n",
       "    </tr>\n",
       "  </thead>\n",
       "  <tbody>\n",
       "    <tr>\n",
       "      <th>0</th>\n",
       "      <td>12 stones</td>\n",
       "      <td>world so cold</td>\n",
       "      <td>Rock</td>\n",
       "      <td>en</td>\n",
       "      <td>It starts with pain, followed by hate\\nFueled ...</td>\n",
       "    </tr>\n",
       "    <tr>\n",
       "      <th>1</th>\n",
       "      <td>12 stones</td>\n",
       "      <td>broken</td>\n",
       "      <td>Rock</td>\n",
       "      <td>en</td>\n",
       "      <td>Freedom!\\nAlone again again alone\\nPatiently w...</td>\n",
       "    </tr>\n",
       "    <tr>\n",
       "      <th>2</th>\n",
       "      <td>12 stones</td>\n",
       "      <td>3 leaf loser</td>\n",
       "      <td>Rock</td>\n",
       "      <td>en</td>\n",
       "      <td>Biting the hand that feeds you, lying to the v...</td>\n",
       "    </tr>\n",
       "    <tr>\n",
       "      <th>3</th>\n",
       "      <td>12 stones</td>\n",
       "      <td>anthem for the underdog</td>\n",
       "      <td>Rock</td>\n",
       "      <td>en</td>\n",
       "      <td>You say you know just who I am\\nBut you can't ...</td>\n",
       "    </tr>\n",
       "    <tr>\n",
       "      <th>4</th>\n",
       "      <td>12 stones</td>\n",
       "      <td>adrenaline</td>\n",
       "      <td>Rock</td>\n",
       "      <td>en</td>\n",
       "      <td>My heart is beating faster can't control these...</td>\n",
       "    </tr>\n",
       "  </tbody>\n",
       "</table>\n",
       "</div>"
      ],
      "text/plain": [
       "      Artist                     Song Genre Language  \\\n",
       "0  12 stones            world so cold  Rock       en   \n",
       "1  12 stones                   broken  Rock       en   \n",
       "2  12 stones             3 leaf loser  Rock       en   \n",
       "3  12 stones  anthem for the underdog  Rock       en   \n",
       "4  12 stones               adrenaline  Rock       en   \n",
       "\n",
       "                                              Lyrics  \n",
       "0  It starts with pain, followed by hate\\nFueled ...  \n",
       "1  Freedom!\\nAlone again again alone\\nPatiently w...  \n",
       "2  Biting the hand that feeds you, lying to the v...  \n",
       "3  You say you know just who I am\\nBut you can't ...  \n",
       "4  My heart is beating faster can't control these...  "
      ]
     },
     "execution_count": 1,
     "metadata": {},
     "output_type": "execute_result"
    }
   ],
   "source": [
    "# Create dataset\n",
    "\n",
    "import pandas as pd\n",
    "import tqdm\n",
    "\n",
    "df = pd.read_csv('./train_filtered.csv')\n",
    "\n",
    "df.head(5)"
   ]
  },
  {
   "cell_type": "code",
   "execution_count": 2,
   "metadata": {},
   "outputs": [
    {
     "data": {
      "text/plain": [
       "Rock          107019\n",
       "Pop            86219\n",
       "Metal          19098\n",
       "Jazz           13314\n",
       "Folk            8165\n",
       "Indie           7240\n",
       "R&B             2763\n",
       "Hip-Hop         2238\n",
       "Electronic      2002\n",
       "Country         1890\n",
       "Name: Genre, dtype: int64"
      ]
     },
     "execution_count": 2,
     "metadata": {},
     "output_type": "execute_result"
    }
   ],
   "source": [
    "df['Genre'].value_counts()"
   ]
  },
  {
   "cell_type": "code",
   "execution_count": 3,
   "metadata": {},
   "outputs": [],
   "source": [
    "import os\n",
    "import re\n",
    "import string\n",
    "import numpy as np\n",
    "\n",
    "import tensorflow as tf\n",
    "from tensorflow.keras import layers"
   ]
  },
  {
   "cell_type": "code",
   "execution_count": 17,
   "metadata": {},
   "outputs": [],
   "source": [
    "from bs4 import BeautifulSoup\n",
    "from nltk.corpus import stopwords\n",
    "import re\n",
    "\n",
    "# Preprocessing\n",
    "def prepocessing(lyrics, remove_stopwords=False, stops=set(stopwords.words('english'))):\n",
    "    lyric_text = BeautifulSoup(lyric, \"html5lib\").get_text()\n",
    "    lyric_text = re.sub(\"[^a-zA-Z]\", \" \", lyric_text)\n",
    "    lyric_text = lyric_text.lower()\n",
    "    \n",
    "    lyric_words = lyric_text.split()\n",
    "    if remove_stopwords:\n",
    "        lyric_words = lyric_text.split()\n",
    "        lyric_words = [w for w in lyric_words if not w in stops]\n",
    "        \n",
    "    lyric_text = ' '.join(lyric_words)\n",
    "    return lyric_text"
   ]
  },
  {
   "cell_type": "code",
   "execution_count": 18,
   "metadata": {},
   "outputs": [
    {
     "name": "stdout",
     "output_type": "stream",
     "text": [
      "The tensorboard extension is already loaded. To reload it, use:\n",
      "  %reload_ext tensorboard\n"
     ]
    }
   ],
   "source": [
    "%load_ext tensorboard"
   ]
  },
  {
   "cell_type": "code",
   "execution_count": 19,
   "metadata": {},
   "outputs": [],
   "source": [
    "SEED = 42\n",
    "AUTOTUNE = tf.data.AUTOTUNE"
   ]
  },
  {
   "cell_type": "code",
   "execution_count": 20,
   "metadata": {},
   "outputs": [],
   "source": [
    "# Generates skip-gram pairs with negative sampling for a list of sequences\n",
    "# (int-encoded sentences) based on window size, number of negative samples\n",
    "# and vocabulary size.\n",
    "def generate_training_data(sequences, window_size, num_ns, vocab_size, seed):\n",
    "    # Elements of each training example are appended to these lists.\n",
    "    targets, contexts, labels = [], [], []\n",
    "\n",
    "    # Build the sampling table for vocab_size tokens.\n",
    "    sampling_table = tf.keras.preprocessing.sequence.make_sampling_table(vocab_size)\n",
    "\n",
    "    # Iterate over all sequences (sentences) in dataset.\n",
    "    for sequence in tqdm.tqdm(sequences):\n",
    "\n",
    "        # Generate positive skip-gram pairs for a sequence (sentence).\n",
    "        positive_skip_grams, _ = tf.keras.preprocessing.sequence.skipgrams(\n",
    "              sequence,\n",
    "              vocabulary_size=vocab_size,\n",
    "              sampling_table=sampling_table,\n",
    "              window_size=window_size,\n",
    "              negative_samples=0)\n",
    "\n",
    "        # Iterate over each positive skip-gram pair to produce training examples\n",
    "        # with positive context word and negative samples.\n",
    "        for target_word, context_word in positive_skip_grams:\n",
    "            context_class = tf.expand_dims(tf.constant([context_word], dtype=\"int64\"), 1)\n",
    "            negative_sampling_candidates, _, _ = tf.random.log_uniform_candidate_sampler(\n",
    "              true_classes=context_class,\n",
    "              num_true=1,\n",
    "              num_sampled=num_ns,\n",
    "              unique=True,\n",
    "              range_max=vocab_size,\n",
    "              seed=SEED,\n",
    "              name=\"negative_sampling\")\n",
    "\n",
    "            # Build context and label vectors (for one target word)\n",
    "            negative_sampling_candidates = tf.expand_dims(\n",
    "                negative_sampling_candidates, 1)\n",
    "\n",
    "            context = tf.concat([context_class, negative_sampling_candidates], 0)\n",
    "            label = tf.constant([1] + [0]*num_ns, dtype=\"int64\")\n",
    "\n",
    "            # Append each element from the training example to global lists.\n",
    "            targets.append(target_word)\n",
    "            contexts.append(context)\n",
    "            labels.append(label)\n",
    "\n",
    "    return targets, contexts, labels"
   ]
  },
  {
   "cell_type": "code",
   "execution_count": 21,
   "metadata": {},
   "outputs": [
    {
     "name": "stderr",
     "output_type": "stream",
     "text": [
      "100%|████████████████████████████████████████████████████████████████████████| 249948/249948 [01:45<00:00, 2363.97it/s]\n"
     ]
    }
   ],
   "source": [
    "processed_lyrics = []\n",
    "for lyric in tqdm.tqdm(df['Lyrics'].values):\n",
    "    processed = prepocessing(lyric)\n",
    "    processed_lyrics.append(processed)"
   ]
  },
  {
   "cell_type": "code",
   "execution_count": 22,
   "metadata": {},
   "outputs": [],
   "source": [
    "# Now, create a custom standardization function to lowercase the text and\n",
    "# remove punctuation.\n",
    "def custom_standardization(input_data):\n",
    "    lowercase = tf.strings.lower(input_data)\n",
    "    return tf.strings.regex_replace(lowercase,\n",
    "                                  '[%s]' % re.escape(string.punctuation), '')\n",
    "\n",
    "\n",
    "# Define the vocabulary size and number of words in a sequence.\n",
    "vocab_size = 4096\n",
    "sequence_length = 10\n",
    "\n",
    "# Use the TextVectorization layer to normalize, split, and map strings to\n",
    "# integers. Set output_sequence_length length to pad all samples to same length.\n",
    "vectorize_layer = layers.TextVectorization(\n",
    "    standardize=custom_standardization,\n",
    "    max_tokens=vocab_size,\n",
    "    output_mode='int',\n",
    "    output_sequence_length=sequence_length)"
   ]
  },
  {
   "cell_type": "code",
   "execution_count": 23,
   "metadata": {},
   "outputs": [],
   "source": [
    "vectorize_layer.adapt(processed_lyrics)"
   ]
  },
  {
   "cell_type": "code",
   "execution_count": 24,
   "metadata": {},
   "outputs": [
    {
     "name": "stdout",
     "output_type": "stream",
     "text": [
      "['', '[UNK]', 'i', 'you', 'the', 'to', 'and', 'a', 'it', 'me', 's', 't', 'my', 'in', 'that', 'of', 'your', 'm', 'on', 'we']\n"
     ]
    }
   ],
   "source": [
    "# Save the created vocabulary for reference.\n",
    "inverse_vocab = vectorize_layer.get_vocabulary()\n",
    "print(inverse_vocab[:20])"
   ]
  },
  {
   "cell_type": "code",
   "execution_count": 25,
   "metadata": {},
   "outputs": [],
   "source": [
    "ds = tf.data.Dataset.from_tensor_slices(processed_lyrics)"
   ]
  },
  {
   "cell_type": "code",
   "execution_count": 26,
   "metadata": {},
   "outputs": [],
   "source": [
    "# Vectorize the data in text_ds.\n",
    "text_vector_ds = ds.batch(1024).prefetch(AUTOTUNE).map(vectorize_layer).unbatch()"
   ]
  },
  {
   "cell_type": "code",
   "execution_count": 27,
   "metadata": {},
   "outputs": [
    {
     "name": "stdout",
     "output_type": "stream",
     "text": [
      "249948\n"
     ]
    }
   ],
   "source": [
    "sequences = list(text_vector_ds.as_numpy_iterator())\n",
    "print(len(sequences))"
   ]
  },
  {
   "cell_type": "code",
   "execution_count": 28,
   "metadata": {},
   "outputs": [
    {
     "name": "stdout",
     "output_type": "stream",
     "text": [
      "[   8  959   31  275 2475   99  367    1   99    4] => ['it', 'starts', 'with', 'pain', 'followed', 'by', 'hate', '[UNK]', 'by', 'the']\n",
      "[ 846  165  117  117  165 3436  254   99    4  577] => ['freedom', 'alone', 'again', 'again', 'alone', 'patiently', 'waiting', 'by', 'the', 'phone']\n",
      "[  1   4 211  14   1   3 857   5   4 570] => ['[UNK]', 'the', 'hand', 'that', '[UNK]', 'you', 'lying', 'to', 'the', 'voice']\n",
      "[  3  68   3  28  32  97   2 141  30   3] => ['you', 'say', 'you', 'know', 'just', 'who', 'i', 'am', 'but', 'you']\n",
      "[  12   88   23 1189 1246   21   11  466  156  820] => ['my', 'heart', 'is', 'beating', 'faster', 'can', 't', 'control', 'these', 'feelings']\n"
     ]
    }
   ],
   "source": [
    "for seq in sequences[:5]:\n",
    "    print(f\"{seq} => {[inverse_vocab[i] for i in seq]}\")"
   ]
  },
  {
   "cell_type": "code",
   "execution_count": 29,
   "metadata": {},
   "outputs": [
    {
     "name": "stderr",
     "output_type": "stream",
     "text": [
      "100%|█████████████████████████████████████████████████████████████████████████| 249948/249948 [19:54<00:00, 209.21it/s]\n"
     ]
    },
    {
     "name": "stdout",
     "output_type": "stream",
     "text": [
      "\n",
      "\n",
      "targets.shape: (1116822,)\n",
      "contexts.shape: (1116822, 7)\n",
      "labels.shape: (1116822, 7)\n"
     ]
    }
   ],
   "source": [
    "targets, contexts, labels = generate_training_data(\n",
    "    sequences=sequences,\n",
    "    window_size=3,\n",
    "    num_ns=num_ns,\n",
    "    vocab_size=vocab_size,\n",
    "    seed=SEED)\n",
    "\n",
    "targets = np.array(targets)\n",
    "contexts = np.array(contexts)[:,:,0]\n",
    "labels = np.array(labels)\n",
    "\n",
    "print('\\n')\n",
    "print(f\"targets.shape: {targets.shape}\")\n",
    "print(f\"contexts.shape: {contexts.shape}\")\n",
    "print(f\"labels.shape: {labels.shape}\")"
   ]
  },
  {
   "cell_type": "code",
   "execution_count": 34,
   "metadata": {},
   "outputs": [],
   "source": [
    "num_ns = 6"
   ]
  },
  {
   "cell_type": "code",
   "execution_count": 30,
   "metadata": {},
   "outputs": [
    {
     "name": "stdout",
     "output_type": "stream",
     "text": [
      "<BatchDataset shapes: (((1024,), (1024, 7)), (1024, 7)), types: ((tf.int64, tf.int64), tf.int64)>\n"
     ]
    }
   ],
   "source": [
    "BATCH_SIZE = 1024\n",
    "BUFFER_SIZE = 10000\n",
    "dataset = tf.data.Dataset.from_tensor_slices(((targets, contexts), labels))\n",
    "dataset = dataset.shuffle(BUFFER_SIZE).batch(BATCH_SIZE, drop_remainder=True)\n",
    "print(dataset)"
   ]
  },
  {
   "cell_type": "code",
   "execution_count": 31,
   "metadata": {},
   "outputs": [],
   "source": [
    "class Word2Vec(tf.keras.Model):\n",
    "    def __init__(self, vocab_size, embedding_dim):\n",
    "        super(Word2Vec, self).__init__()\n",
    "        self.target_embedding = layers.Embedding(vocab_size,\n",
    "                                          embedding_dim,\n",
    "                                          input_length=1,\n",
    "                                          name=\"w2v_embedding\")\n",
    "        self.context_embedding = layers.Embedding(vocab_size,\n",
    "                                           embedding_dim,\n",
    "                                           input_length=num_ns+1)\n",
    "\n",
    "    def call(self, pair):\n",
    "        target, context = pair\n",
    "        # target: (batch, dummy?)  # The dummy axis doesn't exist in TF2.7+\n",
    "        # context: (batch, context)\n",
    "        if len(target.shape) == 2:\n",
    "            target = tf.squeeze(target, axis=1)\n",
    "        # target: (batch,)\n",
    "        word_emb = self.target_embedding(target)\n",
    "        # word_emb: (batch, embed)\n",
    "        context_emb = self.context_embedding(context)\n",
    "        # context_emb: (batch, context, embed)\n",
    "        dots = tf.einsum('be,bce->bc', word_emb, context_emb)\n",
    "        # dots: (batch, context)\n",
    "        return dots"
   ]
  },
  {
   "cell_type": "code",
   "execution_count": 32,
   "metadata": {},
   "outputs": [],
   "source": [
    "def custom_loss(x_logit, y_true):\n",
    "      return tf.nn.sigmoid_cross_entropy_with_logits(logits=x_logit, labels=y_true)"
   ]
  },
  {
   "cell_type": "code",
   "execution_count": 35,
   "metadata": {},
   "outputs": [],
   "source": [
    "embedding_dim = 128\n",
    "word2vec = Word2Vec(vocab_size, embedding_dim)\n",
    "word2vec.compile(optimizer='adam',\n",
    "                 loss=tf.keras.losses.CategoricalCrossentropy(from_logits=True),\n",
    "                 metrics=['accuracy'])"
   ]
  },
  {
   "cell_type": "code",
   "execution_count": 36,
   "metadata": {},
   "outputs": [],
   "source": [
    "tensorboard_callback = tf.keras.callbacks.TensorBoard(log_dir=\"logs\")\n",
    "\n",
    "earlystop = tf.keras.callbacks.EarlyStopping(\n",
    "    monitor='loss',\n",
    "    verbose=1,\n",
    "    patience=3\n",
    ")\n",
    "\n",
    "learning_rate = tf.keras.callbacks.ReduceLROnPlateau(\n",
    "    monitor='accuracy',\n",
    "    patience=3,\n",
    "    verbose=1,\n",
    "    factor=0.25,\n",
    "    min_lr=0.0000001\n",
    ")"
   ]
  },
  {
   "cell_type": "code",
   "execution_count": 96,
   "metadata": {
    "scrolled": true
   },
   "outputs": [
    {
     "name": "stdout",
     "output_type": "stream",
     "text": [
      "Epoch 1/200\n",
      "808/808 [==============================] - 7s 8ms/step - loss: 1.4385 - accuracy: 0.3948 - lr: 0.0010\n",
      "Epoch 2/200\n",
      "808/808 [==============================] - 6s 8ms/step - loss: 1.2489 - accuracy: 0.4939 - lr: 0.0010\n",
      "Epoch 3/200\n",
      "808/808 [==============================] - 7s 8ms/step - loss: 1.1558 - accuracy: 0.5417 - lr: 0.0010\n",
      "Epoch 4/200\n",
      "808/808 [==============================] - 7s 8ms/step - loss: 1.0879 - accuracy: 0.5743 - lr: 0.0010\n",
      "Epoch 5/200\n",
      "808/808 [==============================] - 7s 8ms/step - loss: 1.0330 - accuracy: 0.5995 - lr: 0.0010\n",
      "Epoch 6/200\n",
      "808/808 [==============================] - 7s 8ms/step - loss: 0.9864 - accuracy: 0.6202 - lr: 0.0010\n",
      "Epoch 7/200\n",
      "808/808 [==============================] - 7s 8ms/step - loss: 0.9457 - accuracy: 0.6383 - lr: 0.0010\n",
      "Epoch 8/200\n",
      "808/808 [==============================] - 7s 9ms/step - loss: 0.9096 - accuracy: 0.6541 - lr: 0.0010\n",
      "Epoch 9/200\n",
      "808/808 [==============================] - 7s 8ms/step - loss: 0.8772 - accuracy: 0.6676 - lr: 0.0010\n",
      "Epoch 10/200\n",
      "808/808 [==============================] - 7s 8ms/step - loss: 0.8480 - accuracy: 0.6800 - lr: 0.0010\n",
      "Epoch 11/200\n",
      "808/808 [==============================] - 7s 9ms/step - loss: 0.8216 - accuracy: 0.6909 - lr: 0.00100.8 - ETA: \n",
      "Epoch 12/200\n",
      "808/808 [==============================] - 7s 9ms/step - loss: 0.7978 - accuracy: 0.7006 - lr: 0.0010\n",
      "Epoch 13/200\n",
      "808/808 [==============================] - 7s 9ms/step - loss: 0.7761 - accuracy: 0.7093 - lr: 0.0010\n",
      "Epoch 14/200\n",
      "808/808 [==============================] - 7s 8ms/step - loss: 0.7564 - accuracy: 0.7171 - lr: 0.0010\n",
      "Epoch 15/200\n",
      "808/808 [==============================] - 7s 8ms/step - loss: 0.7386 - accuracy: 0.7242 - lr: 0.0010\n",
      "Epoch 16/200\n",
      "808/808 [==============================] - 7s 8ms/step - loss: 0.7223 - accuracy: 0.7305 - lr: 0.0010\n",
      "Epoch 17/200\n",
      "808/808 [==============================] - 7s 8ms/step - loss: 0.7075 - accuracy: 0.7362 - lr: 0.0010\n",
      "Epoch 18/200\n",
      "808/808 [==============================] - 7s 8ms/step - loss: 0.6939 - accuracy: 0.7413 - lr: 0.0010\n",
      "Epoch 19/200\n",
      "808/808 [==============================] - 7s 8ms/step - loss: 0.6816 - accuracy: 0.7458 - lr: 0.0010\n",
      "Epoch 20/200\n",
      "808/808 [==============================] - 7s 8ms/step - loss: 0.6702 - accuracy: 0.7498 - lr: 0.0010\n",
      "Epoch 21/200\n",
      "808/808 [==============================] - 7s 9ms/step - loss: 0.6599 - accuracy: 0.7534 - lr: 0.0010\n",
      "Epoch 22/200\n",
      "808/808 [==============================] - 6s 8ms/step - loss: 0.6503 - accuracy: 0.7566 - lr: 0.0010\n",
      "Epoch 23/200\n",
      "808/808 [==============================] - 7s 8ms/step - loss: 0.6416 - accuracy: 0.7596 - lr: 0.0010\n",
      "Epoch 24/200\n",
      "808/808 [==============================] - 7s 8ms/step - loss: 0.6335 - accuracy: 0.7621 - lr: 0.0010\n",
      "Epoch 25/200\n",
      "808/808 [==============================] - 7s 9ms/step - loss: 0.6260 - accuracy: 0.7646 - lr: 0.0010\n",
      "Epoch 26/200\n",
      "808/808 [==============================] - 7s 9ms/step - loss: 0.6191 - accuracy: 0.7668 - lr: 0.0010\n",
      "Epoch 27/200\n",
      "808/808 [==============================] - 6s 8ms/step - loss: 0.6127 - accuracy: 0.7687 - lr: 0.0010\n",
      "Epoch 28/200\n",
      "808/808 [==============================] - 7s 8ms/step - loss: 0.6067 - accuracy: 0.7706 - lr: 0.0010\n",
      "Epoch 29/200\n",
      "808/808 [==============================] - 7s 8ms/step - loss: 0.6011 - accuracy: 0.7721 - lr: 0.0010\n",
      "Epoch 30/200\n",
      "808/808 [==============================] - 6s 8ms/step - loss: 0.5960 - accuracy: 0.7737 - lr: 0.0010\n",
      "Epoch 31/200\n",
      "808/808 [==============================] - 7s 9ms/step - loss: 0.5911 - accuracy: 0.7751 - lr: 0.0010\n",
      "Epoch 32/200\n",
      "808/808 [==============================] - 7s 9ms/step - loss: 0.5866 - accuracy: 0.7764 - lr: 0.0010\n",
      "Epoch 33/200\n",
      "808/808 [==============================] - 6s 8ms/step - loss: 0.5823 - accuracy: 0.7776 - lr: 0.0010\n",
      "Epoch 34/200\n",
      "808/808 [==============================] - 6s 8ms/step - loss: 0.5783 - accuracy: 0.7786 - lr: 0.0010\n",
      "Epoch 35/200\n",
      "808/808 [==============================] - 7s 9ms/step - loss: 0.5746 - accuracy: 0.7798 - lr: 0.0010\n",
      "Epoch 36/200\n",
      "808/808 [==============================] - 7s 9ms/step - loss: 0.5710 - accuracy: 0.7807 - lr: 0.0010\n",
      "Epoch 37/200\n",
      "808/808 [==============================] - 7s 8ms/step - loss: 0.5677 - accuracy: 0.7815 - lr: 0.0010\n",
      "Epoch 38/200\n",
      "808/808 [==============================] - 6s 8ms/step - loss: 0.5645 - accuracy: 0.7824 - lr: 0.0010\n",
      "Epoch 39/200\n",
      "808/808 [==============================] - 7s 8ms/step - loss: 0.5615 - accuracy: 0.7832 - lr: 0.0010\n",
      "Epoch 40/200\n",
      "808/808 [==============================] - 7s 8ms/step - loss: 0.5587 - accuracy: 0.7840 - lr: 0.0010\n",
      "Epoch 41/200\n",
      "808/808 [==============================] - 7s 8ms/step - loss: 0.5560 - accuracy: 0.7846 - lr: 0.0010\n",
      "Epoch 42/200\n",
      "808/808 [==============================] - 7s 8ms/step - loss: 0.5535 - accuracy: 0.7853 - lr: 0.0010\n",
      "Epoch 43/200\n",
      "808/808 [==============================] - 7s 8ms/step - loss: 0.5510 - accuracy: 0.7858 - lr: 0.0010\n",
      "Epoch 44/200\n",
      "808/808 [==============================] - 7s 9ms/step - loss: 0.5487 - accuracy: 0.7863 - lr: 0.0010\n",
      "Epoch 45/200\n",
      "808/808 [==============================] - 6s 8ms/step - loss: 0.5465 - accuracy: 0.7869 - lr: 0.0010\n",
      "Epoch 46/200\n",
      "808/808 [==============================] - 7s 8ms/step - loss: 0.5444 - accuracy: 0.7876 - lr: 0.0010\n",
      "Epoch 47/200\n",
      "808/808 [==============================] - 7s 8ms/step - loss: 0.5424 - accuracy: 0.7878 - lr: 0.0010\n",
      "Epoch 48/200\n",
      "808/808 [==============================] - 7s 8ms/step - loss: 0.5405 - accuracy: 0.7883 - lr: 0.0010\n",
      "Epoch 49/200\n",
      "808/808 [==============================] - 7s 8ms/step - loss: 0.5387 - accuracy: 0.7887 - lr: 0.0010\n",
      "Epoch 50/200\n",
      "808/808 [==============================] - 7s 8ms/step - loss: 0.5369 - accuracy: 0.7891 - lr: 0.0010\n",
      "Epoch 51/200\n",
      "808/808 [==============================] - 7s 8ms/step - loss: 0.5352 - accuracy: 0.7896 - lr: 0.0010\n",
      "Epoch 52/200\n",
      "808/808 [==============================] - 7s 8ms/step - loss: 0.5336 - accuracy: 0.7899 - lr: 0.0010\n",
      "Epoch 53/200\n",
      "808/808 [==============================] - 6s 8ms/step - loss: 0.5320 - accuracy: 0.7902 - lr: 0.0010\n",
      "Epoch 54/200\n",
      "808/808 [==============================] - 7s 8ms/step - loss: 0.5305 - accuracy: 0.7907 - lr: 0.0010\n",
      "Epoch 55/200\n",
      "808/808 [==============================] - 7s 8ms/step - loss: 0.5291 - accuracy: 0.7907 - lr: 0.0010\n",
      "Epoch 56/200\n",
      "808/808 [==============================] - 6s 8ms/step - loss: 0.5277 - accuracy: 0.7911 - lr: 0.0010\n",
      "Epoch 57/200\n",
      "808/808 [==============================] - 6s 8ms/step - loss: 0.5264 - accuracy: 0.7915 - lr: 0.0010\n",
      "Epoch 58/200\n",
      "808/808 [==============================] - 6s 8ms/step - loss: 0.5251 - accuracy: 0.7917 - lr: 0.0010\n",
      "Epoch 59/200\n",
      "808/808 [==============================] - 7s 8ms/step - loss: 0.5238 - accuracy: 0.7920 - lr: 0.0010\n",
      "Epoch 60/200\n",
      "808/808 [==============================] - 7s 8ms/step - loss: 0.5226 - accuracy: 0.7923 - lr: 0.0010\n",
      "Epoch 61/200\n",
      "808/808 [==============================] - 6s 8ms/step - loss: 0.5215 - accuracy: 0.7926 - lr: 0.0010\n",
      "Epoch 62/200\n",
      "808/808 [==============================] - 7s 8ms/step - loss: 0.5204 - accuracy: 0.7927 - lr: 0.0010\n",
      "Epoch 63/200\n",
      "808/808 [==============================] - 7s 8ms/step - loss: 0.5193 - accuracy: 0.7930 - lr: 0.0010\n",
      "Epoch 64/200\n",
      "808/808 [==============================] - 7s 8ms/step - loss: 0.5183 - accuracy: 0.7931 - lr: 0.0010\n",
      "Epoch 65/200\n",
      "808/808 [==============================] - 7s 8ms/step - loss: 0.5172 - accuracy: 0.7934 - lr: 0.0010\n",
      "Epoch 66/200\n",
      "808/808 [==============================] - 6s 8ms/step - loss: 0.5163 - accuracy: 0.7936 - lr: 0.0010\n",
      "Epoch 67/200\n",
      "808/808 [==============================] - 6s 8ms/step - loss: 0.5153 - accuracy: 0.7936 - lr: 0.0010\n",
      "Epoch 68/200\n",
      "808/808 [==============================] - 7s 8ms/step - loss: 0.5144 - accuracy: 0.7939 - lr: 0.0010\n",
      "Epoch 69/200\n",
      "808/808 [==============================] - 6s 8ms/step - loss: 0.5135 - accuracy: 0.7942 - lr: 0.0010\n",
      "Epoch 70/200\n",
      "808/808 [==============================] - 7s 8ms/step - loss: 0.5126 - accuracy: 0.7944 - lr: 0.0010\n",
      "Epoch 71/200\n",
      "808/808 [==============================] - 6s 8ms/step - loss: 0.5118 - accuracy: 0.7946 - lr: 0.0010\n",
      "Epoch 72/200\n",
      "808/808 [==============================] - 7s 8ms/step - loss: 0.5110 - accuracy: 0.7947 - lr: 0.0010\n",
      "Epoch 73/200\n",
      "808/808 [==============================] - 7s 8ms/step - loss: 0.5102 - accuracy: 0.7948 - lr: 0.0010\n",
      "Epoch 74/200\n",
      "808/808 [==============================] - 6s 8ms/step - loss: 0.5094 - accuracy: 0.7951 - lr: 0.0010\n",
      "Epoch 75/200\n",
      "808/808 [==============================] - 6s 8ms/step - loss: 0.5087 - accuracy: 0.7952 - lr: 0.0010\n",
      "Epoch 76/200\n",
      "808/808 [==============================] - 6s 8ms/step - loss: 0.5080 - accuracy: 0.7953 - lr: 0.0010\n",
      "Epoch 77/200\n",
      "808/808 [==============================] - 7s 8ms/step - loss: 0.5073 - accuracy: 0.7954 - lr: 0.0010\n",
      "Epoch 78/200\n",
      "808/808 [==============================] - 6s 8ms/step - loss: 0.5066 - accuracy: 0.7956 - lr: 0.0010\n",
      "Epoch 79/200\n",
      "808/808 [==============================] - 6s 8ms/step - loss: 0.5059 - accuracy: 0.7957 - lr: 0.0010\n",
      "Epoch 80/200\n",
      "808/808 [==============================] - 7s 8ms/step - loss: 0.5052 - accuracy: 0.7958 - lr: 0.0010\n",
      "Epoch 81/200\n",
      "808/808 [==============================] - 6s 8ms/step - loss: 0.5046 - accuracy: 0.7959 - lr: 0.0010\n",
      "Epoch 82/200\n",
      "808/808 [==============================] - 7s 8ms/step - loss: 0.5040 - accuracy: 0.7960 - lr: 0.0010\n",
      "Epoch 83/200\n",
      "808/808 [==============================] - 7s 8ms/step - loss: 0.5034 - accuracy: 0.7962 - lr: 0.0010\n",
      "Epoch 84/200\n",
      "808/808 [==============================] - 7s 8ms/step - loss: 0.5028 - accuracy: 0.7964 - lr: 0.0010\n",
      "Epoch 85/200\n",
      "808/808 [==============================] - 7s 8ms/step - loss: 0.5022 - accuracy: 0.7963 - lr: 0.0010\n",
      "Epoch 86/200\n",
      "808/808 [==============================] - 7s 8ms/step - loss: 0.5016 - accuracy: 0.7966 - lr: 0.0010\n",
      "Epoch 87/200\n",
      "808/808 [==============================] - 6s 8ms/step - loss: 0.5011 - accuracy: 0.7965 - lr: 0.0010\n",
      "Epoch 88/200\n",
      "808/808 [==============================] - 6s 8ms/step - loss: 0.5006 - accuracy: 0.7966 - lr: 0.0010\n",
      "Epoch 89/200\n",
      "808/808 [==============================] - 6s 8ms/step - loss: 0.5001 - accuracy: 0.7968 - lr: 0.0010\n",
      "Epoch 90/200\n",
      "808/808 [==============================] - 7s 8ms/step - loss: 0.4995 - accuracy: 0.7969 - lr: 0.0010\n",
      "Epoch 91/200\n",
      "808/808 [==============================] - 7s 8ms/step - loss: 0.4990 - accuracy: 0.7969 - lr: 0.0010\n",
      "Epoch 92/200\n",
      "808/808 [==============================] - 7s 9ms/step - loss: 0.4986 - accuracy: 0.7971 - lr: 0.0010\n",
      "Epoch 93/200\n",
      "808/808 [==============================] - 7s 8ms/step - loss: 0.4980 - accuracy: 0.7972 - lr: 0.0010\n",
      "Epoch 94/200\n",
      "808/808 [==============================] - 7s 9ms/step - loss: 0.4976 - accuracy: 0.7973 - lr: 0.0010\n",
      "Epoch 95/200\n",
      "808/808 [==============================] - 7s 9ms/step - loss: 0.4971 - accuracy: 0.7973 - lr: 0.0010\n",
      "Epoch 96/200\n",
      "808/808 [==============================] - 7s 9ms/step - loss: 0.4967 - accuracy: 0.7974 - lr: 0.0010\n",
      "Epoch 97/200\n",
      "808/808 [==============================] - 7s 8ms/step - loss: 0.4962 - accuracy: 0.7975 - lr: 0.0010\n",
      "Epoch 98/200\n",
      "808/808 [==============================] - 9s 11ms/step - loss: 0.4958 - accuracy: 0.7976 - lr: 0.0010\n",
      "Epoch 99/200\n",
      "808/808 [==============================] - 7s 9ms/step - loss: 0.4954 - accuracy: 0.7976 - lr: 0.0010\n",
      "Epoch 100/200\n",
      "808/808 [==============================] - 7s 9ms/step - loss: 0.4950 - accuracy: 0.7977 - lr: 0.0010\n",
      "Epoch 101/200\n",
      "808/808 [==============================] - 7s 9ms/step - loss: 0.4946 - accuracy: 0.7977 - lr: 0.0010\n",
      "Epoch 102/200\n",
      "808/808 [==============================] - 7s 9ms/step - loss: 0.4942 - accuracy: 0.7978 - lr: 0.0010\n",
      "Epoch 103/200\n",
      "808/808 [==============================] - 8s 10ms/step - loss: 0.4938 - accuracy: 0.7978 - lr: 0.0010\n",
      "Epoch 104/200\n",
      "808/808 [==============================] - 7s 8ms/step - loss: 0.4934 - accuracy: 0.7980 - lr: 0.0010\n",
      "Epoch 105/200\n",
      "808/808 [==============================] - 8s 10ms/step - loss: 0.4931 - accuracy: 0.7979 - lr: 0.0010\n",
      "Epoch 106/200\n",
      "808/808 [==============================] - 6s 8ms/step - loss: 0.4927 - accuracy: 0.7980 - lr: 0.0010\n",
      "Epoch 107/200\n",
      "808/808 [==============================] - 7s 8ms/step - loss: 0.4923 - accuracy: 0.7981 - lr: 0.0010\n",
      "Epoch 108/200\n",
      "808/808 [==============================] - 7s 8ms/step - loss: 0.4920 - accuracy: 0.7982 - lr: 0.0010\n",
      "Epoch 109/200\n",
      "808/808 [==============================] - 7s 8ms/step - loss: 0.4916 - accuracy: 0.7983 - lr: 0.0010\n",
      "Epoch 110/200\n",
      "808/808 [==============================] - 7s 8ms/step - loss: 0.4913 - accuracy: 0.7982 - lr: 0.0010\n",
      "Epoch 111/200\n",
      "808/808 [==============================] - 7s 8ms/step - loss: 0.4910 - accuracy: 0.7983 - lr: 0.0010\n",
      "Epoch 112/200\n",
      "805/808 [============================>.] - ETA: 0s - loss: 0.4906 - accuracy: 0.7984\n",
      "Epoch 00112: ReduceLROnPlateau reducing learning rate to 0.0002500000118743628.\n",
      "808/808 [==============================] - 7s 8ms/step - loss: 0.4906 - accuracy: 0.7984 - lr: 0.0010\n",
      "Epoch 113/200\n",
      "808/808 [==============================] - 7s 8ms/step - loss: 0.4710 - accuracy: 0.8110 - lr: 2.5000e-04\n",
      "Epoch 114/200\n",
      "808/808 [==============================] - 7s 8ms/step - loss: 0.4705 - accuracy: 0.8111 - lr: 2.5000e-04\n",
      "Epoch 115/200\n",
      "808/808 [==============================] - 7s 8ms/step - loss: 0.4701 - accuracy: 0.8110 - lr: 2.5000e-04\n",
      "Epoch 116/200\n",
      "808/808 [==============================] - 7s 8ms/step - loss: 0.4698 - accuracy: 0.8111 - lr: 2.5000e-04\n",
      "Epoch 117/200\n",
      "807/808 [============================>.] - ETA: 0s - loss: 0.4696 - accuracy: 0.8112\n",
      "Epoch 00117: ReduceLROnPlateau reducing learning rate to 6.25000029685907e-05.\n",
      "808/808 [==============================] - 7s 8ms/step - loss: 0.4696 - accuracy: 0.8111 - lr: 2.5000e-04\n",
      "Epoch 118/200\n",
      "808/808 [==============================] - 7s 8ms/step - loss: 0.4643 - accuracy: 0.8147 - lr: 6.2500e-05\n",
      "Epoch 119/200\n",
      "808/808 [==============================] - 7s 8ms/step - loss: 0.4643 - accuracy: 0.8147 - lr: 6.2500e-05\n",
      "Epoch 120/200\n",
      "808/808 [==============================] - 7s 8ms/step - loss: 0.4642 - accuracy: 0.8147 - lr: 6.2500e-05\n",
      "Epoch 121/200\n",
      "808/808 [==============================] - ETA: 0s - loss: 0.4641 - accuracy: 0.8148\n",
      "Epoch 00121: ReduceLROnPlateau reducing learning rate to 1.5625000742147677e-05.\n",
      "808/808 [==============================] - 7s 8ms/step - loss: 0.4641 - accuracy: 0.8148 - lr: 6.2500e-05\n",
      "Epoch 122/200\n",
      "808/808 [==============================] - 7s 8ms/step - loss: 0.4628 - accuracy: 0.8156 - lr: 1.5625e-05\n",
      "Epoch 123/200\n",
      "808/808 [==============================] - 7s 8ms/step - loss: 0.4628 - accuracy: 0.8157 - lr: 1.5625e-05\n",
      "Epoch 124/200\n",
      "808/808 [==============================] - 7s 8ms/step - loss: 0.4628 - accuracy: 0.8157 - lr: 1.5625e-05\n",
      "Epoch 125/200\n",
      "807/808 [============================>.] - ETA: 0s - loss: 0.4628 - accuracy: 0.8157\n",
      "Epoch 00125: ReduceLROnPlateau reducing learning rate to 3.906250185536919e-06.\n",
      "808/808 [==============================] - 7s 8ms/step - loss: 0.4628 - accuracy: 0.8157 - lr: 1.5625e-05\n",
      "Epoch 126/200\n",
      "808/808 [==============================] - 6s 8ms/step - loss: 0.4624 - accuracy: 0.8159 - lr: 3.9063e-06\n",
      "Epoch 127/200\n",
      "808/808 [==============================] - 7s 8ms/step - loss: 0.4624 - accuracy: 0.8159 - lr: 3.9063e-06\n",
      "Epoch 128/200\n",
      "808/808 [==============================] - 6s 8ms/step - loss: 0.4624 - accuracy: 0.8159 - lr: 3.9063e-06\n",
      "Epoch 129/200\n",
      "804/808 [============================>.] - ETA: 0s - loss: 0.4624 - accuracy: 0.8159\n",
      "Epoch 00129: ReduceLROnPlateau reducing learning rate to 9.765625463842298e-07.\n",
      "808/808 [==============================] - 7s 8ms/step - loss: 0.4624 - accuracy: 0.8159 - lr: 3.9063e-06\n",
      "Epoch 130/200\n",
      "808/808 [==============================] - 7s 8ms/step - loss: 0.4623 - accuracy: 0.8160 - lr: 9.7656e-07\n",
      "Epoch 131/200\n",
      "808/808 [==============================] - 7s 8ms/step - loss: 0.4623 - accuracy: 0.8160 - lr: 9.7656e-07\n",
      "Epoch 132/200\n",
      "801/808 [============================>.] - ETA: 0s - loss: 0.4623 - accuracy: 0.8159\n",
      "Epoch 00132: ReduceLROnPlateau reducing learning rate to 2.4414063659605745e-07.\n",
      "808/808 [==============================] - 7s 9ms/step - loss: 0.4623 - accuracy: 0.8160 - lr: 9.7656e-07\n",
      "Epoch 133/200\n"
     ]
    },
    {
     "name": "stdout",
     "output_type": "stream",
     "text": [
      "808/808 [==============================] - 7s 9ms/step - loss: 0.4623 - accuracy: 0.8160 - lr: 2.4414e-07\n",
      "Epoch 134/200\n",
      "808/808 [==============================] - 7s 8ms/step - loss: 0.4623 - accuracy: 0.8160 - lr: 2.4414e-07\n",
      "Epoch 135/200\n",
      "808/808 [==============================] - ETA: 0s - loss: 0.4623 - accuracy: 0.8160\n",
      "Epoch 00135: ReduceLROnPlateau reducing learning rate to 1e-07.\n",
      "808/808 [==============================] - 7s 8ms/step - loss: 0.4623 - accuracy: 0.8160 - lr: 2.4414e-07\n",
      "Epoch 136/200\n",
      "808/808 [==============================] - 6s 7ms/step - loss: 0.4623 - accuracy: 0.8160 - lr: 1.0000e-07\n",
      "Epoch 137/200\n",
      "808/808 [==============================] - 6s 8ms/step - loss: 0.4623 - accuracy: 0.8160 - lr: 1.0000e-07\n",
      "Epoch 138/200\n",
      "808/808 [==============================] - 7s 8ms/step - loss: 0.4623 - accuracy: 0.8160 - lr: 1.0000e-07\n",
      "Epoch 139/200\n",
      "808/808 [==============================] - 7s 9ms/step - loss: 0.4623 - accuracy: 0.8160 - lr: 1.0000e-07\n",
      "Epoch 140/200\n",
      "808/808 [==============================] - 6s 8ms/step - loss: 0.4623 - accuracy: 0.8160 - lr: 1.0000e-07\n",
      "Epoch 141/200\n",
      "808/808 [==============================] - 7s 8ms/step - loss: 0.4623 - accuracy: 0.8160 - lr: 1.0000e-07\n",
      "Epoch 142/200\n",
      "808/808 [==============================] - 7s 8ms/step - loss: 0.4623 - accuracy: 0.8160 - lr: 1.0000e-07\n",
      "Epoch 143/200\n",
      "808/808 [==============================] - 6s 8ms/step - loss: 0.4623 - accuracy: 0.8160 - lr: 1.0000e-07\n",
      "Epoch 00143: early stopping\n"
     ]
    }
   ],
   "source": [
    "history = word2vec.fit(dataset, epochs=200, callbacks=[tensorboard_callback, earlystop, learning_rate])"
   ]
  },
  {
   "cell_type": "code",
   "execution_count": 97,
   "metadata": {},
   "outputs": [
    {
     "data": {
      "image/png": "[encoded data removed]",
      "text/plain": [
       "<Figure size 432x288 with 1 Axes>"
      ]
     },
     "metadata": {
      "needs_background": "light"
     },
     "output_type": "display_data"
    },
    {
     "data": {
      "text/plain": [
       "<Figure size 432x288 with 0 Axes>"
      ]
     },
     "metadata": {},
     "output_type": "display_data"
    }
   ],
   "source": [
    "import matplotlib.pyplot as plt\n",
    "\n",
    "%matplotlib inline\n",
    "acc = history.history['accuracy']\n",
    "loss = history.history['loss']\n",
    "\n",
    "epochs = range(len(acc))\n",
    "\n",
    "plt.plot(epochs, acc, 'r', label='Accuracy')\n",
    "plt.plot(epochs, loss, 'b', label='Loss')\n",
    "plt.title('Accuracy and loss')\n",
    "plt.legend()\n",
    "plt.figure()\n",
    "\n",
    "plt.show()"
   ]
  },
  {
   "cell_type": "markdown",
   "metadata": {},
   "source": [
    "# 3-gram and 6 negative samples"
   ]
  },
  {
   "cell_type": "code",
   "execution_count": 37,
   "metadata": {},
   "outputs": [
    {
     "name": "stdout",
     "output_type": "stream",
     "text": [
      "Epoch 1/200\n",
      "1090/1090 [==============================] - 9s 8ms/step - loss: 1.7435 - accuracy: 0.3211 - lr: 0.0010\n",
      "Epoch 2/200\n",
      "1090/1090 [==============================] - 9s 8ms/step - loss: 1.5599 - accuracy: 0.4054 - lr: 0.0010\n",
      "Epoch 3/200\n",
      "1090/1090 [==============================] - 9s 8ms/step - loss: 1.4712 - accuracy: 0.4461 - lr: 0.0010\n",
      "Epoch 4/200\n",
      "1090/1090 [==============================] - 9s 8ms/step - loss: 1.4058 - accuracy: 0.4736 - lr: 0.0010\n",
      "Epoch 5/200\n",
      "1090/1090 [==============================] - 9s 8ms/step - loss: 1.3524 - accuracy: 0.4953 - lr: 0.0010\n",
      "Epoch 6/200\n",
      "1090/1090 [==============================] - 9s 8ms/step - loss: 1.3071 - accuracy: 0.5131 - lr: 0.0010\n",
      "Epoch 7/200\n",
      "1090/1090 [==============================] - 9s 8ms/step - loss: 1.2680 - accuracy: 0.5282 - lr: 0.0010\n",
      "Epoch 8/200\n",
      "1090/1090 [==============================] - 9s 8ms/step - loss: 1.2338 - accuracy: 0.5412 - lr: 0.0010\n",
      "Epoch 9/200\n",
      "1090/1090 [==============================] - 9s 8ms/step - loss: 1.2036 - accuracy: 0.5524 - lr: 0.0010\n",
      "Epoch 10/200\n",
      "1090/1090 [==============================] - 9s 8ms/step - loss: 1.1769 - accuracy: 0.5622 - lr: 0.0010\n",
      "Epoch 11/200\n",
      "1090/1090 [==============================] - 9s 8ms/step - loss: 1.1532 - accuracy: 0.5710 - lr: 0.0010\n",
      "Epoch 12/200\n",
      "1090/1090 [==============================] - 9s 8ms/step - loss: 1.1321 - accuracy: 0.5788 - lr: 0.0010\n",
      "Epoch 13/200\n",
      "1090/1090 [==============================] - 9s 8ms/step - loss: 1.1131 - accuracy: 0.5857 - lr: 0.0010\n",
      "Epoch 14/200\n",
      "1090/1090 [==============================] - 9s 8ms/step - loss: 1.0962 - accuracy: 0.5918 - lr: 0.0010\n",
      "Epoch 15/200\n",
      "1090/1090 [==============================] - 9s 8ms/step - loss: 1.0809 - accuracy: 0.5975 - lr: 0.0010\n",
      "Epoch 16/200\n",
      "1090/1090 [==============================] - 9s 8ms/step - loss: 1.0671 - accuracy: 0.6022 - lr: 0.0010\n",
      "Epoch 17/200\n",
      "1090/1090 [==============================] - 9s 8ms/step - loss: 1.0546 - accuracy: 0.6064 - lr: 0.0010\n",
      "Epoch 18/200\n",
      "1090/1090 [==============================] - 9s 8ms/step - loss: 1.0432 - accuracy: 0.6103 - lr: 0.0010\n",
      "Epoch 19/200\n",
      "1090/1090 [==============================] - 9s 8ms/step - loss: 1.0328 - accuracy: 0.6139 - lr: 0.0010\n",
      "Epoch 20/200\n",
      "1090/1090 [==============================] - 9s 8ms/step - loss: 1.0233 - accuracy: 0.6170 - lr: 0.0010\n",
      "Epoch 21/200\n",
      "1090/1090 [==============================] - 9s 8ms/step - loss: 1.0146 - accuracy: 0.6200 - lr: 0.0010\n",
      "Epoch 22/200\n",
      "1090/1090 [==============================] - 9s 8ms/step - loss: 1.0065 - accuracy: 0.6226 - lr: 0.0010\n",
      "Epoch 23/200\n",
      "1090/1090 [==============================] - 9s 8ms/step - loss: 0.9991 - accuracy: 0.6252 - lr: 0.0010\n",
      "Epoch 24/200\n",
      "1090/1090 [==============================] - 9s 8ms/step - loss: 0.9922 - accuracy: 0.6271 - lr: 0.0010\n",
      "Epoch 25/200\n",
      "1090/1090 [==============================] - 9s 8ms/step - loss: 0.9857 - accuracy: 0.6292 - lr: 0.0010\n",
      "Epoch 26/200\n",
      "1090/1090 [==============================] - 9s 8ms/step - loss: 0.9798 - accuracy: 0.6310 - lr: 0.0010\n",
      "Epoch 27/200\n",
      "1090/1090 [==============================] - 9s 8ms/step - loss: 0.9742 - accuracy: 0.6327 - lr: 0.0010\n",
      "Epoch 28/200\n",
      "1090/1090 [==============================] - 9s 8ms/step - loss: 0.9690 - accuracy: 0.6342 - lr: 0.0010\n",
      "Epoch 29/200\n",
      "1090/1090 [==============================] - 9s 8ms/step - loss: 0.9641 - accuracy: 0.6358 - lr: 0.0010\n",
      "Epoch 30/200\n",
      "1090/1090 [==============================] - 9s 8ms/step - loss: 0.9595 - accuracy: 0.6371 - lr: 0.0010\n",
      "Epoch 31/200\n",
      "1090/1090 [==============================] - 9s 8ms/step - loss: 0.9552 - accuracy: 0.6384 - lr: 0.0010\n",
      "Epoch 32/200\n",
      "1090/1090 [==============================] - 9s 8ms/step - loss: 0.9511 - accuracy: 0.6395 - lr: 0.0010\n",
      "Epoch 33/200\n",
      "1090/1090 [==============================] - 9s 8ms/step - loss: 0.9472 - accuracy: 0.6407 - lr: 0.0010\n",
      "Epoch 34/200\n",
      "1090/1090 [==============================] - 9s 8ms/step - loss: 0.9436 - accuracy: 0.6418 - lr: 0.0010\n",
      "Epoch 35/200\n",
      "1090/1090 [==============================] - 9s 8ms/step - loss: 0.9401 - accuracy: 0.6428 - lr: 0.0010\n",
      "Epoch 36/200\n",
      "1090/1090 [==============================] - 9s 8ms/step - loss: 0.9368 - accuracy: 0.6437 - lr: 0.0010\n",
      "Epoch 37/200\n",
      "1090/1090 [==============================] - 9s 8ms/step - loss: 0.9336 - accuracy: 0.6445 - lr: 0.0010\n",
      "Epoch 38/200\n",
      "1090/1090 [==============================] - 9s 8ms/step - loss: 0.9307 - accuracy: 0.6454 - lr: 0.0010\n",
      "Epoch 39/200\n",
      "1090/1090 [==============================] - 9s 8ms/step - loss: 0.9279 - accuracy: 0.6462 - lr: 0.0010\n",
      "Epoch 40/200\n",
      "1090/1090 [==============================] - 9s 8ms/step - loss: 0.9252 - accuracy: 0.6470 - lr: 0.0010\n",
      "Epoch 41/200\n",
      "1090/1090 [==============================] - 9s 8ms/step - loss: 0.9225 - accuracy: 0.6478 - lr: 0.0010\n",
      "Epoch 42/200\n",
      "1090/1090 [==============================] - 9s 8ms/step - loss: 0.9201 - accuracy: 0.6484 - lr: 0.0010\n",
      "Epoch 43/200\n",
      "1090/1090 [==============================] - 9s 8ms/step - loss: 0.9178 - accuracy: 0.6490 - lr: 0.0010\n",
      "Epoch 44/200\n",
      "1090/1090 [==============================] - 9s 8ms/step - loss: 0.9155 - accuracy: 0.6496 - lr: 0.0010\n",
      "Epoch 45/200\n",
      "1090/1090 [==============================] - 9s 8ms/step - loss: 0.9133 - accuracy: 0.6502 - lr: 0.0010\n",
      "Epoch 46/200\n",
      "1090/1090 [==============================] - 9s 8ms/step - loss: 0.9112 - accuracy: 0.6506 - lr: 0.0010\n",
      "Epoch 47/200\n",
      "1090/1090 [==============================] - 8s 8ms/step - loss: 0.9092 - accuracy: 0.6513 - lr: 0.0010\n",
      "Epoch 48/200\n",
      "1090/1090 [==============================] - 8s 8ms/step - loss: 0.9073 - accuracy: 0.6518 - lr: 0.0010\n",
      "Epoch 49/200\n",
      "1090/1090 [==============================] - 9s 8ms/step - loss: 0.9055 - accuracy: 0.6522 - lr: 0.0010\n",
      "Epoch 50/200\n",
      "1090/1090 [==============================] - 9s 8ms/step - loss: 0.9037 - accuracy: 0.6526 - lr: 0.0010\n",
      "Epoch 51/200\n",
      "1090/1090 [==============================] - 9s 8ms/step - loss: 0.9020 - accuracy: 0.6530 - lr: 0.0010\n",
      "Epoch 52/200\n",
      "1090/1090 [==============================] - 9s 8ms/step - loss: 0.9003 - accuracy: 0.6534 - lr: 0.0010\n",
      "Epoch 53/200\n",
      "1090/1090 [==============================] - 9s 8ms/step - loss: 0.8988 - accuracy: 0.6539 - lr: 0.0010\n",
      "Epoch 54/200\n",
      "1090/1090 [==============================] - 9s 8ms/step - loss: 0.8972 - accuracy: 0.6543 - lr: 0.0010\n",
      "Epoch 55/200\n",
      "1090/1090 [==============================] - 9s 8ms/step - loss: 0.8957 - accuracy: 0.6547 - lr: 0.0010\n",
      "Epoch 56/200\n",
      "1090/1090 [==============================] - 9s 8ms/step - loss: 0.8943 - accuracy: 0.6550 - lr: 0.0010\n",
      "Epoch 57/200\n",
      "1090/1090 [==============================] - 9s 8ms/step - loss: 0.8929 - accuracy: 0.6554 - lr: 0.0010\n",
      "Epoch 58/200\n",
      "1090/1090 [==============================] - 9s 8ms/step - loss: 0.8915 - accuracy: 0.6556 - lr: 0.0010\n",
      "Epoch 59/200\n",
      "1090/1090 [==============================] - 9s 8ms/step - loss: 0.8902 - accuracy: 0.6560 - lr: 0.0010\n",
      "Epoch 60/200\n",
      "1090/1090 [==============================] - 9s 8ms/step - loss: 0.8889 - accuracy: 0.6563 - lr: 0.0010\n",
      "Epoch 61/200\n",
      "1090/1090 [==============================] - 9s 8ms/step - loss: 0.8877 - accuracy: 0.6565 - lr: 0.0010\n",
      "Epoch 62/200\n",
      "1090/1090 [==============================] - 9s 8ms/step - loss: 0.8866 - accuracy: 0.6569 - lr: 0.0010\n",
      "Epoch 63/200\n",
      "1090/1090 [==============================] - 9s 8ms/step - loss: 0.8854 - accuracy: 0.6572 - lr: 0.0010\n",
      "Epoch 64/200\n",
      "1090/1090 [==============================] - 9s 8ms/step - loss: 0.8842 - accuracy: 0.6574 - lr: 0.0010\n",
      "Epoch 65/200\n",
      "1090/1090 [==============================] - 9s 8ms/step - loss: 0.8832 - accuracy: 0.6577 - lr: 0.0010\n",
      "Epoch 66/200\n",
      "1090/1090 [==============================] - 9s 8ms/step - loss: 0.8821 - accuracy: 0.6579 - lr: 0.0010\n",
      "Epoch 67/200\n",
      "1090/1090 [==============================] - 9s 8ms/step - loss: 0.8811 - accuracy: 0.6583 - lr: 0.0010\n",
      "Epoch 68/200\n",
      "1090/1090 [==============================] - 9s 8ms/step - loss: 0.8801 - accuracy: 0.6584 - lr: 0.0010\n",
      "Epoch 69/200\n",
      "1090/1090 [==============================] - 9s 9ms/step - loss: 0.8791 - accuracy: 0.6586 - lr: 0.0010\n",
      "Epoch 70/200\n",
      "1090/1090 [==============================] - 8s 8ms/step - loss: 0.8782 - accuracy: 0.6588 - lr: 0.0010\n",
      "Epoch 71/200\n"
     ]
    },
    {
     "name": "stdout",
     "output_type": "stream",
     "text": [
      "1090/1090 [==============================] - 9s 8ms/step - loss: 0.8772 - accuracy: 0.6590 - lr: 0.0010\n",
      "Epoch 72/200\n",
      "1090/1090 [==============================] - 8s 8ms/step - loss: 0.8764 - accuracy: 0.6591 - lr: 0.0010\n",
      "Epoch 73/200\n",
      "1090/1090 [==============================] - 8s 8ms/step - loss: 0.8754 - accuracy: 0.6594 - lr: 0.0010\n",
      "Epoch 74/200\n",
      "1090/1090 [==============================] - 8s 8ms/step - loss: 0.8746 - accuracy: 0.6596 - lr: 0.0010\n",
      "Epoch 75/200\n",
      "1090/1090 [==============================] - 9s 8ms/step - loss: 0.8737 - accuracy: 0.6598 - lr: 0.0010\n",
      "Epoch 76/200\n",
      "1090/1090 [==============================] - 8s 8ms/step - loss: 0.8730 - accuracy: 0.6599 - lr: 0.0010\n",
      "Epoch 77/200\n",
      "1090/1090 [==============================] - 9s 8ms/step - loss: 0.8722 - accuracy: 0.6601 - lr: 0.0010\n",
      "Epoch 78/200\n",
      "1090/1090 [==============================] - 9s 8ms/step - loss: 0.8714 - accuracy: 0.6602 - lr: 0.0010\n",
      "Epoch 79/200\n",
      "1090/1090 [==============================] - 9s 8ms/step - loss: 0.8706 - accuracy: 0.6605 - lr: 0.0010\n",
      "Epoch 80/200\n",
      "1090/1090 [==============================] - 9s 8ms/step - loss: 0.8699 - accuracy: 0.6606 - lr: 0.0010\n",
      "Epoch 81/200\n",
      "1090/1090 [==============================] - 8s 8ms/step - loss: 0.8692 - accuracy: 0.6608 - lr: 0.0010\n",
      "Epoch 82/200\n",
      "1090/1090 [==============================] - 9s 8ms/step - loss: 0.8685 - accuracy: 0.6611 - lr: 0.0010\n",
      "Epoch 83/200\n",
      "1090/1090 [==============================] - 9s 8ms/step - loss: 0.8678 - accuracy: 0.6610 - lr: 0.0010\n",
      "Epoch 84/200\n",
      "1090/1090 [==============================] - 9s 8ms/step - loss: 0.8671 - accuracy: 0.6613 - lr: 0.0010\n",
      "Epoch 85/200\n",
      "1090/1090 [==============================] - 9s 8ms/step - loss: 0.8664 - accuracy: 0.6613 - lr: 0.0010\n",
      "Epoch 86/200\n",
      "1090/1090 [==============================] - 8s 8ms/step - loss: 0.8658 - accuracy: 0.6615 - lr: 0.0010\n",
      "Epoch 87/200\n",
      "1090/1090 [==============================] - 9s 8ms/step - loss: 0.8652 - accuracy: 0.6617 - lr: 0.0010\n",
      "Epoch 88/200\n",
      "1090/1090 [==============================] - 9s 8ms/step - loss: 0.8646 - accuracy: 0.6616 - lr: 0.0010\n",
      "Epoch 89/200\n",
      "1090/1090 [==============================] - 9s 8ms/step - loss: 0.8639 - accuracy: 0.6618 - lr: 0.0010\n",
      "Epoch 90/200\n",
      "1090/1090 [==============================] - 9s 8ms/step - loss: 0.8633 - accuracy: 0.6620 - lr: 0.0010\n",
      "Epoch 91/200\n",
      "1090/1090 [==============================] - 9s 8ms/step - loss: 0.8628 - accuracy: 0.6621 - lr: 0.0010\n",
      "Epoch 92/200\n",
      "1090/1090 [==============================] - 9s 8ms/step - loss: 0.8622 - accuracy: 0.6622 - lr: 0.0010\n",
      "Epoch 93/200\n",
      "1090/1090 [==============================] - 9s 8ms/step - loss: 0.8616 - accuracy: 0.6624 - lr: 0.0010\n",
      "Epoch 94/200\n",
      "1090/1090 [==============================] - 9s 8ms/step - loss: 0.8611 - accuracy: 0.6625 - lr: 0.0010\n",
      "Epoch 95/200\n",
      "1090/1090 [==============================] - 9s 8ms/step - loss: 0.8605 - accuracy: 0.6625 - lr: 0.0010\n",
      "Epoch 96/200\n",
      "1090/1090 [==============================] - 9s 8ms/step - loss: 0.8600 - accuracy: 0.6626 - lr: 0.0010\n",
      "Epoch 97/200\n",
      "1090/1090 [==============================] - 9s 8ms/step - loss: 0.8595 - accuracy: 0.6628 - lr: 0.0010\n",
      "Epoch 98/200\n",
      "1090/1090 [==============================] - 9s 8ms/step - loss: 0.8590 - accuracy: 0.6628 - lr: 0.0010\n",
      "Epoch 99/200\n",
      "1090/1090 [==============================] - 9s 8ms/step - loss: 0.8585 - accuracy: 0.6629 - lr: 0.0010\n",
      "Epoch 100/200\n",
      "1090/1090 [==============================] - 9s 8ms/step - loss: 0.8580 - accuracy: 0.6631 - lr: 0.0010\n",
      "Epoch 101/200\n",
      "1090/1090 [==============================] - 9s 8ms/step - loss: 0.8575 - accuracy: 0.6632 - lr: 0.0010\n",
      "Epoch 102/200\n",
      "1090/1090 [==============================] - 9s 8ms/step - loss: 0.8571 - accuracy: 0.6632 - lr: 0.0010\n",
      "Epoch 103/200\n",
      "1090/1090 [==============================] - 9s 8ms/step - loss: 0.8566 - accuracy: 0.6633 - lr: 0.0010\n",
      "Epoch 104/200\n",
      "1090/1090 [==============================] - 9s 8ms/step - loss: 0.8562 - accuracy: 0.6634 - lr: 0.0010\n",
      "Epoch 105/200\n",
      "1090/1090 [==============================] - 9s 8ms/step - loss: 0.8557 - accuracy: 0.6635 - lr: 0.0010\n",
      "Epoch 106/200\n",
      "1090/1090 [==============================] - 9s 8ms/step - loss: 0.8553 - accuracy: 0.6636 - lr: 0.0010\n",
      "Epoch 107/200\n",
      "1090/1090 [==============================] - 9s 8ms/step - loss: 0.8548 - accuracy: 0.6637 - lr: 0.0010\n",
      "Epoch 108/200\n",
      "1090/1090 [==============================] - 9s 8ms/step - loss: 0.8545 - accuracy: 0.6638 - lr: 0.0010\n",
      "Epoch 109/200\n",
      "1090/1090 [==============================] - 9s 8ms/step - loss: 0.8540 - accuracy: 0.6639 - lr: 0.0010\n",
      "Epoch 110/200\n",
      "1090/1090 [==============================] - 9s 8ms/step - loss: 0.8536 - accuracy: 0.6640 - lr: 0.0010\n",
      "Epoch 111/200\n",
      "1090/1090 [==============================] - 9s 8ms/step - loss: 0.8532 - accuracy: 0.6640 - lr: 0.0010\n",
      "Epoch 112/200\n",
      "1090/1090 [==============================] - 9s 8ms/step - loss: 0.8528 - accuracy: 0.6641 - lr: 0.0010\n",
      "Epoch 113/200\n",
      "1090/1090 [==============================] - 9s 8ms/step - loss: 0.8524 - accuracy: 0.6643 - lr: 0.0010\n",
      "Epoch 114/200\n",
      "1090/1090 [==============================] - 9s 8ms/step - loss: 0.8520 - accuracy: 0.6643 - lr: 0.0010\n",
      "Epoch 115/200\n",
      "1090/1090 [==============================] - 9s 8ms/step - loss: 0.8517 - accuracy: 0.6643 - lr: 0.0010\n",
      "Epoch 116/200\n",
      "1083/1090 [============================>.] - ETA: 0s - loss: 0.8512 - accuracy: 0.6644\n",
      "Epoch 00116: ReduceLROnPlateau reducing learning rate to 0.0002500000118743628.\n",
      "1090/1090 [==============================] - 9s 8ms/step - loss: 0.8513 - accuracy: 0.6644 - lr: 0.0010\n",
      "Epoch 117/200\n",
      "1090/1090 [==============================] - 9s 8ms/step - loss: 0.8271 - accuracy: 0.6774 - lr: 2.5000e-04\n",
      "Epoch 118/200\n",
      "1090/1090 [==============================] - 9s 8ms/step - loss: 0.8260 - accuracy: 0.6778 - lr: 2.5000e-04\n",
      "Epoch 119/200\n",
      "1090/1090 [==============================] - 9s 8ms/step - loss: 0.8255 - accuracy: 0.6780 - lr: 2.5000e-04\n",
      "Epoch 120/200\n",
      "1090/1090 [==============================] - 9s 8ms/step - loss: 0.8250 - accuracy: 0.6781 - lr: 2.5000e-04\n",
      "Epoch 121/200\n",
      "1090/1090 [==============================] - 9s 8ms/step - loss: 0.8247 - accuracy: 0.6783 - lr: 2.5000e-04\n",
      "Epoch 122/200\n",
      "1090/1090 [==============================] - 9s 8ms/step - loss: 0.8245 - accuracy: 0.6783 - lr: 2.5000e-04\n",
      "Epoch 123/200\n",
      "1090/1090 [==============================] - 9s 8ms/step - loss: 0.8242 - accuracy: 0.6784 - lr: 2.5000e-04\n",
      "Epoch 124/200\n",
      "1090/1090 [==============================] - 9s 8ms/step - loss: 0.8240 - accuracy: 0.6785 - lr: 2.5000e-04\n",
      "Epoch 125/200\n",
      "1090/1090 [==============================] - 9s 8ms/step - loss: 0.8238 - accuracy: 0.6786 - lr: 2.5000e-04\n",
      "Epoch 126/200\n",
      "1090/1090 [==============================] - 9s 8ms/step - loss: 0.8237 - accuracy: 0.6785 - lr: 2.5000e-04\n",
      "Epoch 127/200\n",
      "1090/1090 [==============================] - 9s 8ms/step - loss: 0.8235 - accuracy: 0.6785 - lr: 2.5000e-04\n",
      "Epoch 128/200\n",
      "1088/1090 [============================>.] - ETA: 0s - loss: 0.8233 - accuracy: 0.6785\n",
      "Epoch 00128: ReduceLROnPlateau reducing learning rate to 6.25000029685907e-05.\n",
      "1090/1090 [==============================] - 9s 8ms/step - loss: 0.8234 - accuracy: 0.6785 - lr: 2.5000e-04\n",
      "Epoch 129/200\n",
      "1090/1090 [==============================] - 9s 8ms/step - loss: 0.8168 - accuracy: 0.6822 - lr: 6.2500e-05\n",
      "Epoch 130/200\n",
      "1090/1090 [==============================] - 8s 8ms/step - loss: 0.8167 - accuracy: 0.6823 - lr: 6.2500e-05\n",
      "Epoch 131/200\n",
      "1090/1090 [==============================] - 9s 8ms/step - loss: 0.8166 - accuracy: 0.6823 - lr: 6.2500e-05\n",
      "Epoch 132/200\n",
      "1088/1090 [============================>.] - ETA: 0s - loss: 0.8165 - accuracy: 0.6824\n",
      "Epoch 00132: ReduceLROnPlateau reducing learning rate to 1.5625000742147677e-05.\n",
      "1090/1090 [==============================] - 8s 8ms/step - loss: 0.8165 - accuracy: 0.6823 - lr: 6.2500e-05\n",
      "Epoch 133/200\n",
      "1090/1090 [==============================] - 8s 8ms/step - loss: 0.8148 - accuracy: 0.6833 - lr: 1.5625e-05\n",
      "Epoch 134/200\n",
      "1090/1090 [==============================] - 9s 8ms/step - loss: 0.8148 - accuracy: 0.6833 - lr: 1.5625e-05\n",
      "Epoch 135/200\n",
      "1090/1090 [==============================] - 9s 8ms/step - loss: 0.8148 - accuracy: 0.6833 - lr: 1.5625e-05\n"
     ]
    },
    {
     "name": "stdout",
     "output_type": "stream",
     "text": [
      "Epoch 136/200\n",
      "1087/1090 [============================>.] - ETA: 0s - loss: 0.8148 - accuracy: 0.6833\n",
      "Epoch 00136: ReduceLROnPlateau reducing learning rate to 3.906250185536919e-06.\n",
      "1090/1090 [==============================] - 9s 8ms/step - loss: 0.8148 - accuracy: 0.6833 - lr: 1.5625e-05\n",
      "Epoch 137/200\n",
      "1090/1090 [==============================] - 9s 8ms/step - loss: 0.8143 - accuracy: 0.6835 - lr: 3.9063e-06\n",
      "Epoch 138/200\n",
      "1090/1090 [==============================] - 8s 8ms/step - loss: 0.8144 - accuracy: 0.6835 - lr: 3.9063e-06\n",
      "Epoch 139/200\n",
      "1090/1090 [==============================] - 9s 8ms/step - loss: 0.8143 - accuracy: 0.6835 - lr: 3.9063e-06\n",
      "Epoch 140/200\n",
      "1090/1090 [==============================] - ETA: 0s - loss: 0.8144 - accuracy: 0.6835\n",
      "Epoch 00140: ReduceLROnPlateau reducing learning rate to 9.765625463842298e-07.\n",
      "1090/1090 [==============================] - 9s 8ms/step - loss: 0.8144 - accuracy: 0.6835 - lr: 3.9063e-06\n",
      "Epoch 00140: early stopping\n"
     ]
    }
   ],
   "source": [
    "history = word2vec.fit(dataset, epochs=200, callbacks=[tensorboard_callback, earlystop, learning_rate])"
   ]
  },
  {
   "cell_type": "code",
   "execution_count": 38,
   "metadata": {},
   "outputs": [
    {
     "data": {
      "image/png": "[encoded data removed]",
      "text/plain": [
       "<Figure size 432x288 with 1 Axes>"
      ]
     },
     "metadata": {
      "needs_background": "light"
     },
     "output_type": "display_data"
    },
    {
     "data": {
      "text/plain": [
       "<Figure size 432x288 with 0 Axes>"
      ]
     },
     "metadata": {},
     "output_type": "display_data"
    }
   ],
   "source": [
    "import matplotlib.pyplot as plt\n",
    "\n",
    "%matplotlib inline\n",
    "acc = history.history['accuracy']\n",
    "loss = history.history['loss']\n",
    "\n",
    "epochs = range(len(acc))\n",
    "\n",
    "plt.plot(epochs, acc, 'r', label='Accuracy')\n",
    "plt.plot(epochs, loss, 'b', label='Loss')\n",
    "plt.title('Accuracy and loss')\n",
    "plt.legend()\n",
    "plt.figure()\n",
    "\n",
    "plt.show()"
   ]
  },
  {
   "cell_type": "code",
   "execution_count": 98,
   "metadata": {},
   "outputs": [
    {
     "name": "stdout",
     "output_type": "stream",
     "text": [
      "INFO:tensorflow:Assets written to: word2vec-second-train\\assets\n"
     ]
    }
   ],
   "source": [
    "word2vec.save('word2vec-second-train')"
   ]
  },
  {
   "cell_type": "code",
   "execution_count": 99,
   "metadata": {},
   "outputs": [],
   "source": [
    "weights = word2vec.get_layer('w2v_embedding').get_weights()[0]\n",
    "vocab = vectorize_layer.get_vocabulary()"
   ]
  },
  {
   "cell_type": "code",
   "execution_count": 100,
   "metadata": {},
   "outputs": [
    {
     "data": {
      "text/plain": [
       "<keras.layers.embeddings.Embedding at 0x293d5f862c8>"
      ]
     },
     "execution_count": 100,
     "metadata": {},
     "output_type": "execute_result"
    }
   ],
   "source": [
    "word2vec.get_layer('w2v_embedding')"
   ]
  },
  {
   "cell_type": "code",
   "execution_count": 103,
   "metadata": {},
   "outputs": [],
   "source": [
    "import io\n",
    "\n",
    "out_v = io.open('vectors.tsv', 'w', encoding='utf-8')\n",
    "out_m = io.open('metadata.tsv', 'w', encoding='utf-8')\n",
    "\n",
    "for index, word in enumerate(vocab):\n",
    "    if index == 0:\n",
    "        continue  # skip 0, it's padding.\n",
    "    vec = weights[index]\n",
    "    out_v.write('\\t'.join([str(x) for x in vec]) + \"\\n\")\n",
    "    out_m.write(word + \"\\n\")\n",
    "out_v.close()\n",
    "out_m.close()"
   ]
  },
  {
   "cell_type": "code",
   "execution_count": 40,
   "metadata": {},
   "outputs": [],
   "source": [
    "x = df['Lyrics'].values\n",
    "y = np.array(pd.Categorical(pd.factorize(df['Genre'])[0]))"
   ]
  },
  {
   "cell_type": "code",
   "execution_count": 44,
   "metadata": {},
   "outputs": [],
   "source": [
    "BUFFER_SIZE = 10000\n",
    "BATCH_SIZE = 1024\n",
    "\n",
    "train_ds = tf.data.Dataset.from_tensor_slices((processed_lyrics, y))\n",
    "train_ds = train_ds.shuffle(BUFFER_SIZE).batch(BATCH_SIZE).prefetch(tf.data.AUTOTUNE)"
   ]
  },
  {
   "cell_type": "code",
   "execution_count": 45,
   "metadata": {},
   "outputs": [],
   "source": [
    "VOCAB_SIZE = 1000\n",
    "encoder = tf.keras.layers.TextVectorization(\n",
    "    max_tokens=VOCAB_SIZE)\n",
    "encoder.adapt(train_ds.map(lambda text, label: text))   "
   ]
  },
  {
   "cell_type": "code",
   "execution_count": 46,
   "metadata": {},
   "outputs": [],
   "source": [
    "my_word2vec = tf.keras.models.load_model('word2vec-second-train')"
   ]
  },
  {
   "cell_type": "code",
   "execution_count": null,
   "metadata": {},
   "outputs": [],
   "source": [
    "class GenreClassifier(tf.keras.Model):\n",
    "    \n",
    "    def __init__(self):\n",
    "        super(GenreClassifier, self).__init__()    \n",
    "        self.encoder = encoder\n",
    "        self.embed = my_word2vec.get_layer('w2v_embedding')\n",
    "        self.lstm = tf.keras.layers.Bidirectional(tf.keras.layers.LSTM(64))\n",
    "        self.dense1 = tf.keras.layers.Dense(64, activation='relu')\n",
    "        self.predict = tf.keras.layers.Dense(10, activation='softmax')\n",
    "        \n",
    "    def call(self, inputs):\n",
    "        x = self.encoder(inputs)\n",
    "        x = self.embed(x)\n",
    "        x = self.lstm(x)\n",
    "        x = self.dense1(x)\n",
    "        return self.predict(x)\n",
    "    "
   ]
  },
  {
   "cell_type": "code",
   "execution_count": 47,
   "metadata": {},
   "outputs": [],
   "source": [
    "model = tf.keras.Sequential([\n",
    "    encoder,\n",
    "    word2vec.get_layer('w2v_embedding'),\n",
    "    tf.keras.layers.Bidirectional(tf.keras.layers.LSTM(64)),\n",
    "    tf.keras.layers.Dense(64, activation='relu'),\n",
    "    tf.keras.layers.Dense(10, activation='softmax')\n",
    "])"
   ]
  },
  {
   "cell_type": "code",
   "execution_count": 48,
   "metadata": {},
   "outputs": [],
   "source": [
    "model.layers[0].trainable = False\n",
    "model.layers[1].trainable = False"
   ]
  },
  {
   "cell_type": "code",
   "execution_count": 54,
   "metadata": {},
   "outputs": [],
   "source": [
    "model.compile(\n",
    "    loss=tf.keras.losses.SparseCategoricalCrossentropy(from_logits=False),\n",
    "    optimizer=tf.keras.optimizers.Adam(1e-4),\n",
    "    metrics=['accuracy']\n",
    ")"
   ]
  },
  {
   "cell_type": "code",
   "execution_count": 49,
   "metadata": {},
   "outputs": [],
   "source": [
    "import numpy as np\n",
    "from sklearn.model_selection import train_test_split\n",
    "\n",
    "X_train, X_val, y_train, y_val = train_test_split(\n",
    "    x, y, test_size=0.3, random_state=42\n",
    ")"
   ]
  },
  {
   "cell_type": "code",
   "execution_count": 50,
   "metadata": {},
   "outputs": [
    {
     "name": "stdout",
     "output_type": "stream",
     "text": [
      "[107019, 19098, 86219, 7240, 8165, 2002, 2763, 13314, 2238, 1890]\n"
     ]
    }
   ],
   "source": [
    "num_data = []\n",
    "total = len(x)\n",
    "\n",
    "for genre in df['Genre'].unique():\n",
    "    num_data.append(len(df[df['Genre'] == genre]))\n",
    "\n",
    "print(num_data)"
   ]
  },
  {
   "cell_type": "markdown",
   "metadata": {},
   "source": [
    "Rock: 0\n",
    "Pop: 1\n",
    "Metal: 2\n",
    "Jazz: 3\n",
    "Folk: 4\n",
    "Indie: 5\n",
    "R&B: 6\n",
    "Hip-Hop: 7\n",
    "Electronic: 8\n",
    "Country: 9"
   ]
  },
  {
   "cell_type": "code",
   "execution_count": 51,
   "metadata": {},
   "outputs": [],
   "source": [
    "class_weight = {\n",
    "    0: 1 - num_data[0] / total,\n",
    "    1: 1 - num_data[1] / total,\n",
    "    2: 1 - num_data[2] / total,\n",
    "    3: 1 - num_data[3] / total,\n",
    "    4: 1 - num_data[4] / total,\n",
    "    5: 1 - num_data[5] / total,\n",
    "    6: 1 - num_data[6] / total,\n",
    "    7: 1 - num_data[7] / total,\n",
    "    8: 1 - num_data[8] / total,\n",
    "    9: 1 - num_data[9] / total\n",
    "}"
   ]
  },
  {
   "cell_type": "code",
   "execution_count": 52,
   "metadata": {},
   "outputs": [],
   "source": [
    "model_checkpoint = tf.keras.callbacks.ModelCheckpoint(\n",
    "    'best_model',\n",
    "    monitor='val_accuracy',\n",
    "    mode='max',\n",
    "    verbose=1,\n",
    "    save_best_only=True\n",
    ")\n",
    "\n",
    "tensorboard_callback = tf.keras.callbacks.TensorBoard(log_dir=\"logs\")\n",
    "\n",
    "earlystop = tf.keras.callbacks.EarlyStopping(\n",
    "    monitor='val_loss',\n",
    "    verbose=1,\n",
    "    patience=4\n",
    ")\n",
    "\n",
    "learning_rate = tf.keras.callbacks.ReduceLROnPlateau(\n",
    "    monitor='val_accuracy',\n",
    "    patience=3,\n",
    "    verbose=1,\n",
    "    factor=0.25,\n",
    "    min_lr=0.0000001\n",
    ")"
   ]
  },
  {
   "cell_type": "code",
   "execution_count": null,
   "metadata": {
    "scrolled": false
   },
   "outputs": [],
   "source": [
    "history_classifier = model.fit(\n",
    "    X_train, y_train, \n",
    "    epochs=50,           \n",
    "    validation_data=(X_val, y_val),\n",
    "    batch_size=32,\n",
    "    callbacks=[earlystop, learning_rate, model_checkpoint],\n",
    "    class_weight=class_weight\n",
    ")"
   ]
  },
  {
   "cell_type": "markdown",
   "metadata": {},
   "source": [
    "# After 50 epochs"
   ]
  },
  {
   "cell_type": "code",
   "execution_count": 85,
   "metadata": {},
   "outputs": [
    {
     "data": {
      "image/png": "[encoded data removed]",
      "text/plain": [
       "<Figure size 432x288 with 1 Axes>"
      ]
     },
     "metadata": {
      "needs_background": "light"
     },
     "output_type": "display_data"
    },
    {
     "data": {
      "image/png": "[encoded data removed]",
      "text/plain": [
       "<Figure size 432x288 with 1 Axes>"
      ]
     },
     "metadata": {
      "needs_background": "light"
     },
     "output_type": "display_data"
    },
    {
     "data": {
      "text/plain": [
       "<Figure size 432x288 with 0 Axes>"
      ]
     },
     "metadata": {},
     "output_type": "display_data"
    }
   ],
   "source": [
    "import matplotlib.pyplot as plt\n",
    "\n",
    "acc = history_classifier.history['accuracy']\n",
    "loss = history_classifier.history['loss']\n",
    "val_acc = history_classifier.history['val_accuracy']\n",
    "val_loss = history_classifier.history['val_loss']\n",
    "\n",
    "epochs = range(len(acc))\n",
    "\n",
    "plt.plot(epochs, acc, 'r', label='Training accuracy')\n",
    "plt.plot(epochs, val_acc, 'b', label='Validation accuracy')\n",
    "plt.title('Accuracy')\n",
    "plt.legend()\n",
    "plt.figure()\n",
    "\n",
    "plt.plot(epochs, loss, 'r', label='Training loss')\n",
    "plt.plot(epochs, val_loss, 'b', label='Validation loss')\n",
    "plt.title('Accuracy and loss')\n",
    "plt.legend()\n",
    "plt.figure()\n",
    "\n",
    "\n",
    "plt.show()"
   ]
  },
  {
   "cell_type": "code",
   "execution_count": 86,
   "metadata": {
    "scrolled": true
   },
   "outputs": [
    {
     "name": "stderr",
     "output_type": "stream",
     "text": [
      "WARNING:absl:Found untraced functions such as lstm_cell_34_layer_call_fn, lstm_cell_34_layer_call_and_return_conditional_losses, lstm_cell_35_layer_call_fn, lstm_cell_35_layer_call_and_return_conditional_losses, lstm_cell_34_layer_call_fn while saving (showing 5 of 10). These functions will not be directly callable after loading.\n"
     ]
    },
    {
     "name": "stdout",
     "output_type": "stream",
     "text": [
      "INFO:tensorflow:Assets written to: epoch50\\assets\n"
     ]
    },
    {
     "name": "stderr",
     "output_type": "stream",
     "text": [
      "INFO:tensorflow:Assets written to: epoch50\\assets\n",
      "WARNING:absl:<keras.layers.recurrent.LSTMCell object at 0x000002177DCCADC8> has the same name 'LSTMCell' as a built-in Keras object. Consider renaming <class 'keras.layers.recurrent.LSTMCell'> to avoid naming conflicts when loading with `tf.keras.models.load_model`. If renaming is not possible, pass the object in the `custom_objects` parameter of the load function.\n",
      "WARNING:absl:<keras.layers.recurrent.LSTMCell object at 0x000002177A209D48> has the same name 'LSTMCell' as a built-in Keras object. Consider renaming <class 'keras.layers.recurrent.LSTMCell'> to avoid naming conflicts when loading with `tf.keras.models.load_model`. If renaming is not possible, pass the object in the `custom_objects` parameter of the load function.\n"
     ]
    }
   ],
   "source": [
    "model.save('epoch50')"
   ]
  },
  {
   "cell_type": "code",
   "execution_count": 53,
   "metadata": {},
   "outputs": [
    {
     "data": {
      "text/plain": [
       "<tensorflow.python.training.tracking.util.CheckpointLoadStatus at 0x2479ab825c8>"
      ]
     },
     "execution_count": 53,
     "metadata": {},
     "output_type": "execute_result"
    }
   ],
   "source": [
    "model.load_weights('./epoch50/variables/variables')"
   ]
  },
  {
   "cell_type": "code",
   "execution_count": 55,
   "metadata": {},
   "outputs": [
    {
     "name": "stdout",
     "output_type": "stream",
     "text": [
      "Model: \"sequential\"\n",
      "_________________________________________________________________\n",
      " Layer (type)                Output Shape              Param #   \n",
      "=================================================================\n",
      " text_vectorization_3 (TextV  (None, None)             0         \n",
      " ectorization)                                                   \n",
      "                                                                 \n",
      " w2v_embedding (Embedding)   (None, None, 128)         524288    \n",
      "                                                                 \n",
      " bidirectional (Bidirectiona  (None, 128)              98816     \n",
      " l)                                                              \n",
      "                                                                 \n",
      " dense (Dense)               (None, 64)                8256      \n",
      "                                                                 \n",
      " dense_1 (Dense)             (None, 10)                650       \n",
      "                                                                 \n",
      "=================================================================\n",
      "Total params: 632,010\n",
      "Trainable params: 107,722\n",
      "Non-trainable params: 524,288\n",
      "_________________________________________________________________\n"
     ]
    }
   ],
   "source": [
    "model.summary()"
   ]
  },
  {
   "cell_type": "code",
   "execution_count": 56,
   "metadata": {},
   "outputs": [
    {
     "name": "stdout",
     "output_type": "stream",
     "text": [
      "Epoch 1/50\n",
      "5467/5468 [============================>.] - ETA: 0s - loss: 0.7732 - accuracy: 0.6446\n",
      "Epoch 00001: val_accuracy improved from -inf to 0.60469, saving model to best_model\n"
     ]
    },
    {
     "name": "stderr",
     "output_type": "stream",
     "text": [
      "WARNING:absl:Found untraced functions such as lstm_cell_1_layer_call_fn, lstm_cell_1_layer_call_and_return_conditional_losses, lstm_cell_2_layer_call_fn, lstm_cell_2_layer_call_and_return_conditional_losses, lstm_cell_1_layer_call_fn while saving (showing 5 of 10). These functions will not be directly callable after loading.\n"
     ]
    },
    {
     "name": "stdout",
     "output_type": "stream",
     "text": [
      "INFO:tensorflow:Assets written to: best_model\\assets\n"
     ]
    },
    {
     "name": "stderr",
     "output_type": "stream",
     "text": [
      "INFO:tensorflow:Assets written to: best_model\\assets\n",
      "WARNING:absl:<keras.layers.recurrent.LSTMCell object at 0x00000247A2A07248> has the same name 'LSTMCell' as a built-in Keras object. Consider renaming <class 'keras.layers.recurrent.LSTMCell'> to avoid naming conflicts when loading with `tf.keras.models.load_model`. If renaming is not possible, pass the object in the `custom_objects` parameter of the load function.\n",
      "WARNING:absl:<keras.layers.recurrent.LSTMCell object at 0x00000247A2A111C8> has the same name 'LSTMCell' as a built-in Keras object. Consider renaming <class 'keras.layers.recurrent.LSTMCell'> to avoid naming conflicts when loading with `tf.keras.models.load_model`. If renaming is not possible, pass the object in the `custom_objects` parameter of the load function.\n"
     ]
    },
    {
     "name": "stdout",
     "output_type": "stream",
     "text": [
      "5468/5468 [==============================] - 291s 53ms/step - loss: 0.7732 - accuracy: 0.6446 - val_loss: 1.1613 - val_accuracy: 0.6047 - lr: 1.0000e-04\n",
      "Epoch 2/50\n",
      "5468/5468 [==============================] - ETA: 0s - loss: 0.7714 - accuracy: 0.6454\n",
      "Epoch 00002: val_accuracy did not improve from 0.60469\n",
      "5468/5468 [==============================] - 284s 52ms/step - loss: 0.7714 - accuracy: 0.6454 - val_loss: 1.1699 - val_accuracy: 0.6003 - lr: 1.0000e-04\n",
      "Epoch 3/50\n",
      "5467/5468 [============================>.] - ETA: 0s - loss: 0.7693 - accuracy: 0.6460\n",
      "Epoch 00003: val_accuracy did not improve from 0.60469\n",
      "5468/5468 [==============================] - 288s 53ms/step - loss: 0.7693 - accuracy: 0.6460 - val_loss: 1.1674 - val_accuracy: 0.6029 - lr: 1.0000e-04\n",
      "Epoch 4/50\n",
      "5468/5468 [==============================] - ETA: 0s - loss: 0.7667 - accuracy: 0.6476\n",
      "Epoch 00004: ReduceLROnPlateau reducing learning rate to 2.499999936844688e-05.\n",
      "\n",
      "Epoch 00004: val_accuracy did not improve from 0.60469\n",
      "5468/5468 [==============================] - 272s 50ms/step - loss: 0.7667 - accuracy: 0.6476 - val_loss: 1.1699 - val_accuracy: 0.6008 - lr: 1.0000e-04\n",
      "Epoch 5/50\n",
      "5468/5468 [==============================] - ETA: 0s - loss: 0.7517 - accuracy: 0.6551\n",
      "Epoch 00005: val_accuracy did not improve from 0.60469\n",
      "5468/5468 [==============================] - 273s 50ms/step - loss: 0.7517 - accuracy: 0.6551 - val_loss: 1.1701 - val_accuracy: 0.6023 - lr: 2.5000e-05\n",
      "Epoch 00005: early stopping\n"
     ]
    }
   ],
   "source": [
    "history_classifier = model.fit(\n",
    "    X_train, y_train, \n",
    "    epochs=50,           \n",
    "    validation_data=(X_val, y_val),\n",
    "    batch_size=32,\n",
    "    callbacks=[earlystop, learning_rate, model_checkpoint],\n",
    "    class_weight=class_weight\n",
    ")"
   ]
  },
  {
   "cell_type": "markdown",
   "metadata": {},
   "source": [
    "# None Bidrection."
   ]
  },
  {
   "cell_type": "code",
   "execution_count": 82,
   "metadata": {},
   "outputs": [
    {
     "name": "stdout",
     "output_type": "stream",
     "text": [
      "Epoch 1/50\n",
      "5467/5468 [============================>.] - ETA: 0s - loss: 1.1343 - accuracy: 0.4513 ETA\n",
      "Epoch 00001: val_accuracy did not improve from 0.60469\n",
      "5468/5468 [==============================] - 173s 31ms/step - loss: 1.1343 - accuracy: 0.4513 - val_loss: 1.4591 - val_accuracy: 0.4606 - lr: 1.0000e-04\n",
      "Epoch 2/50\n",
      "5467/5468 [============================>.] - ETA: 0s - loss: 1.1157 - accuracy: 0.4683\n",
      "Epoch 00002: val_accuracy did not improve from 0.60469\n",
      "5468/5468 [==============================] - 158s 29ms/step - loss: 1.1156 - accuracy: 0.4683 - val_loss: 1.4451 - val_accuracy: 0.4895 - lr: 1.0000e-04\n",
      "Epoch 3/50\n",
      "5466/5468 [============================>.] - ETA: 0s - loss: 1.1005 - accuracy: 0.4941\n",
      "Epoch 00003: val_accuracy did not improve from 0.60469\n",
      "5468/5468 [==============================] - 154s 28ms/step - loss: 1.1005 - accuracy: 0.4941 - val_loss: 1.4077 - val_accuracy: 0.5206 - lr: 1.0000e-04\n",
      "Epoch 4/50\n",
      "5466/5468 [============================>.] - ETA: 0s - loss: 1.0797 - accuracy: 0.5260\n",
      "Epoch 00004: val_accuracy did not improve from 0.60469\n",
      "5468/5468 [==============================] - 154s 28ms/step - loss: 1.0797 - accuracy: 0.5260 - val_loss: 1.3955 - val_accuracy: 0.5386 - lr: 1.0000e-04\n",
      "Epoch 5/50\n",
      "5466/5468 [============================>.] - ETA: 0s - loss: 1.0777 - accuracy: 0.5352\n",
      "Epoch 00005: val_accuracy did not improve from 0.60469\n",
      "5468/5468 [==============================] - 155s 28ms/step - loss: 1.0777 - accuracy: 0.5352 - val_loss: 1.4117 - val_accuracy: 0.5374 - lr: 1.0000e-04\n",
      "Epoch 6/50\n",
      "5466/5468 [============================>.] - ETA: 0s - loss: 1.0728 - accuracy: 0.5394\n",
      "Epoch 00006: val_accuracy did not improve from 0.60469\n",
      "5468/5468 [==============================] - 153s 28ms/step - loss: 1.0728 - accuracy: 0.5394 - val_loss: 1.3850 - val_accuracy: 0.5470 - lr: 1.0000e-04\n",
      "Epoch 7/50\n",
      "5466/5468 [============================>.] - ETA: 0s - loss: 1.0578 - accuracy: 0.5414\n",
      "Epoch 00007: val_accuracy did not improve from 0.60469\n",
      "5468/5468 [==============================] - 153s 28ms/step - loss: 1.0577 - accuracy: 0.5414 - val_loss: 1.3718 - val_accuracy: 0.5062 - lr: 1.0000e-04\n",
      "Epoch 8/50\n",
      "5468/5468 [==============================] - ETA: 0s - loss: 1.0511 - accuracy: 0.5451\n",
      "Epoch 00008: val_accuracy did not improve from 0.60469\n",
      "5468/5468 [==============================] - 153s 28ms/step - loss: 1.0511 - accuracy: 0.5451 - val_loss: 1.3510 - val_accuracy: 0.5493 - lr: 1.0000e-04\n",
      "Epoch 9/50\n",
      "5467/5468 [============================>.] - ETA: 0s - loss: 1.0413 - accuracy: 0.5494\n",
      "Epoch 00009: val_accuracy did not improve from 0.60469\n",
      "5468/5468 [==============================] - 153s 28ms/step - loss: 1.0413 - accuracy: 0.5494 - val_loss: 1.3560 - val_accuracy: 0.5516 - lr: 1.0000e-04\n",
      "Epoch 10/50\n",
      "5467/5468 [============================>.] - ETA: 0s - loss: 1.0337 - accuracy: 0.5529\n",
      "Epoch 00010: val_accuracy did not improve from 0.60469\n",
      "5468/5468 [==============================] - 153s 28ms/step - loss: 1.0338 - accuracy: 0.5529 - val_loss: 1.3345 - val_accuracy: 0.5561 - lr: 1.0000e-04\n",
      "Epoch 11/50\n",
      "5467/5468 [============================>.] - ETA: 0s - loss: 1.0242 - accuracy: 0.5532\n",
      "Epoch 00011: val_accuracy did not improve from 0.60469\n",
      "5468/5468 [==============================] - 151s 28ms/step - loss: 1.0242 - accuracy: 0.5532 - val_loss: 1.3234 - val_accuracy: 0.5574 - lr: 1.0000e-04\n",
      "Epoch 12/50\n",
      "5467/5468 [============================>.] - ETA: 0s - loss: 1.0094 - accuracy: 0.5551\n",
      "Epoch 00012: val_accuracy did not improve from 0.60469\n",
      "5468/5468 [==============================] - 150s 27ms/step - loss: 1.0094 - accuracy: 0.5551 - val_loss: 1.3010 - val_accuracy: 0.5619 - lr: 1.0000e-04\n",
      "Epoch 13/50\n",
      "5467/5468 [============================>.] - ETA: 0s - loss: 0.9931 - accuracy: 0.5606\n",
      "Epoch 00013: val_accuracy did not improve from 0.60469\n",
      "5468/5468 [==============================] - 152s 28ms/step - loss: 0.9931 - accuracy: 0.5606 - val_loss: 1.2839 - val_accuracy: 0.5654 - lr: 1.0000e-04\n",
      "Epoch 14/50\n",
      "5467/5468 [============================>.] - ETA: 0s - loss: 0.9763 - accuracy: 0.5657\n",
      "Epoch 00014: val_accuracy did not improve from 0.60469\n",
      "5468/5468 [==============================] - 152s 28ms/step - loss: 0.9763 - accuracy: 0.5657 - val_loss: 1.2524 - val_accuracy: 0.5716 - lr: 1.0000e-04\n",
      "Epoch 15/50\n",
      "5467/5468 [============================>.] - ETA: 0s - loss: 0.9579 - accuracy: 0.5693\n",
      "Epoch 00015: val_accuracy did not improve from 0.60469\n",
      "5468/5468 [==============================] - 152s 28ms/step - loss: 0.9579 - accuracy: 0.5693 - val_loss: 1.2826 - val_accuracy: 0.5509 - lr: 1.0000e-04\n",
      "Epoch 16/50\n",
      "5466/5468 [============================>.] - ETA: 0s - loss: 0.9456 - accuracy: 0.5749\n",
      "Epoch 00016: val_accuracy did not improve from 0.60469\n",
      "5468/5468 [==============================] - 152s 28ms/step - loss: 0.9457 - accuracy: 0.5749 - val_loss: 1.2380 - val_accuracy: 0.5706 - lr: 1.0000e-04\n",
      "Epoch 17/50\n",
      "5466/5468 [============================>.] - ETA: 0s - loss: 0.9363 - accuracy: 0.5802\n",
      "Epoch 00017: val_accuracy did not improve from 0.60469\n",
      "5468/5468 [==============================] - 152s 28ms/step - loss: 0.9362 - accuracy: 0.5802 - val_loss: 1.2553 - val_accuracy: 0.5731 - lr: 1.0000e-04\n",
      "Epoch 18/50\n",
      "5466/5468 [============================>.] - ETA: 0s - loss: 0.9280 - accuracy: 0.5840\n",
      "Epoch 00018: val_accuracy did not improve from 0.60469\n",
      "5468/5468 [==============================] - 152s 28ms/step - loss: 0.9280 - accuracy: 0.5841 - val_loss: 1.2265 - val_accuracy: 0.5816 - lr: 1.0000e-04\n",
      "Epoch 19/50\n",
      "5468/5468 [==============================] - ETA: 0s - loss: 0.9212 - accuracy: 0.5878\n",
      "Epoch 00019: val_accuracy did not improve from 0.60469\n",
      "5468/5468 [==============================] - 150s 27ms/step - loss: 0.9212 - accuracy: 0.5878 - val_loss: 1.2275 - val_accuracy: 0.5814 - lr: 1.0000e-04\n",
      "Epoch 20/50\n",
      "5468/5468 [==============================] - ETA: 0s - loss: 0.9147 - accuracy: 0.5904\n",
      "Epoch 00020: val_accuracy did not improve from 0.60469\n",
      "5468/5468 [==============================] - 151s 28ms/step - loss: 0.9147 - accuracy: 0.5904 - val_loss: 1.2065 - val_accuracy: 0.5864 - lr: 1.0000e-04\n",
      "Epoch 21/50\n",
      "5467/5468 [============================>.] - ETA: 0s - loss: 0.9091 - accuracy: 0.5935\n",
      "Epoch 00021: val_accuracy did not improve from 0.60469\n",
      "5468/5468 [==============================] - 150s 28ms/step - loss: 0.9091 - accuracy: 0.5935 - val_loss: 1.2006 - val_accuracy: 0.5906 - lr: 1.0000e-04\n",
      "Epoch 22/50\n",
      "5468/5468 [==============================] - ETA: 0s - loss: 0.9039 - accuracy: 0.5960\n",
      "Epoch 00022: val_accuracy did not improve from 0.60469\n",
      "5468/5468 [==============================] - 150s 27ms/step - loss: 0.9039 - accuracy: 0.5960 - val_loss: 1.1991 - val_accuracy: 0.5920 - lr: 1.0000e-04\n",
      "Epoch 23/50\n",
      "5468/5468 [==============================] - ETA: 0s - loss: 0.8992 - accuracy: 0.5984\n",
      "Epoch 00023: val_accuracy did not improve from 0.60469\n",
      "5468/5468 [==============================] - 151s 28ms/step - loss: 0.8992 - accuracy: 0.5984 - val_loss: 1.1939 - val_accuracy: 0.5961 - lr: 1.0000e-04\n",
      "Epoch 24/50\n",
      "5468/5468 [==============================] - ETA: 0s - loss: 0.8951 - accuracy: 0.5993\n",
      "Epoch 00024: val_accuracy did not improve from 0.60469\n",
      "5468/5468 [==============================] - 150s 27ms/step - loss: 0.8951 - accuracy: 0.5993 - val_loss: 1.1971 - val_accuracy: 0.5890 - lr: 1.0000e-04\n",
      "Epoch 25/50\n",
      "5466/5468 [============================>.] - ETA: 0s - loss: 0.8907 - accuracy: 0.6007\n",
      "Epoch 00025: val_accuracy did not improve from 0.60469\n",
      "5468/5468 [==============================] - 151s 28ms/step - loss: 0.8907 - accuracy: 0.6007 - val_loss: 1.2082 - val_accuracy: 0.5884 - lr: 1.0000e-04\n",
      "Epoch 26/50\n",
      "5468/5468 [==============================] - ETA: 0s - loss: 0.8869 - accuracy: 0.6036\n",
      "Epoch 00026: ReduceLROnPlateau reducing learning rate to 2.499999936844688e-05.\n",
      "\n",
      "Epoch 00026: val_accuracy did not improve from 0.60469\n",
      "5468/5468 [==============================] - 152s 28ms/step - loss: 0.8869 - accuracy: 0.6036 - val_loss: 1.1975 - val_accuracy: 0.5924 - lr: 1.0000e-04\n",
      "Epoch 27/50\n"
     ]
    },
    {
     "name": "stdout",
     "output_type": "stream",
     "text": [
      "5466/5468 [============================>.] - ETA: 0s - loss: 0.8762 - accuracy: 0.6089\n",
      "Epoch 00027: val_accuracy did not improve from 0.60469\n",
      "5468/5468 [==============================] - 154s 28ms/step - loss: 0.8762 - accuracy: 0.6089 - val_loss: 1.1925 - val_accuracy: 0.5914 - lr: 2.5000e-05\n",
      "Epoch 28/50\n",
      "5468/5468 [==============================] - ETA: 0s - loss: 0.8743 - accuracy: 0.6098\n",
      "Epoch 00028: val_accuracy did not improve from 0.60469\n",
      "5468/5468 [==============================] - 152s 28ms/step - loss: 0.8743 - accuracy: 0.6098 - val_loss: 1.1895 - val_accuracy: 0.5939 - lr: 2.5000e-05\n",
      "Epoch 29/50\n",
      "5466/5468 [============================>.] - ETA: 0s - loss: 0.8728 - accuracy: 0.6106\n",
      "Epoch 00029: ReduceLROnPlateau reducing learning rate to 6.24999984211172e-06.\n",
      "\n",
      "Epoch 00029: val_accuracy did not improve from 0.60469\n",
      "5468/5468 [==============================] - 152s 28ms/step - loss: 0.8728 - accuracy: 0.6106 - val_loss: 1.1863 - val_accuracy: 0.5934 - lr: 2.5000e-05\n",
      "Epoch 30/50\n",
      "5468/5468 [==============================] - ETA: 0s - loss: 0.8696 - accuracy: 0.6121\n",
      "Epoch 00030: val_accuracy did not improve from 0.60469\n",
      "5468/5468 [==============================] - 152s 28ms/step - loss: 0.8696 - accuracy: 0.6121 - val_loss: 1.1810 - val_accuracy: 0.5967 - lr: 6.2500e-06\n",
      "Epoch 31/50\n",
      "5468/5468 [==============================] - ETA: 0s - loss: 0.8691 - accuracy: 0.6123\n",
      "Epoch 00031: val_accuracy did not improve from 0.60469\n",
      "5468/5468 [==============================] - 154s 28ms/step - loss: 0.8691 - accuracy: 0.6123 - val_loss: 1.1815 - val_accuracy: 0.5979 - lr: 6.2500e-06\n",
      "Epoch 32/50\n",
      "5468/5468 [==============================] - ETA: 0s - loss: 0.8688 - accuracy: 0.6125 ETA: 0s - loss: 0.8688 - ac\n",
      "Epoch 00032: val_accuracy did not improve from 0.60469\n",
      "5468/5468 [==============================] - 154s 28ms/step - loss: 0.8688 - accuracy: 0.6125 - val_loss: 1.1812 - val_accuracy: 0.5979 - lr: 6.2500e-06\n",
      "Epoch 33/50\n",
      "5466/5468 [============================>.] - ETA: 0s - loss: 0.8684 - accuracy: 0.6129\n",
      "Epoch 00033: val_accuracy did not improve from 0.60469\n",
      "5468/5468 [==============================] - 155s 28ms/step - loss: 0.8684 - accuracy: 0.6128 - val_loss: 1.1839 - val_accuracy: 0.5954 - lr: 6.2500e-06\n",
      "Epoch 34/50\n",
      "5468/5468 [==============================] - ETA: 0s - loss: 0.8681 - accuracy: 0.6129\n",
      "Epoch 00034: ReduceLROnPlateau reducing learning rate to 1.56249996052793e-06.\n",
      "\n",
      "Epoch 00034: val_accuracy did not improve from 0.60469\n",
      "5468/5468 [==============================] - 154s 28ms/step - loss: 0.8681 - accuracy: 0.6129 - val_loss: 1.1806 - val_accuracy: 0.5968 - lr: 6.2500e-06\n",
      "Epoch 35/50\n",
      "5468/5468 [==============================] - ETA: 0s - loss: 0.8673 - accuracy: 0.6129\n",
      "Epoch 00035: val_accuracy did not improve from 0.60469\n",
      "5468/5468 [==============================] - 154s 28ms/step - loss: 0.8673 - accuracy: 0.6129 - val_loss: 1.1809 - val_accuracy: 0.5976 - lr: 1.5625e-06\n",
      "Epoch 36/50\n",
      "5466/5468 [============================>.] - ETA: 0s - loss: 0.8672 - accuracy: 0.6133\n",
      "Epoch 00036: val_accuracy did not improve from 0.60469\n",
      "5468/5468 [==============================] - 154s 28ms/step - loss: 0.8672 - accuracy: 0.6133 - val_loss: 1.1806 - val_accuracy: 0.5976 - lr: 1.5625e-06\n",
      "Epoch 37/50\n",
      "5468/5468 [==============================] - ETA: 0s - loss: 0.8671 - accuracy: 0.6132\n",
      "Epoch 00037: ReduceLROnPlateau reducing learning rate to 3.906249901319825e-07.\n",
      "\n",
      "Epoch 00037: val_accuracy did not improve from 0.60469\n",
      "5468/5468 [==============================] - 154s 28ms/step - loss: 0.8671 - accuracy: 0.6132 - val_loss: 1.1825 - val_accuracy: 0.5963 - lr: 1.5625e-06\n",
      "Epoch 38/50\n",
      "5467/5468 [============================>.] - ETA: 0s - loss: 0.8669 - accuracy: 0.6133\n",
      "Epoch 00038: val_accuracy did not improve from 0.60469\n",
      "5468/5468 [==============================] - 154s 28ms/step - loss: 0.8669 - accuracy: 0.6133 - val_loss: 1.1803 - val_accuracy: 0.5971 - lr: 3.9062e-07\n",
      "Epoch 39/50\n",
      "5466/5468 [============================>.] - ETA: 0s - loss: 0.8667 - accuracy: 0.6133\n",
      "Epoch 00039: val_accuracy did not improve from 0.60469\n",
      "5468/5468 [==============================] - 154s 28ms/step - loss: 0.8667 - accuracy: 0.6133 - val_loss: 1.1806 - val_accuracy: 0.5975 - lr: 3.9062e-07\n",
      "Epoch 40/50\n",
      "5468/5468 [==============================] - ETA: 0s - loss: 0.8668 - accuracy: 0.6135\n",
      "Epoch 00040: ReduceLROnPlateau reducing learning rate to 1e-07.\n",
      "\n",
      "Epoch 00040: val_accuracy did not improve from 0.60469\n",
      "5468/5468 [==============================] - 154s 28ms/step - loss: 0.8668 - accuracy: 0.6135 - val_loss: 1.1802 - val_accuracy: 0.5976 - lr: 3.9062e-07\n",
      "Epoch 41/50\n",
      "5466/5468 [============================>.] - ETA: 0s - loss: 0.8669 - accuracy: 0.6135\n",
      "Epoch 00041: val_accuracy did not improve from 0.60469\n",
      "5468/5468 [==============================] - 154s 28ms/step - loss: 0.8669 - accuracy: 0.6135 - val_loss: 1.1806 - val_accuracy: 0.5974 - lr: 1.0000e-07\n",
      "Epoch 42/50\n",
      "5467/5468 [============================>.] - ETA: 0s - loss: 0.8667 - accuracy: 0.6134\n",
      "Epoch 00042: val_accuracy did not improve from 0.60469\n",
      "5468/5468 [==============================] - 167s 31ms/step - loss: 0.8667 - accuracy: 0.6135 - val_loss: 1.1808 - val_accuracy: 0.5973 - lr: 1.0000e-07\n",
      "Epoch 43/50\n",
      "5468/5468 [==============================] - ETA: 0s - loss: 0.8666 - accuracy: 0.6136\n",
      "Epoch 00043: val_accuracy did not improve from 0.60469\n",
      "5468/5468 [==============================] - 162s 30ms/step - loss: 0.8666 - accuracy: 0.6136 - val_loss: 1.1809 - val_accuracy: 0.5974 - lr: 1.0000e-07\n",
      "Epoch 44/50\n",
      "5467/5468 [============================>.] - ETA: 0s - loss: 0.8667 - accuracy: 0.6136\n",
      "Epoch 00044: val_accuracy did not improve from 0.60469\n",
      "5468/5468 [==============================] - 164s 30ms/step - loss: 0.8667 - accuracy: 0.6136 - val_loss: 1.1809 - val_accuracy: 0.5973 - lr: 1.0000e-07\n",
      "Epoch 00044: early stopping\n"
     ]
    }
   ],
   "source": [
    "model = tf.keras.Sequential([\n",
    "    encoder,\n",
    "    word2vec.layers[0],\n",
    "    tf.keras.layers.LSTM(64),\n",
    "    tf.keras.layers.Dense(10, activation='softmax')\n",
    "])\n",
    "\n",
    "model.layers[0].trainable = False\n",
    "model.layers[1].trainable = False\n",
    "\n",
    "model.compile(\n",
    "    loss=tf.keras.losses.SparseCategoricalCrossentropy(from_logits=False),\n",
    "    optimizer=tf.keras.optimizers.Adam(1e-4),\n",
    "    metrics=['accuracy']\n",
    ")\n",
    "\n",
    "\n",
    "history_classifier = model.fit(\n",
    "    X_train, y_train, \n",
    "    epochs=50,           \n",
    "    validation_data=(X_val, y_val),\n",
    "    batch_size=32,\n",
    "    callbacks=[earlystop, learning_rate, model_checkpoint],\n",
    "    class_weight=class_weight\n",
    ")"
   ]
  },
  {
   "cell_type": "code",
   "execution_count": 83,
   "metadata": {},
   "outputs": [
    {
     "data": {
      "image/png": "[encoded data removed]",
      "text/plain": [
       "<Figure size 432x288 with 1 Axes>"
      ]
     },
     "metadata": {
      "needs_background": "light"
     },
     "output_type": "display_data"
    },
    {
     "data": {
      "image/png": "[encoded data removed]",
      "text/plain": [
       "<Figure size 432x288 with 1 Axes>"
      ]
     },
     "metadata": {
      "needs_background": "light"
     },
     "output_type": "display_data"
    },
    {
     "data": {
      "text/plain": [
       "<Figure size 432x288 with 0 Axes>"
      ]
     },
     "metadata": {},
     "output_type": "display_data"
    }
   ],
   "source": [
    "import matplotlib.pyplot as plt\n",
    "\n",
    "acc = history_classifier.history['accuracy']\n",
    "loss = history_classifier.history['loss']\n",
    "val_acc = history_classifier.history['val_accuracy']\n",
    "val_loss = history_classifier.history['val_loss']\n",
    "\n",
    "epochs = range(len(acc))\n",
    "\n",
    "plt.plot(epochs, acc, 'r', label='Training accuracy')\n",
    "plt.plot(epochs, val_acc, 'b', label='Validation accuracy')\n",
    "plt.title('Accuracy')\n",
    "plt.legend()\n",
    "plt.figure()\n",
    "\n",
    "plt.plot(epochs, loss, 'r', label='Training loss')\n",
    "plt.plot(epochs, val_loss, 'b', label='Validation loss')\n",
    "plt.title('Accuracy and loss')\n",
    "plt.legend()\n",
    "plt.figure()\n",
    "\n",
    "\n",
    "plt.show()"
   ]
  },
  {
   "cell_type": "code",
   "execution_count": 84,
   "metadata": {},
   "outputs": [
    {
     "name": "stderr",
     "output_type": "stream",
     "text": [
      "WARNING:absl:Found untraced functions such as lstm_cell_12_layer_call_fn, lstm_cell_12_layer_call_and_return_conditional_losses, lstm_cell_12_layer_call_fn, lstm_cell_12_layer_call_and_return_conditional_losses, lstm_cell_12_layer_call_and_return_conditional_losses while saving (showing 5 of 5). These functions will not be directly callable after loading.\n"
     ]
    },
    {
     "name": "stdout",
     "output_type": "stream",
     "text": [
      "INFO:tensorflow:Assets written to: non-bidirection\\assets\n"
     ]
    },
    {
     "name": "stderr",
     "output_type": "stream",
     "text": [
      "INFO:tensorflow:Assets written to: non-bidirection\\assets\n",
      "WARNING:absl:<keras.layers.recurrent.LSTMCell object at 0x00000246DF7C1708> has the same name 'LSTMCell' as a built-in Keras object. Consider renaming <class 'keras.layers.recurrent.LSTMCell'> to avoid naming conflicts when loading with `tf.keras.models.load_model`. If renaming is not possible, pass the object in the `custom_objects` parameter of the load function.\n"
     ]
    }
   ],
   "source": [
    "model.save('non-bidirection')"
   ]
  },
  {
   "cell_type": "code",
   "execution_count": null,
   "metadata": {},
   "outputs": [],
   "source": []
  }
 ],
 "metadata": {
  "kernelspec": {
   "display_name": "Python 3",
   "language": "python",
   "name": "python3"
  },
  "language_info": {
   "codemirror_mode": {
    "name": "ipython",
    "version": 3
   },
   "file_extension": ".py",
   "mimetype": "text/x-python",
   "name": "python",
   "nbconvert_exporter": "python",
   "pygments_lexer": "ipython3",
   "version": "3.7.5"
  }
 },
 "nbformat": 4,
 "nbformat_minor": 4
}
